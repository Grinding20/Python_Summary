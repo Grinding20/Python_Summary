{
 "cells": [
  {
   "cell_type": "markdown",
   "metadata": {},
   "source": [
    "###### 注：本版总结基于c语言的总结，但是哈希的思想在编程中都是相通的，而且这个总结真的是特别简单易懂的了"
   ]
  },
  {
   "cell_type": "markdown",
   "metadata": {},
   "source": [
    "## 哈希表"
   ]
  },
  {
   "cell_type": "markdown",
   "metadata": {},
   "source": [
    "- Hash表也称散列表，也有直接译作哈希表\n",
    "- Hash表是一种特殊的数据结构，它同数组、链表以及二叉排序树等相比较有很明显的区别\n",
    "- 它能够快速定位到想要查找的记录，而不是与表中存在的记录的关键字进行比较来进行查找\n",
    "- 这个源于Hash表设计的特殊性，它采用了**函数映射的思想**将记录的存储位置与记录的关键字关联起来，从而能够很快速地进行查找"
   ]
  },
  {
   "cell_type": "markdown",
   "metadata": {},
   "source": [
    "#### 1.Hash表的设计思想"
   ]
  },
  {
   "cell_type": "markdown",
   "metadata": {},
   "source": [
    "例：现要存储联系人如下：\n",
    "\n",
    "张三 13980593357\n",
    "李四 15828662334\n",
    "王五 13409821234\n",
    "张帅 13890583472"
   ]
  },
  {
   "cell_type": "markdown",
   "metadata": {},
   "source": [
    ">a:链表(可以理解为列表）\n",
    "\n",
    "- 对于一般的线性表，比如链表，如果要存储联系人信息：那么可能会设计一个结构体包含姓名，手机号码这些信息，然后把4个联系人的信息存到一张链表中。\n",
    "- 当要查找”李四 15828662334“这条记录是否在这张链表中或者想要得到李四的手机号码时，可能会从链表的头结点开始遍历，依次将每个结点中的姓名同”李四“进行比较，直到查找成功或者失败为止\n",
    "- 这种做法的时间复杂度为O(n)。"
   ]
  },
  {
   "cell_type": "markdown",
   "metadata": {},
   "source": [
    ">b:二叉排序树（利用二分的思想）\n",
    "\n",
    "- 其时间复杂度也为O(logn)　"
   ]
  },
  {
   "cell_type": "markdown",
   "metadata": {},
   "source": [
    ">c:哈希表\n",
    "\n",
    "- Hash表采用一个映射函数 f : key —> address 将关键字映射到该记录在表中的存储位置，从而在想要查找该记录时，可以直接根据关键字和映射关系计算出该记录在表中的存储位置\n",
    "- 通常情况下，这种映射关系称作为Hash函数，而通过Hash函数和关键字计算出来的存储位置(注意这里的存储位置只是表中的存储位置，并不是实际的物理地址)称作为Hash地址\n",
    "- 比如上述例子中，假如联系人信息采用Hash表存储，则当想要找到“李四”的信息时，直接根据“李四”和Hash函数计算出Hash地址即可。"
   ]
  },
  {
   "cell_type": "markdown",
   "metadata": {},
   "source": [
    "## 哈希函数"
   ]
  },
  {
   "cell_type": "markdown",
   "metadata": {},
   "source": [
    "#### A. Hash函数的设计\n",
    "\n",
    "-  Hash函数设计的好坏直接影响到对Hash表的操作效率。\n",
    "  - 下面举例说明：\n",
    "\n",
    "　　假如对上述的联系人信息进行存储时，采用的Hash函数为：姓名的每个字的拼音开头大写字母的ASCII码之和。\n",
    "\n",
    "　　因此address(张三)=ASCII(Z)+ASCII(S)=90+83=173;\n",
    "\n",
    "　　　　address(李四)=ASCII(L)+ASCII(S)=76+83=159;\n",
    "\n",
    "　　　　address(王五)=ASCII(W)+ASCII(W)=87+87=174;\n",
    "\n",
    "　　　　address(张帅)=ASCII(Z)+ASCII(S)=90+83=173;\n",
    "\n",
    "-  假如只有这4个联系人信息需要进行存储，这个Hash函数设计的很糟糕。\n",
    "   - 首先，它浪费了大量的存储空间，假如采用char型数组(c语言里的一种数组）存储联系人信息的话，则至少需要开辟174\\*12字节的空间，空间利用率只有4/174，不到5%；\n",
    "   - 另外，根据Hash函数计算结果之后，address(张三)和address(李四)具有相同的地址，这种现象称作冲突，对于174个存储空间中只需要存储4条记录就发生了冲突，这样的Hash函数设计是很不合理的。\n",
    "   - 所以在构造Hash函数时应尽量考虑关键字的分布特点来设计函数使得Hash地址随机均匀地分布在整个地址空间当中。通常有以下几种构造Hash函数的方法："
   ]
  },
  {
   "cell_type": "markdown",
   "metadata": {},
   "source": [
    "-    1)直接定址法\n",
    "\n",
    "　　取关键字或者关键字的某个线性函数为Hash地址，即address(key)=a*key+b;如知道学生的学号从2000开始，最大为4000，则可以将address(key)=key-2000作为Hash地址。\n",
    "\n",
    "- 2)平方取中法\n",
    "\n",
    "　　对关键字进行平方运算，然后取结果的中间几位作为Hash地址。假如有以下关键字序列{421，423，436}，平方之后的结果为{177241，178929，190096}，那么可以取{72，89，00}作为Hash地址。\n",
    "\n",
    "- 3)折叠法\n",
    "\n",
    "　　将关键字拆分成几部分，然后将这几部分组合在一起，以特定的方式进行转化形成Hash地址。假如知道图书的ISBN号为8903-241-23，可以将address(key)=89+03+24+12+3作为Hash地址。\n",
    "\n",
    "- 4)除留取余法\n",
    "\n",
    "　　如果知道Hash表的最大长度为m，可以取不大于m的最大质数p，然后对关键字进行取余运算，address(key)=key%p。\n",
    "\n",
    "　　在这里p的选取非常关键，p选择的好的话，能够最大程度地减少冲突，p一般取不大于m的最大质数。"
   ]
  },
  {
   "cell_type": "markdown",
   "metadata": {},
   "source": [
    "#### B.Hash表大小的确定\n",
    "\n",
    "- Hash表大小的确定也非常关键，如果Hash表的空间远远大于最后实际存储的记录个数，则造成了很大的空间浪费，如果选取小了的话，则容易造成冲突。\n",
    "- 在实际情况中，一般需要根据最终记录存储个数和关键字的分布特点来确定Hash表的大小。\n",
    "- 还有一种情况时可能事先不知道最终需要存储的记录个数，则需要动态维护Hash表的容量，此时可能需要重新计算Hash地址。"
   ]
  },
  {
   "cell_type": "markdown",
   "metadata": {},
   "source": [
    "## 哈希值"
   ]
  },
  {
   "cell_type": "code",
   "execution_count": 3,
   "metadata": {},
   "outputs": [
    {
     "name": "stdout",
     "output_type": "stream",
     "text": [
      "100 530343892119149569 -6640348514304989790\n"
     ]
    }
   ],
   "source": [
    "#可以利用hash()计算对象的哈希值\n",
    "a = hash(100)\n",
    "b = hash(1.23)\n",
    "c = hash('I like you')\n",
    "print(a,b,c)"
   ]
  }
 ],
 "metadata": {
  "kernelspec": {
   "display_name": "Python 3",
   "language": "python",
   "name": "python3"
  },
  "language_info": {
   "codemirror_mode": {
    "name": "ipython",
    "version": 3
   },
   "file_extension": ".py",
   "mimetype": "text/x-python",
   "name": "python",
   "nbconvert_exporter": "python",
   "pygments_lexer": "ipython3",
   "version": "3.6.3"
  }
 },
 "nbformat": 4,
 "nbformat_minor": 2
}
