{
 "cells": [
  {
   "cell_type": "markdown",
   "metadata": {},
   "source": [
    "注：算法执行实际比较(运算)次数与表的大小n直接相关，是n的函数，称为算法的时间复杂度。同时，称n为问题规模。   "
   ]
  },
  {
   "cell_type": "markdown",
   "metadata": {},
   "source": [
    "注：包含查找算法和排序算法"
   ]
  },
  {
   "cell_type": "markdown",
   "metadata": {},
   "source": [
    "## A：查找算法："
   ]
  },
  {
   "cell_type": "markdown",
   "metadata": {},
   "source": [
    "#### 1.顺序查找"
   ]
  },
  {
   "cell_type": "markdown",
   "metadata": {},
   "source": [
    ">A:算法核心:对每一个word，我们都要遍历一个table，比较其中的词与当前的word是否相同，相同就是找到，否则就是没有找到\n",
    "\n",
    ">B:时间复杂度：O(n)\n",
    "\n",
    ">C:顺序查找无内置模块，因为很慢"
   ]
  },
  {
   "cell_type": "code",
   "execution_count": null,
   "metadata": {
    "collapsed": true
   },
   "outputs": [],
   "source": [
    "#算法1-A(别运行)\n",
    "for line in f:#对于文件中的每一行，依次读入\n",
    "    words = [word.split('/')[0] for word in line.split()]\n",
    "    for word in words:#对于每一个word\n",
    "        for item in word_freq_pairs:#遍历一遍table\n",
    "            if word == item[0]:#相同，则词频加一\n",
    "                item[1] += 1\n",
    "                break\n",
    "        else:                  #不同则没有找到，词表table加上这个词\n",
    "            word_freq_pairs.append([word, 1])"
   ]
  },
  {
   "cell_type": "markdown",
   "metadata": {},
   "source": [
    "- words是词表总大小，设为n。\n",
    "- 假设table中词汇是均匀分布的，则对每一个查询词，平均只要遍历到table的一半。这样对一个词汇进行查找所需的比较次数就约为：n/2。 \n",
    "- 对问题规模为n的词表，对长度为m个单词的文本，统计词频需要重复n/2\\*m的比较。"
   ]
  },
  {
   "cell_type": "code",
   "execution_count": 17,
   "metadata": {
    "collapsed": true
   },
   "outputs": [],
   "source": [
    "#算法1-B\n",
    "def count_words_freq(filename, words):\n",
    "    word_freq_pairs = []\n",
    "    with open(filename) as f:\n",
    "        text = f.read()\n",
    "    for word in words:\n",
    "        number = text.count(word)\n",
    "        word_freq_pairs.append([word, number])\n",
    "    return word_freq_pairs"
   ]
  },
  {
   "cell_type": "markdown",
   "metadata": {},
   "source": [
    "- words是词表总大小，设为n。\n",
    "- text是文本大小，假设其长度为k(如果m为文本中的单词书，则k正比于m)\n",
    "- 整个程序是要对词表中所有n个词，来进行text.count(word)，也就是放到长度为k的字符串中，寻找每一个word出现的次数。这个比较，平均每次比较的次数，一般将大于m次(具体可参考字符串匹配的BF算法及KMP算法)。\n",
    "- 因此，最后整个程序，将需要进行判断字符串是否相同m\\*n次(近似次数)"
   ]
  },
  {
   "cell_type": "markdown",
   "metadata": {},
   "source": [
    "#### 2.二分查找/折半查找算法"
   ]
  },
  {
   "cell_type": "markdown",
   "metadata": {},
   "source": [
    ">A:算法核心：对于有序的序列，通过二分的思想，将查找的步骤降低到log2（n）（详解：要在有序序列numbers中查找某一元素a，首先，将numbers中间位置的项与查找关键字a比较，如果两者相等，则查找成功（当然了，一般都不相等）；否则，利用中间项将numbers分成前后两个部分，如果中间项大于a，则查找前一部分，否则查找后一部分。重复以上过程，直到找到a，即查找成功，否则查找失败。\n",
    "\n",
    ">B:时间复杂度:O(log2(n))\n",
    "\n",
    ">C:二分查找有内置模块，即bisect模块\n",
    "\n",
    ">D:二分查找的前提：初始序列有序（排序算法详见下方B：排序算法）\n"
   ]
  },
  {
   "cell_type": "code",
   "execution_count": 51,
   "metadata": {
    "scrolled": true
   },
   "outputs": [
    {
     "name": "stdout",
     "output_type": "stream",
     "text": [
      "[0, 1, 4, 9, 16, 25, 36, 49, 64, 81]\n",
      "-1\n",
      "3\n"
     ]
    }
   ],
   "source": [
    "# 算法2-A(二分查找的递归算法)\n",
    "def bi_search(a, numbers, low, high):\n",
    "    if low > high:\n",
    "        return -1         #查找失败，返回-1\n",
    "    else:\n",
    "        mid = (low+high)//2  #计算中间位置\n",
    "        if a == numbers[mid]:  #等于，返回中间项\n",
    "            return mid\n",
    "        elif a > numbers[mid]: #大于，查找后一部分\n",
    "            return bi_search(a, numbers, mid+1, high)\n",
    "        else:                  #其他，即小于，查找前一部分\n",
    "            return bi_search(a, numbers, low, mid-1)\n",
    "            \n",
    "# 测试用\n",
    "nums = [x*x for x in range(10)]\n",
    "print(nums)\n",
    "print(bi_search(26, nums, 0, 9))\n",
    "print(bi_search(9, nums, 0, 9))"
   ]
  },
  {
   "cell_type": "code",
   "execution_count": 52,
   "metadata": {},
   "outputs": [
    {
     "name": "stdout",
     "output_type": "stream",
     "text": [
      "[0, 1, 8, 27, 64, 125, 216, 343, 512, 729]\n",
      "1\n",
      "2\n"
     ]
    }
   ],
   "source": [
    "#二分查找的非递归实现\n",
    "def bi_search_2(a, numbers):\n",
    "    low = 0                      #左边界\n",
    "    high = len(numbers)-1        #右边界\n",
    "    while low <= high:           #左边界小于右边界，则循环\n",
    "        mid = (low+high)//2      #计算中间位置\n",
    "        if numbers[mid] < a:     #小于\n",
    "            low = mid+1          #调整左边界\n",
    "        elif  numbers[mid] > a:  #大于\n",
    "            high = mid-1         #调整右边界\n",
    "        else :                   #等于\n",
    "            return mid           #返回中间项\n",
    "    return -1                    #查找失败，返回-1\n",
    "            \n",
    "# 测试用\n",
    "nums = [x*x*x for x in range(10)]\n",
    "print(nums)\n",
    "print(bi_search_2(1, nums))\n",
    "print(bi_search_2(8, nums))"
   ]
  },
  {
   "cell_type": "markdown",
   "metadata": {},
   "source": [
    "#### 二分查找的内置模块，bisect模块"
   ]
  },
  {
   "cell_type": "markdown",
   "metadata": {},
   "source": [
    "- bisect是标准库中的二分查找模块，内置有多个方法。\n",
    "  - **在序列中间，插入某不重复一对象的方法：**bisect.bisect_left(..., x)方法接受两个参数，第一个是正序序列，第二个是任意可与序列中元素进行大小比较的对象x。该方法会查找x在序列中的插入位置，这意味着，在序列中插入x以后，序列仍然保持有序。如果x大于序列中最大的对象，则返回序列长度，如果x小于序列中最小的对象，则返回0。在序列中如果有对象与对象x大小相同，返回该对象在序列中的索引。\n",
    "  - **在任意位置，插入某一对象的方法**bisect.insort_left(..., x)方法接受两个参数，第一个是正序序列，第二个是任意可与序列中元素进行大小比较的对象x。该方法会查找x在序列中的插入位置，并将其插入，并使序列仍然保持有序。如果x大于序列中最大的对象，插入在序列尾部，如果x小于序列中最小的对象，则插入在序列首部。在序列中如果有对象与对象x大小相同，则插入在该对象的左侧。"
   ]
  },
  {
   "cell_type": "markdown",
   "metadata": {},
   "source": [
    "- **bisect模块的六种方法：**"
   ]
  },
  {
   "cell_type": "markdown",
   "metadata": {},
   "source": [
    "- bisect.bisect_left(a, x, lo=0, hi=len(a))\n",
    "\n",
    "Locate the insertion point for x in a to maintain sorted order. The parameters lo and hi may be used to specify a subset of the list which should be considered; by default the entire list is used. If x is already present in a, the insertion point will be before (to the left of) any existing entries. The return value is suitable for use as the first parameter to list.insert() assuming that a is already sorted.\n",
    "The returned insertion point i partitions the array a into two halves so that all(val < x for val in a[lo:i]) for the left side and all(val >= x for val in a[i:hi]) for the right side.\n",
    "\n",
    "- bisect.bisect_right(a, x, lo=0, hi=len(a))\n",
    "- bisect.bisect(a, x, lo=0, hi=len(a))\n",
    "\n",
    "Similar to bisect_left(), but returns an insertion point which comes after (to the right of) any existing entries of x in a.\n",
    "The returned insertion point i partitions the array a into two halves so that all(val <= x for val in a[lo:i]) for the left side and all(val > x for val in a[i:hi]) for the right side.\n",
    "\n",
    "- bisect.insort_left(a, x, lo=0, hi=len(a))\n",
    "\n",
    "Insert x in a in sorted order. This is equivalent to a.insert(bisect.bisect_left(a, x, lo, hi), x) assuming that a is already sorted. Keep in mind that the O(log n) search is dominated by the slow O(n) insertion step.\n",
    "\n",
    "- bisect.insort_right(a, x, lo=0, hi=len(a))\n",
    "- bisect.insort(a, x, lo=0, hi=len(a))。\n",
    "\n",
    "Similar to insort_left(), but inserting x in a after any existing entries of x.\n",
    "\n",
    "详细用法见：https://docs.python.org/3/library/bisect.html"
   ]
  },
  {
   "cell_type": "code",
   "execution_count": 27,
   "metadata": {
    "scrolled": true
   },
   "outputs": [
    {
     "name": "stdout",
     "output_type": "stream",
     "text": [
      "[0, 1, 2, 3, 4, 5, 6, 7, 8, 9, 10, 11, 12, 13, 14, 15, 16, 17, 18, 19]\n",
      "返回索引，并不插入： 5\n",
      "[0, 1, 2, 3, 4, 5, 6, 7, 8, 9, 10, 11, 12, 13, 14, 15, 16, 17, 18, 19]\n",
      "None\n",
      "[0, 1, 2, 3, 4, 5, 5.5, 6, 7, 8, 9, 10, 11, 12, 13, 14, 15, 16, 17, 18, 19]\n"
     ]
    }
   ],
   "source": [
    "import bisect\n",
    "a = [i for i in range(20)]\n",
    "print(a)\n",
    "print('返回索引，并不插入：',bisect.bisect_left(a, 5))\n",
    "print(a)\n",
    "print(bisect.insort_left(a, 5.5))\n",
    "print(a)"
   ]
  },
  {
   "cell_type": "markdown",
   "metadata": {},
   "source": [
    "## B.排序算法："
   ]
  },
  {
   "cell_type": "markdown",
   "metadata": {},
   "source": [
    "#### 1.基础排序算法中的简单选择排序"
   ]
  },
  {
   "cell_type": "markdown",
   "metadata": {},
   "source": [
    ">A:算法核心：对于包含N个元素的列表A，按递增顺序排序的选择法的思想是：每次在若干无序数据中查找最小的数，并放在无序数据的首位。\n",
    "\n",
    ">B:时间复杂度：主要的时间消耗是比较次数，总次数 ==（N-1)+(N-2)+ … +2+1 ，所以时间复杂度为 O（n\\*n）\n",
    "\n",
    ">C:简单选择排序无内置算法，因为很慢"
   ]
  },
  {
   "cell_type": "code",
   "execution_count": 53,
   "metadata": {},
   "outputs": [
    {
     "name": "stdout",
     "output_type": "stream",
     "text": [
      "begin: [2, 1, 0, -1, -2]\n",
      "[1, 2, 0, -1, -2]\n",
      "[0, 2, 1, -1, -2]\n",
      "[-1, 2, 1, 0, -2]\n",
      "[-2, 2, 1, 0, -1]\n",
      "-----\n",
      "[-2, 1, 2, 0, -1]\n",
      "[-2, 0, 2, 1, -1]\n",
      "[-2, -1, 2, 1, 0]\n",
      "-----\n",
      "[-2, -1, 1, 2, 0]\n",
      "[-2, -1, 0, 2, 1]\n",
      "-----\n",
      "[-2, -1, 0, 1, 2]\n",
      "-----\n",
      "[-2, -1, 0, 1, 2]\n"
     ]
    }
   ],
   "source": [
    "def sort_simple_selection(seq):\n",
    "    for i in range(len(seq)-1):\n",
    "        min = i\n",
    "        for j in range(i+1, len(seq)):\n",
    "            if seq[j] < seq[min]:\n",
    "                min = j\n",
    "                seq[i], seq[min] = seq[min], seq[i]\n",
    "            print(numbers)\n",
    "        print('-----')\n",
    "numbers = [2,1,0,-1,-2]\n",
    "print('begin:',numbers)\n",
    "sort_simple_selection(numbers)\n",
    "print(numbers)"
   ]
  },
  {
   "cell_type": "markdown",
   "metadata": {},
   "source": [
    "#### B:快速排序"
   ]
  },
  {
   "cell_type": "markdown",
   "metadata": {},
   "source": [
    ">A:算法核心：通过一次排序将要排序的数列分割成独立的两部分，其中一部分的数据比另一部分的所有数据都小,然后递归进行快速排序\n",
    "\n",
    ">B:时间复杂度：快排的最坏情况是，每次划分选取的基准都是当前无序列表中关键字的最值，时间复杂度为 O（n\\*n）；平均情况下，其时间复杂度为 O（n\\*log2n）\n",
    "\n",
    ">C:快速排序法python已为我们内置，且是基于快速排序算法的改进版本。\n",
    "\n",
    ">D:思想：我们可以利用与二分查找的思路来设计性能更高的排序算法，算法思路是，在待排序序列中，每次选定一个元素p，将其余元素与p依次进行比较，比这个元素小的元素均放到p的左侧，其余元素放到p的右侧。然后，对p的左侧、右侧，再进行同样的算法操作。 \n",
    "\n",
    ">E:针对对象：针对完全无序的序列进行整理排序"
   ]
  },
  {
   "cell_type": "code",
   "execution_count": 54,
   "metadata": {
    "scrolled": false
   },
   "outputs": [
    {
     "name": "stdout",
     "output_type": "stream",
     "text": [
      "[23, 45, 12, 1, 2, 333, 5, 1, 222, 34, -9, -9, -9]\n",
      "[-9, -9, -9, 1, 1, 2, 5, 12, 23, 34, 45, 222, 333]\n"
     ]
    }
   ],
   "source": [
    "# 刘鹏远老师算法\n",
    "# 为了便于理解，算法中利用了2个辅助序列(实际算法实现可无额外序列）\n",
    "# 以seq为数字序列为例\n",
    "def quick_sort(seq):\n",
    "    left_seq =  []\n",
    "    right_seq = []\n",
    "    p=seq[0]\n",
    "    for number in seq[1:]:\n",
    "        if number <= p:\n",
    "            left_seq.append(number)\n",
    "        else:\n",
    "            right_seq.append(number)\n",
    "    if left_seq:\n",
    "        left_seq = quick_sort(left_seq)\n",
    "    if right_seq:\n",
    "        right_seq = quick_sort(right_seq)\n",
    "\n",
    "    return  left_seq + [p] + right_seq\n",
    "\n",
    "#测试\n",
    "numbers = [23,45,12,1,2,333,5,1,222,34,-9,-9,-9]\n",
    "sorted_numbers = quick_sort(numbers)\n",
    "print(numbers)\n",
    "print(sorted_numbers)\n",
    "\n",
    "# 说明：由于quick_sort(...)函数内部并没有对参数seq进行排序，因此最终要返回排好序的序列，而原有的seq也即主程序中的numbers保持不变。"
   ]
  },
  {
   "cell_type": "code",
   "execution_count": 63,
   "metadata": {},
   "outputs": [
    {
     "name": "stdout",
     "output_type": "stream",
     "text": [
      "[-9, -9, -9, 1, 1, 2, 5, 12, 23, 34, 45, 222, 333]\n"
     ]
    }
   ],
   "source": [
    "# 快速排序算法的实现的实际代码：\n",
    "def quick_sort(a,low,high):          #对列表a进行快排，上界为high，下界为low\n",
    "    i = low                          #i等于列表下届\n",
    "    j = high                         #j等于列表上界\n",
    "    if i >= j:                       #下界大于等于上界，返回列表a\n",
    "        return a\n",
    "    key = a[i]                       #设置列表第一个元素作为关键数据\n",
    "    #print(key)                       #调试\n",
    "    while i < j:                     #循环直到i==j\n",
    "        while i < j and a[j] >= key: #j开始向前搜索，直到找到第一个小于key的值a[j]\n",
    "            j = j-1\n",
    "        a[i] = a[j]\n",
    "        while i <j and a[i] <=key:   #i开始向后搜索，直到找到第一个大于key的值a[i]\n",
    "            i = i+1\n",
    "        a[j] = a[i]\n",
    "    a[i] = key\n",
    "   # print(a)                         #调试\n",
    "    quick_sort(a,low,i-1)            #递归调用快排（下界为low，上界为i-1）\n",
    "    quick_sort(a,j+1,high)           #递归调用快排（下界为j+1，上界为high）\n",
    "    return a\n",
    "numbers = [23,45,12,1,2,333,5,1,222,34,-9,-9,-9]\n",
    "quick_sort(numbers,0,len(numbers)-1)\n",
    "print(numbers)"
   ]
  },
  {
   "cell_type": "markdown",
   "metadata": {},
   "source": [
    "#### 快速排序的内置排序算法，sort(),sorted()"
   ]
  },
  {
   "cell_type": "markdown",
   "metadata": {},
   "source": [
    "- sort()是python的list对象的快速排序方法，用法是：列表.sort()，可将列表中的元素进行排序(默认为正序)。注意，列表自身进行了排序。\n",
    "- sorted(...)是python内置的快速排序方法，用法是：sorted(seq)，可返回对序列seq排序后新生成的一个列表。注意，原有序列不变。"
   ]
  },
  {
   "cell_type": "markdown",
   "metadata": {},
   "source": [
    "sort()与sorted()\n",
    "\n",
    ". . .\t|sort()\t|sorted\n",
    ":----: | :-----: | :----:\n",
    "用法|\tsort(*, key=None, reverse=None)\t|sorted(*, key=None, reverse=None)\n",
    "相同1\t|内置，快速排序，针对列表|\t内置，快速排序，针对列表\n",
    "不同1|\t就地排序，原列表改变|\t返回排序后的新列表，原列表不变\n",
    "不同2|\t2个关键字参数(可选)|\t1个序列参数(必选)，2个关键字参数(可选)\n",
    "相同2\t|关键字参数用法相同，任一关键字参数，须加上关键字才能使用\t|关键字参数用法相同，任一关键字参数，须加上关键字才能使用\n",
    "不同3\t|仅针对列表|\t可用于任何可迭代对象"
   ]
  },
  {
   "cell_type": "code",
   "execution_count": 56,
   "metadata": {
    "scrolled": true
   },
   "outputs": [
    {
     "name": "stdout",
     "output_type": "stream",
     "text": [
      "nums =  [-9, -9, -9, 1, 1, 2, 5, 12, 23, 34, 45, 222, 333]\n",
      "numbers in sorted(numbers) =  [23, 45, 12, 1, 2, 333, 5, 1, 222, 34, -9, -9, -9]\n",
      "numbers after numbers.sort() =  [-9, -9, -9, 1, 1, 2, 5, 12, 23, 34, 45, 222, 333]\n"
     ]
    }
   ],
   "source": [
    "# sort(),sorted()示例\n",
    "numbers = [23,45,12,1,2,333,5,1,222,34,-9,-9,-9]\n",
    "nums = sorted(numbers)\n",
    "print('nums = ', nums)\n",
    "print('numbers in sorted(numbers) = ', numbers)\n",
    "numbers.sort()\n",
    "print('numbers after numbers.sort() = ', numbers)"
   ]
  },
  {
   "cell_type": "code",
   "execution_count": 1,
   "metadata": {
    "scrolled": true
   },
   "outputs": [
    {
     "name": "stdout",
     "output_type": "stream",
     "text": [
      "[1, 2, 3, 5, 6, 90]\n",
      "after sorted, a is still old a: [5, 6, 3, 2, 1, 90]\n",
      "after sort, a is not old a: [1, 2, 3, 5, 6, 90]\n",
      "[1, 2, 3, 4, 5]\n",
      "reverse a: [90, 6, 5, 3, 2, 1]\n"
     ]
    }
   ],
   "source": [
    "a = [5,6,3,2,1,90]\n",
    "print(sorted(a))\n",
    "print('after sorted, a is still old a:', a)\n",
    "a.sort()\n",
    "print('after sort, a is not old a:', a)\n",
    "\n",
    "print(sorted({1: 'D', 2: 'B', 3: 'B', 4: 'E', 5: 'A'}))     # 直接对dict进行sort，将仅单独作用于key\n",
    "\n",
    "a.sort(reverse=True)\n",
    "print('reverse a:', a)"
   ]
  },
  {
   "cell_type": "markdown",
   "metadata": {},
   "source": [
    "- sort()及sorted()中的key参数指定一个可返回排序关键字的函数，该函数作用于待排序对象中的每一个元素，sort()及sorted()根据排序关键字进行排序。"
   ]
  },
  {
   "cell_type": "code",
   "execution_count": 3,
   "metadata": {},
   "outputs": [
    {
     "name": "stdout",
     "output_type": "stream",
     "text": [
      "['a', 'Andrew', 'from', 'is', 'string', 'test', 'This']\n",
      "[('dave', 'B', 10), ('jane', 'B', 12), ('john', 'A', 15)] [('john', 'A', 15), ('jane', 'B', 12), ('dave', 'B', 10)]\n",
      "[('john', 'A', 15), ('jane', 'B', 12), ('dave', 'B', 10)]\n"
     ]
    }
   ],
   "source": [
    "a = sorted(\"This is a test string from Andrew\".split(), key=str.lower)  #返回每个字符的小写形式，以其为关键字进行排序\n",
    "print(a)\n",
    "\n",
    "student_tuples = [\n",
    "        ('john', 'A', 15),\n",
    "        ('jane', 'B', 12),\n",
    "        ('dave', 'B', 10),\n",
    "    ]\n",
    "\n",
    "from operator import itemgetter\n",
    "\n",
    "a = sorted(student_tuples, key=itemgetter(2))           # 返回每个对象索引2的元素，以其为关键字对student_tuples排序\n",
    "print(a, student_tuples)\n",
    "student_tuples.sort(key=itemgetter(2), reverse=True)    # key及reverse参数一起使用\n",
    "print(student_tuples)"
   ]
  },
  {
   "cell_type": "markdown",
   "metadata": {},
   "source": [
    "#### C:二分插入排序"
   ]
  },
  {
   "cell_type": "markdown",
   "metadata": {},
   "source": [
    ">A:方法：在任意位置，插入某一对象的方法bisect.insort_left(..., x)方法接受两个参数，第一个是正序序列，第二个是任意可与序列中元素进行大小比较的对象x。该方法会查找x在序列中的插入位置，并将其插入，并使序列仍然保持有序。如果x大于序列中最大的对象，插入在序列尾部，如果x小于序列中最小的对象，则插入在序列首部。在序列中如果有对象与对象x大小相同，则插入在该对象的左侧。\n",
    "\n",
    ">B：针对对象：把无序的一些序列插入到有序的序列里。（注：空列表自然有序，故可利用bisect进行排序）\n",
    "\n",
    ">C：缺点：每次插入元素会导致O(n)的元素移动，将在很大程度上影响程序性能，但预期仍然会比原来顺序查找方法要快很多。 "
   ]
  }
 ],
 "metadata": {
  "kernelspec": {
   "display_name": "Python 3",
   "language": "python",
   "name": "python3"
  },
  "language_info": {
   "codemirror_mode": {
    "name": "ipython",
    "version": 3
   },
   "file_extension": ".py",
   "mimetype": "text/x-python",
   "name": "python",
   "nbconvert_exporter": "python",
   "pygments_lexer": "ipython3",
   "version": "3.6.3"
  }
 },
 "nbformat": 4,
 "nbformat_minor": 2
}
