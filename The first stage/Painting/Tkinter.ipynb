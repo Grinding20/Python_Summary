{
 "cells": [
  {
   "cell_type": "code",
   "execution_count": 2,
   "metadata": {
    "collapsed": true
   },
   "outputs": [],
   "source": [
    "import tkinter\n",
    "import tkinter.messagebox\n",
    "def but():\n",
    "    tkinter.messagebox.showinfo('提示', '人生苦短')\n",
    "    #tkinter.messagebox.showwarning('警告', '明日有大雨')\n",
    "    #tkinter.messagebox.showerror('错误', '出错了')\n",
    "root=tkinter.Tk()\n",
    "root.title('GUI')#标题\n",
    "root.geometry('800x600')#窗体大小\n",
    "root.resizable(False, False)#固定窗体\n",
    "tkinter.Button(root, text='hello button',command=but).pack()\n",
    "root.mainloop()"
   ]
  }
 ],
 "metadata": {
  "kernelspec": {
   "display_name": "Python 3",
   "language": "python",
   "name": "python3"
  },
  "language_info": {
   "codemirror_mode": {
    "name": "ipython",
    "version": 3
   },
   "file_extension": ".py",
   "mimetype": "text/x-python",
   "name": "python",
   "nbconvert_exporter": "python",
   "pygments_lexer": "ipython3",
   "version": "3.6.3"
  }
 },
 "nbformat": 4,
 "nbformat_minor": 2
}
