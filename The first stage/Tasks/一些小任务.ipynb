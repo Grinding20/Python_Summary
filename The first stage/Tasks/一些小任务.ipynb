{
 "cells": [
  {
   "cell_type": "code",
   "execution_count": 8,
   "metadata": {
    "scrolled": true
   },
   "outputs": [
    {
     "name": "stdout",
     "output_type": "stream",
     "text": [
      "请输入一个数字，输入Q/q时结束：Q\n"
     ]
    }
   ],
   "source": [
    "#2.md 练习3：用户可以输入的任意多个数字，直到用户不想输入为止\n",
    "while True:\n",
    "    s = input('请输入一个数字，输入Q/q时结束：')\n",
    "    if s.upper() == 'Q':\n",
    "        break"
   ]
  },
  {
   "cell_type": "code",
   "execution_count": 10,
   "metadata": {
    "scrolled": true
   },
   "outputs": [
    {
     "name": "stdout",
     "output_type": "stream",
     "text": [
      "下面是空行\n",
      "\n",
      "上面是空行\n"
     ]
    }
   ],
   "source": [
    "#3.md 尝试性练习：写程序，能够在屏幕上显示空行\n",
    "print('''下面是空行\n",
    "\n",
    "上面是空行''')"
   ]
  },
  {
   "cell_type": "code",
   "execution_count": 20,
   "metadata": {},
   "outputs": [
    {
     "name": "stdout",
     "output_type": "stream",
     "text": [
      "Second_large_num is: 88\n",
      "Second_large_num is: 88\n"
     ]
    }
   ],
   "source": [
    "#3.md 挑战性练习：写程序，由用户输入一些整数，能够得到几个整数中的次大值(第二大的值)并输出\n",
    "def find_Second_large_num(num_list):\n",
    "    #方法一\n",
    "    #直接排序，输出倒数第二个数即可\n",
    "    tmp_list=sorted(num_list)\n",
    "    print('Second_large_num is:', tmp_list[-2])\n",
    "    #方法二\n",
    "    #设置两个标志位置，one储存最大值，two储存第二大值,遍历一次list即可\n",
    "    #先判断是否大于one，若大于one则将其赋值给one，将one赋值给two\n",
    "    #再判断是否大于two，若大于two则将其赋值给two\n",
    "    #否则pass\n",
    "    one=num_list[0]\n",
    "    two=num_list[0]\n",
    "    for i in range(0,len(num_list)):\n",
    "        if num_list[i]>one:\n",
    "            two=one\n",
    "            one=num_list[i]\n",
    "        elif num_list[i]>two:\n",
    "            two=num_list[i]\n",
    "        else:\n",
    "            pass\n",
    "    print('Second_large_num is:',two)\n",
    "    \n",
    "if __name__=='__main__':\n",
    "    num_list=[11,22,33,44,55,66,77,88,99,12]\n",
    "    find_Second_large_num(num_list)"
   ]
  }
 ],
 "metadata": {
  "kernelspec": {
   "display_name": "Python 3",
   "language": "python",
   "name": "python3"
  },
  "language_info": {
   "codemirror_mode": {
    "name": "ipython",
    "version": 3
   },
   "file_extension": ".py",
   "mimetype": "text/x-python",
   "name": "python",
   "nbconvert_exporter": "python",
   "pygments_lexer": "ipython3",
   "version": "3.6.3"
  }
 },
 "nbformat": 4,
 "nbformat_minor": 2
}
