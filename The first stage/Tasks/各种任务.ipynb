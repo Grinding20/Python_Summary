{
 "cells": [
  {
   "cell_type": "markdown",
   "metadata": {},
   "source": [
    "### 任务一 : 利用蒙特卡洛方法计算π的值"
   ]
  },
  {
   "cell_type": "markdown",
   "metadata": {},
   "source": [
    "计算π的值在现代已经有很多种方式，比如用数列。 蒙特卡洛（Monte Carlo）方法，又称随机抽样或统计试验方法，属于计算数学的一个分支，它是在上世纪四十年代中期为了适应当时原子能事业的发展而发展起来的。目前随着计算机计算能力的提升，数学、物理等多领域均得到广泛应用。当所要求解的问题（问题解析解很难得到的情况下）是某种事件出现的概率，或者是某个随机变量的期望值时，它们可以通过某种“试验”的方法，得到这种事件出现的频率，或者这个随机变数的平均值，并用它们作为问题的解。"
   ]
  },
  {
   "cell_type": "markdown",
   "metadata": {},
   "source": [
    "蒙特卡洛方法一般采用如下模式：\n",
    "\n",
    "定义一个可能的输入域；\n",
    "\n",
    "从输入域的一个可能的概率分布产生随机的输入；\n",
    "\n",
    "对上述随机输入进行确定性的计算；\n",
    "\n",
    "累积并求得结果。\n",
    "\n",
    "比如，对下图所示的正方形与扇形，扇形面积与正方形面积的比是π/4,这样，π的值就可以用蒙特卡洛方法来估计（计算）:\n",
    "\n",
    "画一个正方形，并做其内切圆；\n",
    "\n",
    "以均匀分布向正方形上随机进行散点；\n",
    "\n",
    "计算在扇形内的点的个数以及全部点的个数；\n",
    "\n",
    "以4*扇形内点的个数/全部点的个数来估计π的值。"
   ]
  },
  {
   "cell_type": "code",
   "execution_count": 1,
   "metadata": {},
   "outputs": [
    {
     "name": "stdout",
     "output_type": "stream",
     "text": [
      "input times please:100\n"
     ]
    },
    {
     "data": {
      "text/plain": [
       "3.24"
      ]
     },
     "execution_count": 1,
     "metadata": {},
     "output_type": "execute_result"
    }
   ],
   "source": [
    "import random\n",
    "\n",
    "def monte_carlo_method(n):\n",
    "    inside_number = 0\n",
    "    for i in range(n):\n",
    "        x, y = random.random(),random.random()\n",
    "        if x*x+y*y < 1:\n",
    "            inside_number += 1\n",
    "    return 4*inside_number/n\n",
    "\n",
    "\n",
    "# 测试\n",
    "number = int(input('input times please:'))\n",
    "monte_carlo_method(number)"
   ]
  },
  {
   "cell_type": "code",
   "execution_count": 2,
   "metadata": {
    "scrolled": true
   },
   "outputs": [
    {
     "ename": "SyntaxError",
     "evalue": "invalid character in identifier (<ipython-input-2-a507b5e925e4>, line 1)",
     "output_type": "error",
     "traceback": [
      "\u001b[1;36m  File \u001b[1;32m\"<ipython-input-2-a507b5e925e4>\"\u001b[1;36m, line \u001b[1;32m1\u001b[0m\n\u001b[1;33m    Bokeh的安装。\u001b[0m\n\u001b[1;37m            ^\u001b[0m\n\u001b[1;31mSyntaxError\u001b[0m\u001b[1;31m:\u001b[0m invalid character in identifier\n"
     ]
    }
   ],
   "source": [
    "Bokeh的安装。\n",
    "如果已经安装了Anaconda，则Bokeh库已经在内，无需另行安装。 如果只安装了python及jupyter，则需要Bokeh需要单独安装：\n",
    "进入powershell\n",
    "pip install bokeh   - 安装完毕\n",
    "# 引入figure，output_file及show函数\n",
    "from bokeh.plotting import figure, output_file, show\n",
    "import random\n",
    "\n",
    "# 设定绘图结果将输出到html文件'lines.html'            \n",
    "output_file(\"lines.html\")\n",
    "经过以上几行代码后，就完成了绘图准备工作。\n",
    "\n",
    "# 准备好画布，题目为'蒙特卡洛方法求π'，x轴坐标名称为'x'，y轴坐标名称为'y'\n",
    "p = figure(title=\"蒙特卡洛方法求π\", x_axis_label='x', y_axis_label='y')\n",
    "至此，准备好了画布。\n",
    "\n",
    "inside_number = 0\n",
    "for i in range(500):\n",
    "    x, y = random.random(),random.random()\n",
    "    if x*x+y*y < 1:\n",
    "        p.circle(x, y, size=3, color = 'red')   # circle为画圆函数，x，y为坐标，size为大小，color为颜色\n",
    "    else:\n",
    "        p.circle(x, y, size=3, color = 'blue')\n",
    "至此，500个圆点儿已经画在了画布上，但是还需要加一行代码让其显示出来。\n",
    "\n",
    "# 显示结果\n",
    "show(p)\n",
    "我们还可以将画布直接嵌入到jupyter notebook之中，只需要略作修改。\n",
    "这里将计算与显示分开，先得到两类点的坐标，分别存放在list中，然后一并显示。\n",
    "\n",
    "from bokeh.plotting import figure, output_file, show\n",
    "from bokeh.io import output_notebook\n",
    "import random\n",
    "\n",
    "# 设定绘图结果将输出到notebook中'            \n",
    "output_notebook()\n",
    "\n",
    "# 准备好画布，题目为'蒙特卡洛方法求π'，x轴坐标名称为'x'，y轴坐标名称为'y'\n",
    "p = figure(title=\"蒙特卡洛方法求π\", x_axis_label='x', y_axis_label='y')\n",
    "\n",
    "\n",
    "inside_number = 0\n",
    "inside_xs = []\n",
    "inside_ys = []\n",
    "outside_xs = []\n",
    "outside_ys = []\n",
    "for i in range(500):\n",
    "    x, y = random.random(),random.random()\n",
    "    if x*x+y*y < 1:\n",
    "        inside_xs.append(x)\n",
    "        inside_ys.append(y)\n",
    "    else:\n",
    "        outside_xs.append(x)\n",
    "        outside_ys.append(y)\n",
    "# 画点\n",
    "p.circle(inside_xs, inside_ys, size=3, color = 'red')   # circle为画圆函数，x，y为坐标，size为大小，color为颜色\n",
    "p.circle(outside_xs, outside_ys, size=3, color = 'blue')\n",
    "        \n",
    "# 显示结果\n",
    "show(p)\n",
    "好，至此，我们完成了第一个数据可视化。"
   ]
  },
  {
   "cell_type": "markdown",
   "metadata": {},
   "source": [
    "### 任务二，九九乘法表"
   ]
  },
  {
   "cell_type": "code",
   "execution_count": 3,
   "metadata": {
    "scrolled": true
   },
   "outputs": [
    {
     "name": "stdout",
     "output_type": "stream",
     "text": [
      "------------------------------------------------------------------------------------------------------------\n",
      "|1 x 1 =  1||1 x 2 =  2||1 x 3 =  3||1 x 4 =  4||1 x 5 =  5||1 x 6 =  6||1 x 7 =  7||1 x 8 =  8||1 x 9 =  9|\n",
      "------------------------------------------------------------------------------------------------------------\n",
      "|2 x 1 =  2||2 x 2 =  4||2 x 3 =  6||2 x 4 =  8||2 x 5 = 10||2 x 6 = 12||2 x 7 = 14||2 x 8 = 16||2 x 9 = 18|\n",
      "------------------------------------------------------------------------------------------------------------\n",
      "|3 x 1 =  3||3 x 2 =  6||3 x 3 =  9||3 x 4 = 12||3 x 5 = 15||3 x 6 = 18||3 x 7 = 21||3 x 8 = 24||3 x 9 = 27|\n",
      "------------------------------------------------------------------------------------------------------------\n",
      "|4 x 1 =  4||4 x 2 =  8||4 x 3 = 12||4 x 4 = 16||4 x 5 = 20||4 x 6 = 24||4 x 7 = 28||4 x 8 = 32||4 x 9 = 36|\n",
      "------------------------------------------------------------------------------------------------------------\n",
      "|5 x 1 =  5||5 x 2 = 10||5 x 3 = 15||5 x 4 = 20||5 x 5 = 25||5 x 6 = 30||5 x 7 = 35||5 x 8 = 40||5 x 9 = 45|\n",
      "------------------------------------------------------------------------------------------------------------\n",
      "|6 x 1 =  6||6 x 2 = 12||6 x 3 = 18||6 x 4 = 24||6 x 5 = 30||6 x 6 = 36||6 x 7 = 42||6 x 8 = 48||6 x 9 = 54|\n",
      "------------------------------------------------------------------------------------------------------------\n",
      "|7 x 1 =  7||7 x 2 = 14||7 x 3 = 21||7 x 4 = 28||7 x 5 = 35||7 x 6 = 42||7 x 7 = 49||7 x 8 = 56||7 x 9 = 63|\n",
      "------------------------------------------------------------------------------------------------------------\n",
      "|8 x 1 =  8||8 x 2 = 16||8 x 3 = 24||8 x 4 = 32||8 x 5 = 40||8 x 6 = 48||8 x 7 = 56||8 x 8 = 64||8 x 9 = 72|\n",
      "------------------------------------------------------------------------------------------------------------\n",
      "|9 x 1 =  9||9 x 2 = 18||9 x 3 = 27||9 x 4 = 36||9 x 5 = 45||9 x 6 = 54||9 x 7 = 63||9 x 8 = 72||9 x 9 = 81|\n",
      "------------------------------------------------------------------------------------------------------------\n"
     ]
    }
   ],
   "source": [
    "print('------------------------------------------------------------------------------------------------------------')\n",
    "for i in range(1, 10):\n",
    "    for j in range(1, 10):\n",
    "        print('|{} x {} = {:2}|'.format(i, j, i*j), end = '')\n",
    "    print()\n",
    "    print('------------------------------------------------------------------------------------------------------------')"
   ]
  },
  {
   "cell_type": "code",
   "execution_count": 4,
   "metadata": {
    "scrolled": true
   },
   "outputs": [
    {
     "name": "stdout",
     "output_type": "stream",
     "text": [
      "请输入一个整数，表示将要输入的单词数，回车结束。5\n",
      "请输入一个单词，回车结束。asd\n",
      "请输入一个单词，回车结束。fd\n",
      "请输入一个单词，回车结束。fg\n",
      "请输入一个单词，回车结束。ht\n",
      "请输入一个单词，回车结束。rt\n",
      "rt\n",
      "ht\n",
      "fg\n",
      "fd\n",
      "asd\n",
      "rt\n",
      "ht\n",
      "fg\n",
      "fd\n",
      "asd\n",
      "rt\n",
      "ht\n",
      "fg\n",
      "fd\n",
      "asd\n",
      "rt\n",
      "ht\n",
      "fg\n",
      "fd\n",
      "asd\n",
      "rt\n",
      "ht\n",
      "fg\n",
      "fd\n",
      "asd\n",
      "rt\n",
      "ht\n",
      "fg\n",
      "fd\n",
      "asd\n",
      "rt\n",
      "ht\n",
      "fg\n",
      "fd\n",
      "asd\n",
      "rt\n",
      "ht\n",
      "fg\n",
      "fd\n",
      "asd\n",
      "rt\n",
      "ht\n",
      "fg\n",
      "fd\n",
      "asd\n",
      "rt\n",
      "ht\n",
      "fg\n",
      "fd\n",
      "asd\n"
     ]
    }
   ],
   "source": [
    "# 倒序打印用户输入的n个单词10次\n",
    "words = []\n",
    "n = int(input('请输入一个整数，表示将要输入的单词数，回车结束。'))\n",
    "\n",
    "for i in range(n):\n",
    "    word = input('请输入一个单词，回车结束。')\n",
    "    words.append(word)\n",
    "\n",
    "for i in range(10):\n",
    "    for j in range(n-1, -1,-1):\n",
    "        print(words[j])"
   ]
  },
  {
   "cell_type": "markdown",
   "metadata": {},
   "source": [
    "### 打印回文字符串"
   ]
  },
  {
   "cell_type": "code",
   "execution_count": 5,
   "metadata": {
    "scrolled": true
   },
   "outputs": [
    {
     "name": "stdout",
     "output_type": "stream",
     "text": [
      "             赏\n",
      "            赏赏\n",
      "           赏花赏\n",
      "          赏花花赏\n",
      "         赏花归花赏\n",
      "        赏花归归花赏\n",
      "       赏花归去归花赏\n",
      "      赏花归去去归花赏\n",
      "     赏花归去马去归花赏\n",
      "    赏花归去马马去归花赏\n",
      "   赏花归去马如马去归花赏\n",
      "  赏花归去马如如马去归花赏\n",
      " 赏花归去马如飞如马去归花赏\n"
     ]
    }
   ],
   "source": [
    "#coding: utf-8\n",
    "# 示例代码 30\n",
    "\n",
    "def plalindrome(line):\n",
    "    for i in range(1, len(line)*2):\n",
    "        if i == 1:\n",
    "            print(' '*(len(line)*2-1) +line[0])\n",
    "        elif i%2 == 1:\n",
    "            print(' '*(len(line)*2-i) + line[:i//2] + line[i//2] + line[i//2-1::-1])\n",
    "        else:\n",
    "            print(' '*(len(line)*2-i) + line[:i//2] + line[i//2-1::-1])\n",
    "\n",
    "def main():\n",
    "    text = '赏花归去马如飞'\n",
    "    plalindrome(text)\n",
    "    \n",
    "\n",
    "if __name__ == '__main__':\n",
    "    main()"
   ]
  },
  {
   "cell_type": "markdown",
   "metadata": {},
   "source": [
    "### 逆序打印"
   ]
  },
  {
   "cell_type": "code",
   "execution_count": 7,
   "metadata": {},
   "outputs": [
    {
     "name": "stdout",
     "output_type": "stream",
     "text": [
      "北京语言言语京北北京语言言语京北\n"
     ]
    }
   ],
   "source": [
    "# 示例代码 8\n",
    "\n",
    "line = '北京语言大学信息科学学院'\n",
    "x = 4\n",
    "sub_line = ''\n",
    "for i in range(x):\n",
    "    sub_line += line[i]\n",
    "print(sub_line, end='')\n",
    "\n",
    "for i in range(x-1, -1, -1):\n",
    "    print(sub_line[i], end='')\n",
    "    \n",
    "# 示例代码 9\n",
    "line = '北京语言大学信息科学学院'\n",
    "x = 4\n",
    "print(line[0:x] + line[x-1::-1])    # print(line[0:x] + line[x-1:0:-1] + line[0])"
   ]
  },
  {
   "cell_type": "markdown",
   "metadata": {},
   "source": [
    "### 取出list中的各个对象"
   ]
  },
  {
   "cell_type": "code",
   "execution_count": 8,
   "metadata": {},
   "outputs": [
    {
     "name": "stdout",
     "output_type": "stream",
     "text": [
      "The\n",
      "quick\n",
      "brown\n",
      "fox\n",
      "jumps\n",
      "over\n",
      "the\n",
      "lazy\n",
      "dog\n"
     ]
    }
   ],
   "source": [
    "# 序列之list示例4\n",
    "words = ['The', 'quick', 'brown', 'fox', 'jumps', 'over', 'the', 'lazy', 'dog']\n",
    "\n",
    "i = 0\n",
    "while i < 9:                #目测words中有9个word\n",
    "    print(words[i])\n",
    "    i += 1"
   ]
  },
  {
   "cell_type": "markdown",
   "metadata": {},
   "source": [
    "上述代码利用循环，取出list中的各个对象，这个过程称作遍历或迭代。"
   ]
  }
 ],
 "metadata": {
  "kernelspec": {
   "display_name": "Python 3",
   "language": "python",
   "name": "python3"
  },
  "language_info": {
   "codemirror_mode": {
    "name": "ipython",
    "version": 3
   },
   "file_extension": ".py",
   "mimetype": "text/x-python",
   "name": "python",
   "nbconvert_exporter": "python",
   "pygments_lexer": "ipython3",
   "version": "3.6.3"
  }
 },
 "nbformat": 4,
 "nbformat_minor": 2
}
