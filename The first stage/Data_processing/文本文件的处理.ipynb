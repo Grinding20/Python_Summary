{
 "cells": [
  {
   "cell_type": "markdown",
   "metadata": {},
   "source": [
    "# 文本文件的处理"
   ]
  },
  {
   "cell_type": "markdown",
   "metadata": {},
   "source": [
    "### A:较大文件的查看\n",
    "1. 进入到powershell下，\n",
    "2. 键入：Get-Content F:\\temp\\语料.txt -totalcount 10(可以查看前十行）"
   ]
  },
  {
   "cell_type": "markdown",
   "metadata": {},
   "source": [
    "### B:较大文件的处理思路\n",
    "- 对单个文本文件，如果比较大(如10G bytes)，则可以考虑先取这个文件的前n(如n=5000)行另存为一个小文件，对这个小文件来进行统计，如果没有问题了，再对这个较大的文件进行处理。\n",
    "- 当然，在大多数时候，我们面临的统计任务可能会是很多文件，可能会是较大规模的语料(几十G或者更多)，则也最好不要直接对其进行编程操作，而是拷贝几个相同格式的语料到一个临时目录，对这个目录进行统计实验，这样不但执行起来快捷，而且如果程序有错误，也容易查找。"
   ]
  },
  {
   "cell_type": "markdown",
   "metadata": {},
   "source": [
    "### C:小文件的打开\n",
    "1. 从一个较大的文件中抽取部分做一个较小的文件\n",
    "  - 建立一个较小文件，以写入方式打开  **with open(r'F:\\temp\\test.txt', 'w') as fw：**\n",
    "  - 打开那个较大文件，以读入方式打开  **with open(r'd:\\temp\\语料.txt') as fr：** （默认为读入）\n",
    "    - (注：*可以同时打开 即：with open(r'F:\\temp\\test.txt', 'w') as fw, open(r'd:\\temp\\语料.txt') as fr:*)\n",
    "\n",
    "2. 利用for循环将小文本建立好，得到较大文本中的前5000行\n",
    "3. 去除词性标记（结巴中的词性标记）\n",
    "  - 整个文件可以视为一个大字符串，每行都类似这行的形式，分成行很多是因为有换行符\\n的存在\n",
    "  - 我们要将其中每个词汇去掉词性标记(/ns等)，然后放到词表中  **words = [word.split('/')[0] for word in text.split()]**\n",
    "4. 去除重复词，得到无重复词的词表\n",
    "5. 统计词频\n",
    "  - （注：统计词频与得到词表可以同时操作，见下面的码）\n",
    "\n",
    "  "
   ]
  },
  {
   "cell_type": "markdown",
   "metadata": {},
   "source": [
    "- word_freq_pairs是二维列表，初始为空。其中每一个元素也是列表，存放[词，词频]。\n",
    "- 通过一个列表解析，得到words，存放filename文件中所有去掉词性标记后的词汇。\n",
    "- 在for word in words:\n",
    "  - 循环中,对每一个在words中的词汇，如果与word_freq_pairs中某一个item相同，则对应的item的频次加一\n",
    "  - 如果不在，则在word_freq_pairs中增加一个item，其初始频次为1。其中，for...else的用法与while...else的用法类似。"
   ]
  },
  {
   "cell_type": "markdown",
   "metadata": {},
   "source": [
    "### D:较大文件一次性读入的优雅方法\n",
    "python提供了优雅的解决办法，特别是对文本文件，这就是我们已经使用过的 for xxx in file:，可按行读入，避免一次性读入导致的内存溢出。"
   ]
  }
 ],
 "metadata": {
  "kernelspec": {
   "display_name": "Python 3",
   "language": "python",
   "name": "python3"
  },
  "language_info": {
   "codemirror_mode": {
    "name": "ipython",
    "version": 3
   },
   "file_extension": ".py",
   "mimetype": "text/x-python",
   "name": "python",
   "nbconvert_exporter": "python",
   "pygments_lexer": "ipython3",
   "version": "3.6.3"
  }
 },
 "nbformat": 4,
 "nbformat_minor": 2
}
