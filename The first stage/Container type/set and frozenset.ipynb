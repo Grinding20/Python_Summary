{
 "cells": [
  {
   "cell_type": "markdown",
   "metadata": {},
   "source": [
    "#### set(可变集合)与frozenset(不可变集合)的区别："
   ]
  },
  {
   "cell_type": "markdown",
   "metadata": {},
   "source": [
    " #### set()\n",
    " \n",
    " *   |   说明\n",
    ":------:  |  :--------:\n",
    "性质    |    无序性（与索引相关的操作均不可实现），不重复性，可变性（不存在哈希值）\n",
    "方法    |    add（），remove（）等方法\n",
    "基本功能 |    关系测试和消除重复元素\n",
    "数学运算 |    union(联合), intersection(交集), difference(差集)和sysmmetric difference(对称差集)\n",
    "关系判断 |    sets 支持 x in set\n",
    "遍历    |    for x in set\n",
    "长度计算 |    len(set)"
   ]
  },
  {
   "cell_type": "markdown",
   "metadata": {},
   "source": [
    " #### frozenset()\n",
    " \n",
    " *   |   说明\n",
    ":------:  |  :--------:\n",
    "性质   |   无序性（与索引相关的操作均不可实现），不重复性，**不可变性（存在哈希值）**\n",
    "方法   |   只支持不改变集合中的对象的方法\n",
    "基本功能|   同set()\n",
    "优势   |   可以作为字典的key(key必须为不可变的数据类型）也可以作为其它集合的元素\n",
    "缺点   |   一旦创建便不能更改，没有add，remove方法"
   ]
  }
 ],
 "metadata": {
  "kernelspec": {
   "display_name": "Python 3",
   "language": "python",
   "name": "python3"
  },
  "language_info": {
   "codemirror_mode": {
    "name": "ipython",
    "version": 3
   },
   "file_extension": ".py",
   "mimetype": "text/x-python",
   "name": "python",
   "nbconvert_exporter": "python",
   "pygments_lexer": "ipython3",
   "version": "3.6.3"
  }
 },
 "nbformat": 4,
 "nbformat_minor": 2
}
