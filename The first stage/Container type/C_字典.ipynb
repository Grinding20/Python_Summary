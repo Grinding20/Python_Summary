{
 "cells": [
  {
   "cell_type": "code",
   "execution_count": 2,
   "metadata": {},
   "outputs": [
    {
     "name": "stdout",
     "output_type": "stream",
     "text": [
      "[10, 10, 10, 10, 10, 10, 10, 10, 10, 10, 10, 10]\n",
      "[('人', 10), ('生', 10), ('苦', 10), ('短', 10), ('我', 10), ('用', 10), ('p', 10), ('y', 10), ('t', 10), ('h', 10), ('o', 10), ('n', 10)]\n",
      "['人', '生', '苦', '短', '我', '用', 'p', 'y', 't', 'h', 'o', 'n']\n"
     ]
    }
   ],
   "source": [
    "letters = {letter:10 for letter in '人生苦短我用python'}\n",
    "\n",
    "values = list(letters.values())\n",
    "print(values)\n",
    "    \n",
    "items = list(letters.items())\n",
    "print(items)\n",
    "    \n",
    "print(list(letters.keys())) "
   ]
  },
  {
   "cell_type": "markdown",
   "metadata": {},
   "source": [
    "### 容器类型之字典"
   ]
  },
  {
   "cell_type": "markdown",
   "metadata": {},
   "source": [
    "- 字典（dict）是一组键值对儿的数据结构（key-value）\n",
    "- 每个键对应一个值，且键不能有重复，根据键可以查询到值\n",
    "- 具有查找速度快，使用简便的特点"
   ]
  },
  {
   "cell_type": "markdown",
   "metadata": {},
   "source": [
    "#### A：对象的哈希值"
   ]
  },
  {
   "cell_type": "markdown",
   "metadata": {},
   "source": [
    "- 字典是键和值的映射关系，字典的键必须是可hash的对象\n",
    "- 可hash对象：\n",
    "  - 不可变对象（bool，int，float，complex，str，tuple，frozenset)是可hash对象\n",
    "  - 可变对象通常是不可hash对象（因为不可变对象的内容可以改变，因而无法通过hash（）获取其hash值\n",
    "- 字典的键必须是不可变对象，但字典的值，两者都可用\n",
    "- 一般来说，应使用简单的对象作为键"
   ]
  },
  {
   "cell_type": "markdown",
   "metadata": {},
   "source": [
    "#### B：字典详解\n",
    "\n",
    "###### a:字典通过花括号中用逗号分隔的项目（键值对儿）定义\n"
   ]
  },
  {
   "cell_type": "markdown",
   "metadata": {},
   "source": [
    "###### b:操作：\n",
    "- 1初始化字典\n",
    "- 2字典访问操作\n",
    "- 3判断字典的键是否存在\n",
    "- 4词典解析/推导\n",
    "- 5字典对象的长度与比较\n",
    "- 6字典对象方法"
   ]
  },
  {
   "cell_type": "markdown",
   "metadata": {},
   "source": [
    "#### 1初始化字典\n",
    "    初始化：\n",
    "        初始化在计算机编程领域中指为数据对象或变量赋初值的做法"
   ]
  },
  {
   "cell_type": "code",
   "execution_count": 28,
   "metadata": {},
   "outputs": [
    {
     "name": "stdout",
     "output_type": "stream",
     "text": [
      "{}\n",
      "{}\n",
      "{'a': 'apple', 'b': 'banana'}\n",
      "{1: 'food', 2: 'drink'}\n",
      "{1: 'hello', 2: 'world'}\n",
      "{'I': 'like', '你': 'too'}\n"
     ]
    }
   ],
   "source": [
    "a = dict()  #空字典\n",
    "b = {}      #空字典\n",
    "c = {'a':'apple','b':'banana'}\n",
    "d = dict({1:'food',2:'drink'})     #可以去掉dict\n",
    "e = dict([(1,'hello'),(2,'world')]) #利用列表生成词典\n",
    "f = dict(I='like',你='too')        # 键的类型必须为字符串 \n",
    "print(a,b,c,d,e,f,sep = '\\n')"
   ]
  },
  {
   "cell_type": "markdown",
   "metadata": {},
   "source": [
    "#### 2.字典访问操作\n",
    "- 返回词典某个具体键的值(对没有的键试图得到其value，则会给出`KeyError`异常)\n",
    "- 增加键值对儿\n",
    "- 删除键值对儿"
   ]
  },
  {
   "cell_type": "code",
   "execution_count": 19,
   "metadata": {},
   "outputs": [
    {
     "data": {
      "text/plain": [
       "-1"
      ]
     },
     "execution_count": 19,
     "metadata": {},
     "output_type": "execute_result"
    }
   ],
   "source": [
    "d.get('e',-1)"
   ]
  },
  {
   "cell_type": "code",
   "execution_count": 31,
   "metadata": {},
   "outputs": [
    {
     "name": "stdout",
     "output_type": "stream",
     "text": [
      "{'jack': 4098, 'sape': 4139}\n",
      "4098\n",
      "after insert a key and value into tel: {'jack': 4098, 'sape': 4139, 'pengyuan': 4078}\n",
      "after del a key from tel: {'sape': 4139, 'pengyuan': 4078}\n"
     ]
    },
    {
     "ename": "KeyError",
     "evalue": "'test'",
     "output_type": "error",
     "traceback": [
      "\u001b[1;31m---------------------------------------------------------------------------\u001b[0m",
      "\u001b[1;31mKeyError\u001b[0m                                  Traceback (most recent call last)",
      "\u001b[1;32m<ipython-input-31-f9dfa769947e>\u001b[0m in \u001b[0;36m<module>\u001b[1;34m()\u001b[0m\n\u001b[0;32m      7\u001b[0m \u001b[1;32mdel\u001b[0m \u001b[0mtel\u001b[0m\u001b[1;33m[\u001b[0m\u001b[1;34m'jack'\u001b[0m\u001b[1;33m]\u001b[0m                                     \u001b[1;31m#删除词典的键。注意值也随之删除\u001b[0m\u001b[1;33m\u001b[0m\u001b[0m\n\u001b[0;32m      8\u001b[0m \u001b[0mprint\u001b[0m\u001b[1;33m(\u001b[0m\u001b[1;34m'after del a key from tel:'\u001b[0m\u001b[1;33m,\u001b[0m \u001b[0mtel\u001b[0m\u001b[1;33m)\u001b[0m\u001b[1;33m\u001b[0m\u001b[0m\n\u001b[1;32m----> 9\u001b[1;33m \u001b[0mtel\u001b[0m\u001b[1;33m[\u001b[0m\u001b[1;34m'test'\u001b[0m\u001b[1;33m]\u001b[0m                                         \u001b[1;31m#对没有的键试图得到其value，则会给出`KeyError`异常\u001b[0m\u001b[1;33m\u001b[0m\u001b[0m\n\u001b[0m",
      "\u001b[1;31mKeyError\u001b[0m: 'test'"
     ]
    }
   ],
   "source": [
    "tel = {'jack': 4098, 'sape': 4139}\n",
    "print(tel)\n",
    "print(tel['jack'])         #词典某个具体键的值\n",
    "\n",
    "tel['pengyuan'] = 4078                                 #词典中加入键:值对\n",
    "print('after insert a key and value into tel:', tel)    \n",
    "del tel['jack']                                     #删除词典的键。注意值也随之删除\n",
    "print('after del a key from tel:', tel)\n",
    "tel['test']                                         #对没有的键试图得到其value，则会给出`KeyError`异常"
   ]
  },
  {
   "cell_type": "markdown",
   "metadata": {},
   "source": [
    "#### 3判断字典的键是否存在"
   ]
  },
  {
   "cell_type": "code",
   "execution_count": 32,
   "metadata": {
    "scrolled": false
   },
   "outputs": [
    {
     "name": "stdout",
     "output_type": "stream",
     "text": [
      "True\n",
      "False\n"
     ]
    }
   ],
   "source": [
    "basket = dict(apple=1, orange=2, pear=3, banana=10) \n",
    "print('apple' in basket)                            #判断某个键是否在词典中\n",
    "print('apple' not in basket)"
   ]
  },
  {
   "cell_type": "markdown",
   "metadata": {},
   "source": [
    "#### 4.词典解析/推导"
   ]
  },
  {
   "cell_type": "markdown",
   "metadata": {},
   "source": [
    "letters = {letter:10 for letter in 'abcde'}         #词典解析/推导\n",
    "print(letters, len(letters))                        "
   ]
  },
  {
   "cell_type": "code",
   "execution_count": 41,
   "metadata": {},
   "outputs": [
    {
     "name": "stdout",
     "output_type": "stream",
     "text": [
      "dict_keys(['a', 'b'])\n",
      "a\n",
      "b\n",
      "dict_values(['apple', 'banana'])\n",
      "apple\n",
      "banana\n",
      "dict_items([('a', 'apple'), ('b', 'banana')])\n",
      "('a', 'apple')\n",
      "('b', 'banana')\n"
     ]
    }
   ],
   "source": [
    "d = {'a':'apple','b':'banana'}\n",
    "print(d.keys())\n",
    "for k in d.keys():\n",
    "    print(k)\n",
    "print(d.values())\n",
    "for k in d.values():\n",
    "    print(k)\n",
    "print(d.items())\n",
    "for k in d.items():\n",
    "    print(k)"
   ]
  },
  {
   "cell_type": "markdown",
   "metadata": {},
   "source": [
    "#### 5.字典对象的长度与比较\n",
    "- 通过内置函数len(),可以获得字典的长度（元素个数）\n",
    "- 支持比较运算==，！="
   ]
  },
  {
   "cell_type": "code",
   "execution_count": 45,
   "metadata": {},
   "outputs": [
    {
     "name": "stdout",
     "output_type": "stream",
     "text": [
      "2\n",
      "False\n",
      "True\n"
     ]
    }
   ],
   "source": [
    "d1 = {'a':'apple','b':'banana'}\n",
    "print(len(d))                        #len()求词典内键值对的个数\n",
    "d2 = dict({1:'food',2:'drink'})\n",
    "print(d1 == d2)\n",
    "print(d1 != d2)"
   ]
  },
  {
   "cell_type": "markdown",
   "metadata": {},
   "source": [
    "#### 6.字典对象的方法"
   ]
  },
  {
   "cell_type": "markdown",
   "metadata": {},
   "source": [
    "序号| 方法     | 说明\n",
    ":--: |:--------: | :-------------:\n",
    "1|d.clear()   |删除所有元素\n",
    "2|d.copy()   |浅拷贝字典\n",
    "3|d.get(k)    |返回键k对应的值，如过key不存在。返回none\n",
    "4|d.get(k,v)  |返回键k对应的值，如过key不存在。返回v\n",
    "5|d.pop(k)   |如果键k存在，返回其值，并删除该项目，否则导致KeyError\n",
    "6|d.pop(k,v)  |如果键k存在，返回其值，并删除该项目，否则返回v\n",
    "7|d.setdefault(k,v) |如果键k存在，返回其值，否则添加项目k=v，v默认为none\n",
    "8|d.update([other])  |使用字典或键值对儿，更新或添加项目得到字典d\n",
    "9|d.keys()       |返回键的列表\n",
    "10|d.values()      |返回值的列表\n",
    "11|d.items()       |返回键值对列表"
   ]
  },
  {
   "cell_type": "code",
   "execution_count": 18,
   "metadata": {},
   "outputs": [
    {
     "name": "stdout",
     "output_type": "stream",
     "text": [
      "{}\n",
      "{'k2': 'v2', 'k3': 'v3', 'k1': 'v1'} 1912778958744 1912779597288\n",
      "v2 None 无\n"
     ]
    }
   ],
   "source": [
    "#方法1——4\n",
    "d1 = {'k2': 'v2', 'k3': 'v3', 'k1': 'v1'}\n",
    "d1.clear()\n",
    "print(d1)\n",
    "d2 = {'k2': 'v2', 'k3': 'v3', 'k1': 'v1'}\n",
    "d3 = d2.copy()\n",
    "print(d3,id(d2),id(d3))\n",
    "print(d2.get('k2'),d2.get('k4'),d2.get('k4','无'))"
   ]
  },
  {
   "cell_type": "code",
   "execution_count": 23,
   "metadata": {},
   "outputs": [
    {
     "name": "stdout",
     "output_type": "stream",
     "text": [
      "{'k3': 'v3', 'k1': 'v1'}\n",
      "无\n",
      "{'k3': 'v3', 'k1': 'v1'}\n"
     ]
    }
   ],
   "source": [
    "#方法5——6\n",
    "d1 = {'k2': 'v2', 'k3': 'v3', 'k1': 'v1'}\n",
    "d1.pop('k2')\n",
    "print(d1)\n",
    "print(d1.pop('k4','无'))\n",
    "print(d1)"
   ]
  },
  {
   "cell_type": "code",
   "execution_count": 30,
   "metadata": {
    "scrolled": true
   },
   "outputs": [
    {
     "name": "stdout",
     "output_type": "stream",
     "text": [
      "apple\n",
      "{'a': 'apple', 'b': 'banana'}\n",
      "orange\n",
      "{'a': 'apple', 'b': 'banana', 'o': 'orange'}\n",
      "None\n",
      "{'a': 'apple', 'b': 'banana', 'o': 'orange', 'n': None}\n"
     ]
    }
   ],
   "source": [
    "#方法7\n",
    "d = {'a':'apple','b':'banana'}\n",
    "print(d.setdefault('a','apple'))\n",
    "print(d)\n",
    "print(d.setdefault('o','orange'))\n",
    "print(d)\n",
    "print(d.setdefault('n'))#默认为none\n",
    "print(d)"
   ]
  },
  {
   "cell_type": "code",
   "execution_count": 41,
   "metadata": {},
   "outputs": [
    {
     "name": "stdout",
     "output_type": "stream",
     "text": [
      "{1: 'I', 2: 'like', 4: 'you', 3: 'love'}\n"
     ]
    }
   ],
   "source": [
    "#方法8（更新字典）\n",
    "d1 = {1:'我',2:'like',4:'你'}\n",
    "d2 = {1:'I',3:'love',4:'you'}\n",
    "d1.update(d2)\n",
    "print(d1)"
   ]
  },
  {
   "cell_type": "code",
   "execution_count": 1,
   "metadata": {
    "scrolled": true
   },
   "outputs": [
    {
     "name": "stdout",
     "output_type": "stream",
     "text": [
      "dict_keys(['a', 'b'])\n",
      "a\n",
      "b\n",
      "dict_values(['apple', 'banana'])\n",
      "apple\n",
      "banana\n",
      "dict_items([('a', 'apple'), ('b', 'banana')])\n",
      "('a', 'apple')\n",
      "('b', 'banana')\n"
     ]
    }
   ],
   "source": [
    "#方法9，10，11示例\n",
    "d = {'a':'apple','b':'banana'}\n",
    "print(d.keys())\n",
    "for k in d.keys():\n",
    "    print(k)\n",
    "print(d.values())\n",
    "for k in d.values():\n",
    "    print(k)\n",
    "print(d.items())\n",
    "for k in d.items():\n",
    "    print(k)"
   ]
  },
  {
   "cell_type": "markdown",
   "metadata": {},
   "source": [
    "拓展一："
   ]
  },
  {
   "cell_type": "markdown",
   "metadata": {},
   "source": [
    "- list占用的空间小，而查找速度随着元素的增加而增加\n",
    "- dict占用大量空间，但查找速度不会随着元素的增加而变慢（dict利用哈希函数存取，时间复杂度为O(1)）\n",
    "- 所以，就有了下面这句话：\n",
    "空间换时间"
   ]
  }
 ],
 "metadata": {
  "kernelspec": {
   "display_name": "Python 3",
   "language": "python",
   "name": "python3"
  },
  "language_info": {
   "codemirror_mode": {
    "name": "ipython",
    "version": 3
   },
   "file_extension": ".py",
   "mimetype": "text/x-python",
   "name": "python",
   "nbconvert_exporter": "python",
   "pygments_lexer": "ipython3",
   "version": "3.6.3"
  }
 },
 "nbformat": 4,
 "nbformat_minor": 2
}
