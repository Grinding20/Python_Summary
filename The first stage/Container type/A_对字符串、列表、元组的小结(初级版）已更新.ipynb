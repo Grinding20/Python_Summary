{
 "cells": [
  {
   "cell_type": "markdown",
   "metadata": {},
   "source": [
    "## 序列数据类型\n",
    "- str = ' '=====>字符的集合\n",
    "- list[]=====>列表，用于储存其值可变的表（可以存放数字、字符串等各类对象）\n",
    "- tuple()=====>定值表，用于储存值固定不变的表\n",
    "- 思路：要是能有个很大的可以放变量的容器，每个变量放进去的时候，还能自动给个编号就好了，于是有了它们\n",
    "- python语言用序列来存储一系列对象，其中每个对象对应一个从0开始的连续编号。"
   ]
  },
  {
   "cell_type": "markdown",
   "metadata": {},
   "source": [
    "### 可变数据类型与不可变数据类型\n",
    "- 元组与字符串一旦被初始化，其值就不能被改变，python语言称为不可变数据类型。\n",
    "- 而类似列表这样的数据类型，初始化后，其值可以改变，就称为可变数据类型。\n"
   ]
  },
  {
   "cell_type": "markdown",
   "metadata": {},
   "source": [
    "#### 对于可变数据类型与不可变数据类型操作时的思考：\n",
    "- 对str这个不可变数据类型来说，对其进行处理时，不论返回一个由许多子串组成的list或是一个新的str，均需要新建一个变量，即需要一个新的储存位置，新建变量拥有一个新的id\n",
    "- 对list这个可变数据类型做处理时，无需新建"
   ]
  },
  {
   "cell_type": "code",
   "execution_count": 9,
   "metadata": {},
   "outputs": [
    {
     "name": "stdout",
     "output_type": "stream",
     "text": [
      "['I', 'like', 'you.']\n",
      "[0, 1, 2, 3, 4, 5, 6, 7, 8, 9]\n"
     ]
    }
   ],
   "source": [
    "#对str做处理时需要新建：\n",
    "my_str = 'I like you.'\n",
    "your_str = my_str.split()\n",
    "print(your_str)\n",
    "# 对list做处理时无需新建：\n",
    "my_list = []\n",
    "for i in range(10):\n",
    "    my_list.append(i)\n",
    "print(my_list)"
   ]
  },
  {
   "cell_type": "code",
   "execution_count": 8,
   "metadata": {},
   "outputs": [
    {
     "name": "stdout",
     "output_type": "stream",
     "text": [
      "I like you.\n"
     ]
    }
   ],
   "source": [
    "#错误示例：若不新建，则将出现错误\n",
    "my_str = 'I like you.'\n",
    "my_str.split()\n",
    "print(my_str)"
   ]
  },
  {
   "cell_type": "markdown",
   "metadata": {},
   "source": [
    "## 序列通用操作\n"
   ]
  },
  {
   "cell_type": "markdown",
   "metadata": {},
   "source": [
    "|名称      | 操作\t  | 说明\n",
    "- |:- | :- | :- |:-\n",
    "1|存在|x in s\t\t|如s中有一个对象等于x，返回True否则返回False\n",
    "2|不存在|x not in s\t|如s中有一个对象等于x，返回False否则返回True\n",
    "3|连接操作|s+t\t\t|将s与t连接\n",
    "4|重复操作|n\\*t或t\\*n\t|相当于将t自加n次\n",
    "5|索引|s[i]\t|\t序列s的第i个对象，起始对象为第0个\n",
    "6|切片|s[i:j]\t\t|s从i到j之间的切片(不包含j)\n",
    "7|切片（有间隔）|s[i:j:k]\t\t|s从i到j之间间隔为k的切片(不包含j)\n",
    "8|长度|len(s)|\ts的长度(对象个数)\n",
    "9|最大值|max(s)\t|s中最小的对象\n",
    "10|最小值|min(s)\t|s中最大的对象\n",
    "11|索引访问|s.index(x)\t\t|s中x第一次出现时的索引位置\n",
    "12|出现次数|s.count(x)| \t\ts中x出现的个数\n",
    "13|排序|s.sorted(x)|返回序列的排序列表\n"
   ]
  },
  {
   "cell_type": "markdown",
   "metadata": {},
   "source": [
    "### 1.in(),not in()"
   ]
  },
  {
   "cell_type": "code",
   "execution_count": 1,
   "metadata": {
    "scrolled": true
   },
   "outputs": [
    {
     "name": "stdout",
     "output_type": "stream",
     "text": [
      "True|False|False\n"
     ]
    }
   ],
   "source": [
    "str='America'\n",
    "list=[10,33,'China','再见',55555]\n",
    "tuple=(2,'England','farewell','圣诞节',6767)\n",
    "\n",
    "print('A' in str,33 not in list,'平安夜'in tuple,sep='|')"
   ]
  },
  {
   "cell_type": "markdown",
   "metadata": {},
   "source": [
    "- 关于tuple的连接操作的说明：\n",
    "  - tuple可以有连接操作，虽然tuple是不可变的数据类型\n",
    "  - 解释：可以将一个tuple看作一个容器，一个存放不可变数据的容器，当你进行两个tuple的连接时，你并没有对那两个tuple做出改变（你也改变不了），而是又新建了一个tuple，通过如下代码我们可以得出，这三个tuple的id各不相同，即我们并没有改变tuple的值，而是新建了一个tuple"
   ]
  },
  {
   "cell_type": "markdown",
   "metadata": {},
   "source": [
    "### 2.连接操作——+"
   ]
  },
  {
   "cell_type": "code",
   "execution_count": 2,
   "metadata": {},
   "outputs": [
    {
     "name": "stdout",
     "output_type": "stream",
     "text": [
      "America2244China\n",
      "[10, 33, 'China', '再见', 55555, '第二个列表']\n",
      "(1, 2)\n"
     ]
    }
   ],
   "source": [
    "str1='America'\n",
    "str2='China'\n",
    "str3='2244'\n",
    "\n",
    "list1=[10,33,'China','再见',55555]\n",
    "list2=['第二个列表']\n",
    "\n",
    "a=1,\n",
    "b=2,\n",
    "\n",
    "print(str1+str3+str2)\n",
    "print(list1+list2)\n",
    "print(a+b)"
   ]
  },
  {
   "cell_type": "markdown",
   "metadata": {},
   "source": [
    "- 关于tuple的连接操作的说明：\n",
    "  - tuple可以有连接操作，虽然tuple是不可变的数据类型\n",
    "  - 解释：可以将一个tuple看作一个容器，一个存放不可变数据的容器，当你进行两个tuple的连接时，你并没有对那两个tuple做出改变（你也改变不了），而是又新建了一个tuple，通过如下代码我们可以得出，这三个tuple的id各不相同，即我们并没有改变tuple的值，而是新建了一个tuple"
   ]
  },
  {
   "cell_type": "code",
   "execution_count": 3,
   "metadata": {},
   "outputs": [
    {
     "name": "stdout",
     "output_type": "stream",
     "text": [
      "1389884910840 1389884944736 1389867856328\n"
     ]
    }
   ],
   "source": [
    "a=1,\n",
    "b=2,\n",
    "c=a+b\n",
    "print(id(a),id(b),id(c))"
   ]
  },
  {
   "cell_type": "markdown",
   "metadata": {},
   "source": [
    "### 3.重复操作——*###"
   ]
  },
  {
   "cell_type": "code",
   "execution_count": 4,
   "metadata": {},
   "outputs": [
    {
     "name": "stdout",
     "output_type": "stream",
     "text": [
      "AmericaAmericaAmericaAmerica\n",
      "[10, 33, 'China', '再见', 55555, 10, 33, 'China', '再见', 55555]\n",
      "(2, 'England', 'farewell', '圣诞节', 6767, 2, 'England', 'farewell', '圣诞节', 6767, 2, 'England', 'farewell', '圣诞节', 6767)\n"
     ]
    }
   ],
   "source": [
    "str='America'\n",
    "list=[10,33,'China','再见',55555]\n",
    "tuple=(2,'England','farewell','圣诞节',6767)\n",
    "\n",
    "print(str*4)\n",
    "print(list*2)\n",
    "print(tuple*3)"
   ]
  },
  {
   "cell_type": "markdown",
   "metadata": {},
   "source": [
    "### 4.索引 ——[]###"
   ]
  },
  {
   "cell_type": "code",
   "execution_count": 5,
   "metadata": {
    "scrolled": true
   },
   "outputs": [
    {
     "name": "stdout",
     "output_type": "stream",
     "text": [
      "m\n",
      "再见\n",
      "6767\n"
     ]
    }
   ],
   "source": [
    "str='America'\n",
    "list=[10,33,'China','再见',55555]\n",
    "tuple=(2,'England','farewell','圣诞节',6767)\n",
    "\n",
    "print(str[1])\n",
    "print(list[3])\n",
    "print(tuple[4])"
   ]
  },
  {
   "cell_type": "markdown",
   "metadata": {},
   "source": [
    "- 如果索引没在序列的范围之内,则为索引越界(IndexError)\n",
    "- 如果索引不是整数，则导致（TypeError）"
   ]
  },
  {
   "cell_type": "markdown",
   "metadata": {},
   "source": [
    "### 5.切片——[:]###"
   ]
  },
  {
   "cell_type": "code",
   "execution_count": 6,
   "metadata": {
    "scrolled": false
   },
   "outputs": [
    {
     "name": "stdout",
     "output_type": "stream",
     "text": [
      "Amer\n",
      "[10, 33, 'China', '再见']\n",
      "(2, 'England', 'farewell', '圣诞节')\n"
     ]
    }
   ],
   "source": [
    "str='America'\n",
    "list=[10,33,'China','再见',55555]\n",
    "tuple=(2,'England','farewell','圣诞节',6767)\n",
    "\n",
    "print(str[:4])\n",
    "print(list[:4])\n",
    "print(tuple[:4])"
   ]
  },
  {
   "cell_type": "markdown",
   "metadata": {},
   "source": [
    "### 6.len()###"
   ]
  },
  {
   "cell_type": "code",
   "execution_count": 7,
   "metadata": {},
   "outputs": [
    {
     "name": "stdout",
     "output_type": "stream",
     "text": [
      "7 | 5 | 5\n"
     ]
    }
   ],
   "source": [
    "str='America'\n",
    "list=[10,33,'China','再见',55555]\n",
    "tuple=(2,'England','farewell','圣诞节',6767)\n",
    "\n",
    "print(len(str),len(list),len(tuple),sep=' | ')"
   ]
  },
  {
   "cell_type": "markdown",
   "metadata": {},
   "source": [
    "### 7.max(),mix()###"
   ]
  },
  {
   "cell_type": "code",
   "execution_count": 8,
   "metadata": {},
   "outputs": [
    {
     "name": "stdout",
     "output_type": "stream",
     "text": [
      "6 | 5555 | 44\n",
      "1 | 34 | 5\n"
     ]
    }
   ],
   "source": [
    "str='34555556321'\n",
    "list=[34,5555,90,300,234]\n",
    "tuple=(23,44,5)\n",
    "\n",
    "print(max(str),max(list),max(tuple),sep=' | ')\n",
    "print(min(str),min(list),min(tuple),sep=' | ')"
   ]
  },
  {
   "cell_type": "markdown",
   "metadata": {},
   "source": [
    "### 8.索引访问：index()方法\n",
    "index(i)即，返回序列里第一个i的位置"
   ]
  },
  {
   "cell_type": "code",
   "execution_count": 9,
   "metadata": {},
   "outputs": [
    {
     "name": "stdout",
     "output_type": "stream",
     "text": [
      "0|1|4\n"
     ]
    }
   ],
   "source": [
    "str='America'\n",
    "list=[10,33,'China','再见',55555]\n",
    "tuple=(2,'England','farewell','圣诞节',6767)\n",
    "\n",
    "print(str.index('A'),list.index(33),tuple.index(6767),sep='|')"
   ]
  },
  {
   "cell_type": "markdown",
   "metadata": {},
   "source": [
    "- index()方法扩展：\n",
    "  - s.index(value[,start[,stop]])\n",
    "  - 如果找不到，则导致Value Error,所以在使用该方法时，所寻找的i必须存在\n",
    "  - 为避免程序出错，我们可以使用in判断所寻找的i是否在序列中"
   ]
  },
  {
   "cell_type": "markdown",
   "metadata": {},
   "source": [
    "### 9.count()方法\n",
    "count()方法即，统计某个元素在序列中出现的次数"
   ]
  },
  {
   "cell_type": "code",
   "execution_count": 10,
   "metadata": {
    "scrolled": true
   },
   "outputs": [
    {
     "name": "stdout",
     "output_type": "stream",
     "text": [
      "1 3 2\n"
     ]
    }
   ],
   "source": [
    "a='you are a beautiful girl!'\n",
    "d=[1,3435,23,566,22,55,23,45,23]\n",
    "c=1,33,43,22,33,22,54,65,11,39,\n",
    "print(a.count(a),d.count(23),c.count(22))"
   ]
  },
  {
   "cell_type": "markdown",
   "metadata": {},
   "source": [
    "### 10.sorted(x)方法\n",
    "sorted(x)方法即返回序列的排序列表"
   ]
  },
  {
   "cell_type": "code",
   "execution_count": 11,
   "metadata": {
    "scrolled": true
   },
   "outputs": [
    {
     "name": "stdout",
     "output_type": "stream",
     "text": [
      "[' ', ' ', ' ', ' ', '!', 'a', 'a', 'a', 'b', 'e', 'e', 'f', 'g', 'i', 'i', 'l', 'l', 'o', 'r', 'r', 't', 'u', 'u', 'u', 'y']\n",
      "[1, 2, 22, 23, 23, 45, 55, 566]\n",
      "[1, 11, 22, 22, 33, 33, 39, 43, 54, 65]\n"
     ]
    }
   ],
   "source": [
    "a='you are a beautiful girl!'\n",
    "b=[1,2,566,22,55,23,45,23]\n",
    "c=1,33,43,22,33,22,54,65,11,39,\n",
    "print(sorted(a),sorted(b),sorted(c),sep='\\n')"
   ]
  },
  {
   "cell_type": "markdown",
   "metadata": {},
   "source": [
    "### 补充1.any(),all()###\n",
    "- any(...)是python内置函数，可以用来判断某个序列中是否存在真值，如果有，就返回True，如果没有（或者序列为空）则返回False。\n",
    "- all(...)是python内置函数，可以用来判断某个序列中是否均为真值，如果均是，就返回True，否则返回False。"
   ]
  },
  {
   "cell_type": "markdown",
   "metadata": {},
   "source": [
    "- 何为真值？\n",
    "  - 在python中，真值为假的对象，包括False，None，数字0，空字符串以及空的容器类型。除此以外的任何对象均为真。"
   ]
  },
  {
   "cell_type": "code",
   "execution_count": 12,
   "metadata": {},
   "outputs": [
    {
     "name": "stdout",
     "output_type": "stream",
     "text": [
      "True|False|True|True\n",
      "True|False\n",
      "True|True\n"
     ]
    }
   ],
   "source": [
    "#示例一\n",
    "str1='ALABANA'\n",
    "str2=''\n",
    "list=[10,33,'China','再见',55555,0]\n",
    "tuple=(2,'England','farewell','圣诞节',6767)\n",
    "\n",
    "print(any(str1),any(str2),all(str1),all(str2),sep='|')\n",
    "print(any(list),all(list),sep='|')\n",
    "print(any(tuple),all(tuple),sep='|')"
   ]
  },
  {
   "cell_type": "code",
   "execution_count": 13,
   "metadata": {},
   "outputs": [
    {
     "name": "stdout",
     "output_type": "stream",
     "text": [
      "any first: False\n",
      "any second: True\n",
      "all first: True\n",
      "all second: False\n"
     ]
    }
   ],
   "source": [
    "#示例二\n",
    "print('any first:', any([0, 0, '', None, False]))\n",
    "print('any second:', any([0, 5, '', None, False]))\n",
    "print('all first:', all([5, 6, 'word', True]))\n",
    "print('all second:', all([5, 10, 'fake', None, True]))"
   ]
  },
  {
   "cell_type": "markdown",
   "metadata": {},
   "source": [
    "## A  序列之字符串（str）\n",
    "- 字符串是 Python 中最常用的数据类型。我们可以使用引号('，\")来创建字符串。\n",
    "- 代码中一对单(双)引号之间的连续字符，如hello.称为字符串。\n",
    "- 无论是在print()函数中使用还是作为单行、多行注释来使用，常常将字符串作为一个整体。\n",
    "  - 多行字符串除了多行的特点外，其使用与一般字符串没有区别\n",
    "- 字符串有一串字符组成，每个字符都有一个索引，索引从0开始，字符串是序列的一种，很多使用方法与列表(list)类似，字符串类型的关键字是str。"
   ]
  },
  {
   "cell_type": "markdown",
   "metadata": {},
   "source": [
    "###### 操作：\n",
    "- 1是否存在\n",
    "- 2连接操作\n",
    "- 3重复操作\n",
    "- 4索引\n",
    "- 5切片\n",
    "- 6长度\n",
    "- 7最大值\n",
    "- 8最小值\n",
    "- 9索引访问\n",
    "- 10出现次数\n",
    "- 11排序\n",
    "- 补充一：初始化字符串\n",
    "- 补充二：遍历\n",
    "- 补充三：切片操作详解\n",
    "- 补充四：多行字符串\n",
    "- 补充五：字符串的跨行操作"
   ]
  },
  {
   "cell_type": "code",
   "execution_count": 14,
   "metadata": {},
   "outputs": [
    {
     "name": "stdout",
     "output_type": "stream",
     "text": [
      "用str()初始化： False\n",
      "a\n",
      "s\n",
      "j\n",
      "d\n",
      "s\n",
      "h\n",
      "g\n",
      "c\n",
      "x\n",
      "j\n",
      "s\n",
      "j\n",
      "0 a\n",
      "1 s\n",
      "2 j\n",
      "3 d\n",
      "4 s\n",
      "5 h\n",
      "6 g\n",
      "7 c\n",
      "8 x\n",
      "9 j\n",
      "北京语言言语京北\n"
     ]
    }
   ],
   "source": [
    "#补充一：初始化\n",
    "line =str\n",
    "print('用str()初始化：', line == '')\n",
    "\n",
    "#补充二：遍历\n",
    "line = 'asjdshgcxjsj'\n",
    "for ch in line:\n",
    "    print(ch)\n",
    "    \n",
    "for i in range(10):\n",
    "    print(i, line[i])\n",
    "#补充三：切片一般操作   \n",
    "line = '北京语言大学信息科学学院'\n",
    "x = 4\n",
    "print(line[0:x] + line[x-1::-1])    # print(line[0:x] + line[x-1:0:-1] + line[0])"
   ]
  },
  {
   "cell_type": "code",
   "execution_count": 15,
   "metadata": {
    "scrolled": true
   },
   "outputs": [
    {
     "name": "stdout",
     "output_type": "stream",
     "text": [
      "语言大学\n",
      "语大信\n",
      "科信大语\n",
      "---------------分割线---------------\n",
      "北京语言大学\n",
      "北京语言大学\n",
      "信息科学学院\n",
      "信息科学学院\n",
      "北京语言大学信息科学学院\n",
      "北语大信科学\n",
      "---------------分割线---------------\n",
      "息科学\n",
      "北京语言言语京北\n"
     ]
    }
   ],
   "source": [
    "# 切片操作详解(有步长)\n",
    "#如果切片起始或者结束位置为字符串边界，则可以省略。\n",
    "#如果m，n为负数，则意味着从右往左计算索引，最右侧边界字符的索引位置为-1，向左依次减小。\n",
    "line = '北京语言大学信息科学学院'\n",
    "\n",
    "print(line[2:6])\n",
    "print(line[2:8:2])\n",
    "print(line[8:1:-2])\n",
    "\n",
    "print('-'*15 + '分割线' + '-'*15)\n",
    "\n",
    "print(line[0:6])\n",
    "print(line[:6])\n",
    "print(line[6:12])\n",
    "print(line[6:])\n",
    "print(line[:])\n",
    "print(line[::2])\n",
    "\n",
    "print('-'*15 + '分割线' + '-'*15)\n",
    "\n",
    "print(line[-5:-2])\n",
    "print(line[0:4] + line[3::-1])   # 请对比示例代码 9"
   ]
  },
  {
   "cell_type": "markdown",
   "metadata": {},
   "source": [
    "补充四：多行字符串表示的基本格式如下："
   ]
  },
  {
   "cell_type": "code",
   "execution_count": 40,
   "metadata": {},
   "outputs": [
    {
     "data": {
      "text/plain": [
       "'\\n字符行1\\n字符行2\\n字符行3\\n  ...\\n字符行n\\n'"
      ]
     },
     "execution_count": 40,
     "metadata": {},
     "output_type": "execute_result"
    }
   ],
   "source": [
    "'''\n",
    "字符行1\n",
    "字符行2\n",
    "字符行3\n",
    "  ...\n",
    "字符行n\n",
    "'''"
   ]
  },
  {
   "cell_type": "markdown",
   "metadata": {},
   "source": [
    "补充五： 字符串的跨行操作\n",
    "\n",
    "- 以下代码出现错误的原因是，整个''之间是一个字符串，因而不能对其跨行。"
   ]
  },
  {
   "cell_type": "code",
   "execution_count": 38,
   "metadata": {},
   "outputs": [
    {
     "ename": "SyntaxError",
     "evalue": "EOL while scanning string literal (<ipython-input-38-1e1b437a7927>, line 1)",
     "output_type": "error",
     "traceback": [
      "\u001b[1;36m  File \u001b[1;32m\"<ipython-input-38-1e1b437a7927>\"\u001b[1;36m, line \u001b[1;32m1\u001b[0m\n\u001b[1;33m    ex_string = ('字符行1\u001b[0m\n\u001b[1;37m                      ^\u001b[0m\n\u001b[1;31mSyntaxError\u001b[0m\u001b[1;31m:\u001b[0m EOL while scanning string literal\n"
     ]
    }
   ],
   "source": [
    "ex_string = ('字符行1\n",
    "字符行2\n",
    "字符行3')"
   ]
  },
  {
   "cell_type": "markdown",
   "metadata": {},
   "source": [
    "- 多行字符串可以跨行（多行字符串除了多行的特点外，其使用与一般字符串没有区别）"
   ]
  },
  {
   "cell_type": "code",
   "execution_count": null,
   "metadata": {
    "collapsed": true
   },
   "outputs": [],
   "source": [
    "# 多行字符串使用示例\n",
    "ex_string = ''' \n",
    "            字符行1\n",
    "            字符行2\n",
    "            字符行3\n",
    "            '''\n",
    "print(ex_string)\n",
    "\n",
    "print('''\n",
    "字符行4\n",
    "字符行5\n",
    "字符行6''')"
   ]
  },
  {
   "cell_type": "markdown",
   "metadata": {},
   "source": [
    "- 我们可以利用多行字符串来打印空行"
   ]
  },
  {
   "cell_type": "code",
   "execution_count": 41,
   "metadata": {},
   "outputs": [
    {
     "name": "stdout",
     "output_type": "stream",
     "text": [
      "下面是空行\n",
      "\n",
      "上面是空行\n"
     ]
    }
   ],
   "source": [
    "#3.md 尝试性练习：写程序，能够在屏幕上显示空行\n",
    "print('''下面是空行\n",
    "\n",
    "上面是空行''')"
   ]
  },
  {
   "cell_type": "markdown",
   "metadata": {},
   "source": [
    "#### 扩展一： 转义字符\n",
    "包含在单引号 ('...')或者双引号中的 (\"...\")均是字符串。 \\ can be used to escape quotes. 实现字符转义：\n"
   ]
  },
  {
   "cell_type": "code",
   "execution_count": 16,
   "metadata": {
    "scrolled": false
   },
   "outputs": [
    {
     "name": "stdout",
     "output_type": "stream",
     "text": [
      "doesn't\n",
      "doesn't\n",
      "First line.\n",
      "Second line.\n"
     ]
    }
   ],
   "source": [
    "print('doesn\\'t')   # use \\' to escape the single quote.\n",
    "print(\"doesn't\")    # or use double quotes instead.\n",
    "s = 'First line.\\nSecond line.'  # \\n means newline\n",
    "s  \n",
    "# without print(), \\n is included in the output\n",
    "print(s)  # with print(), \\n produces a new line"
   ]
  },
  {
   "cell_type": "markdown",
   "metadata": {},
   "source": [
    "如果想使在字符串中的\\失效，则需要在字符串的首个引号前加一个字母r"
   ]
  },
  {
   "cell_type": "code",
   "execution_count": 17,
   "metadata": {
    "scrolled": true
   },
   "outputs": [
    {
     "name": "stdout",
     "output_type": "stream",
     "text": [
      "C:\\some\n",
      "ame\n",
      "C:\\some\\name\n"
     ]
    }
   ],
   "source": [
    "print('C:\\some\\name')  # here \\n means newline!\n",
    "print(r'C:\\some\\name')  # note the r before the quote"
   ]
  },
  {
   "cell_type": "markdown",
   "metadata": {},
   "source": [
    "#### 常用转义字符如下：\n",
    "转义字符\t|转义后含义\n",
    " - |:-\n",
    "\\\\\t|Backslash ()  \n",
    "\\'|\tSingle quote (')\n",
    "\\\"|\tDouble quote (\")\n",
    "\\a|\tASCII Bell (BEL)\n",
    "\\b|\tASCII Backspace (BS)\n",
    "\\f|\tASCII Formfeed (FF)\n",
    "\\n|\tASCII Linefeed (LF)\n",
    "\\r|\tASCII Carriage Return (CR)\n",
    "\\t|\tASCII Horizontal Tab (TAB)"
   ]
  },
  {
   "cell_type": "markdown",
   "metadata": {},
   "source": [
    "注：除了用\\n换行，还可以直接用三引号实现字符串内的换行"
   ]
  },
  {
   "cell_type": "code",
   "execution_count": 18,
   "metadata": {},
   "outputs": [
    {
     "name": "stdout",
     "output_type": "stream",
     "text": [
      "The cat doesn't eat fish\n",
      "The dog doesn't eat bone\n"
     ]
    }
   ],
   "source": [
    "print('''The cat doesn't eat fish\n",
    "The dog doesn't eat bone''' )"
   ]
  },
  {
   "cell_type": "markdown",
   "metadata": {},
   "source": [
    "以及，使用in 或 not in 判断XX是否在字符串里。等等"
   ]
  },
  {
   "cell_type": "markdown",
   "metadata": {},
   "source": [
    "#### 扩展二：字符串的format()方法[目的：进行字符串的格式统一]\n",
    "用法 | 方法\n",
    "- | :-:|:-\n",
    " 基本用法1：|'xxx{位置}xxx{位置}...xxx{位置}xxx'.format(变量, 变量..., 变量)。|format中的多个变量是一个序列，从0开始自动连续编号，左侧字符串内的位置就是变量的索引(不要求一定顺序排列)，按照索引位置，由右侧各个变量的值来替换{位置}。\n",
    "基本用法2：|'xxx{:整数}xxx{:整数}...xxx{:整数}xxx'.format(变量, 变量..., 变量)。|左侧字符串内如果没有指定索引，则按照右侧序列变量顺序替换字符串内的{:整数}。{:整数}表示替换变量在字符串中的格式，其中的整数表示替换变量占据的宽度(字符个数)。\n",
    "基本用法3：|'xxx{:.整数f}.format(变量)。|整数f表示该数值到达小数点后第几位"
   ]
  },
  {
   "cell_type": "code",
   "execution_count": 19,
   "metadata": {},
   "outputs": [
    {
     "name": "stdout",
     "output_type": "stream",
     "text": [
      "a=0,b=1,c=2\n",
      "a=1,b=0,c=2\n",
      "----------分隔符-------------\n",
      " 20,200\n",
      "200, 20\n"
     ]
    }
   ],
   "source": [
    "# 基本用法 1：\n",
    "print('a={0},b={1},c={2}'.format(0,1,2))\n",
    "print('a={1},b={0},c={2}'.format(0,1,2))\n",
    "print('----------分隔符-------------')\n",
    "# 基本用法 2：\n",
    "n=20\n",
    "print('{:3},{:3}'.format(n,10*n))\n",
    "print('{:3},{:3}'.format(10*n,n))"
   ]
  },
  {
   "cell_type": "code",
   "execution_count": null,
   "metadata": {
    "collapsed": true
   },
   "outputs": [],
   "source": [
    "a = int(input())\n",
    "b = int(input())\n",
    "c = int(input())\n",
    "perimeter = a+b+c\n",
    "print('三角形的周长为：{0:.2f}'.format(perimeter))"
   ]
  },
  {
   "cell_type": "markdown",
   "metadata": {},
   "source": [
    "#### 扩展三：字符串方法"
   ]
  },
  {
   "cell_type": "markdown",
   "metadata": {},
   "source": [
    "#### 第一类：大小写转换：\n",
    "序号|分类|操作\t|实例|\t结果|\t说明\n",
    "- |:- |:- |:- |:-|:-\n",
    "1|小写|str.lower()\t|'Beijing Language and Culture University'.lower()\t|'beijing language and culture university'|\t将str中所有能够小写的字母小写并输出新的str。\n",
    "2|大写|str.upper()\t|'beijing language and culture university'.upper()\t|'BEIJING LANGUAGE AND CULTURE UNIVERSITY'\t|将str中所有能够大写的字母大写并输出新的str。\n",
    "3|大写|str.title()|'beijing language and culture university'.title()\t|'Beijing Language And Culture University'|将str中各单词首字母大写并输出新的str。\n",
    "4|大写|str.capitalize()|'beijing language and culture university'.capitalize()|\t'Beijing language and culture university'|将str第一个单词首字母大写并输出新的str。"
   ]
  },
  {
   "cell_type": "markdown",
   "metadata": {},
   "source": [
    "#### 第二类：测试，查找，替换\n",
    "序号|分类|操作\t|实例|\t结果|\t说明\n",
    "- |:- |:- |:- |:-|:-\n",
    "1|测试|str.endswith(suffix, [start, [, end]])|'北京语言大学在北京宇宙中心'.endswith('中心')\t|True\t|如果str以suffix结尾，则返回True，否则返回False，start与end为可选参数，表示在这个索引的切片内进行endswith()操作。\n",
    "2|测试|str.startswith(prefix, [start, [, end]])\t|'北京语言大学在北京宇宙中心'.startswith('北')\t|True\t|如果str以prefix开头，则返回True，否则返回False，start与end为可选参数，表示在这个索引的切片内进行endswith()操作。\n",
    "3|查找|str.count(sub[, start[, end]])|\t'北京语言大学在北京宇宙中心'.count('北京')|\t2\t|返回子串sub在str中的出现次数(子串不重叠计算)，start与end为可选参数，表示在这个索引的切片内进行count()操作。\n",
    "4|查找|str.find(sub, [start, [, end]])|\t'北京语言大学在北京宇宙中心'.find('大学')\t|4|\t如果sub在str中，则返回其起始索引，否则返回-1，start与end为可选参数，表示在这个索引的切片内进行find()操作。\n",
    "5|查找|str.index(sub, [start, [, end]])|\t'北京语言大学在北京宇宙中心'.index('大学')\t|4|\t与find()类似，但当sub不在str时，会报错：ValueError。\n",
    "6|替换|str.replace(old, new[, count])|\t'北京语言文化大学'.replace('语言文化', '语言')\t|'北京语言大学'|\t将str中old子串用new子串替代并返回新的str，count参数可选，表示替换的个数(从左至右)。"
   ]
  },
  {
   "cell_type": "code",
   "execution_count": 1,
   "metadata": {},
   "outputs": [
    {
     "name": "stdout",
     "output_type": "stream",
     "text": [
      "3\n"
     ]
    }
   ],
   "source": [
    "#str.count示例\n",
    "my_str = 'shsjhujwjdnhsajsagjhkjghuwih2sjhjxbnbxngshzjshajhajkshajkznmxbnzmxjzk'\n",
    "sub = 'g'\n",
    "num=my_str.count( sub , 0 ,len(my_str))\n",
    "print(num)"
   ]
  },
  {
   "cell_type": "markdown",
   "metadata": {},
   "source": [
    "#### 第三类：拆分与组合\n",
    "序号|分类|操作\t|实例|\t结果|\t说明\n",
    "- |:- |:- |:- |:-|:-\n",
    "1|拆分|str.split(sep=None, maxsplit=-1)|'1,2,3'.split(',')|['1', '2', '3']\t|将str中的对象用分隔符sep分割开并作为一个list返回。\n",
    "2|拆分|str.split(sep=None, maxsplit=-1)|\t'1,2,3'.split(',', maxsplit = 1)|\t['1', '2,3']\t|参数maxsplit为分隔次数，默认为-1，表示分隔次数没有限制。\n",
    "3|拆分|str.split(sep=None, maxsplit=-1)\t|'1<>2<>3'.split('<>')\t|['1', '2', '3']|\t分隔符sep可以是多个字符。\n",
    "4|拆分|str.split(sep=None, maxsplit=-1)\t|' 1 2 3 '.split()\t|['1', '2', '3']\t|分隔符sep没有指定时，则以空格(或连续空格，含换行、换页及回车等)作为分隔符。(默认为空格）\n",
    "5|组合|str.join(iterable)\t|'-'.join('北京语言大学')\t|'北-京-语-言-大-学'\t|用str将iterable中的元素连接。\n"
   ]
  },
  {
   "cell_type": "markdown",
   "metadata": {},
   "source": [
    "#### 第四类：删除\n",
    "序号|分类|操作\t|实例|\t结果|\t说明\n",
    "- |:- |:- |:- |:-|:-\n",
    "1|去除|str.strip([chars])\t|www.example.com'.strip('cmowz.')\t|'example'\t|在str的两端，删除chars所包含的字符(1或者多个)，并返回剩余的字符串。默认删除\\n,\\t,空格\n",
    "2|去除|str.strip([chars])\t|' spacious '.strip()\t|'spacious'|\t如不指定chars，则默认删除两端的空白字符。"
   ]
  },
  {
   "cell_type": "markdown",
   "metadata": {},
   "source": [
    "## B 序列之列表（list）\n",
    "\n",
    "- Python有几个复合数据类型，用于表示其它的值。\n",
    "- 最通用的是 list (列表) ，它可以写作中括号之间的一列逗号分隔的值。\n",
    "- 列表的元素不必是同一类型，可以存放数字、字符串等各类对象。\n",
    "- 都存放在[]里，且用','分隔。"
   ]
  },
  {
   "cell_type": "markdown",
   "metadata": {},
   "source": [
    "##### 操作：\n",
    "- 1是否存在\n",
    "- 2连接操作\n",
    "- 3重复操作\n",
    "- 4索引\n",
    "- 5切片\n",
    "- 6长度\n",
    "- 7最大值\n",
    "- 8最小值\n",
    "- 9索引访问\n",
    "- 10出现次数\n",
    "- 11排序\n",
    "- 补充一：list的初始化\n",
    "- 补充二：list的求和\n",
    "- 补充三：遍历\n",
    "- 补充四：可变序列操作"
   ]
  },
  {
   "cell_type": "markdown",
   "metadata": {},
   "source": [
    "#### 补充一：list的初始化：\n",
    "- ①x=[].\n",
    "  - []是空的list，可赋值给一个对象，该对象类型即成为list，值为一个空的list：[]\n",
    "- ②x=list"
   ]
  },
  {
   "cell_type": "code",
   "execution_count": 20,
   "metadata": {
    "scrolled": false
   },
   "outputs": [
    {
     "name": "stdout",
     "output_type": "stream",
     "text": [
      "[]\n",
      "[10, 33, 'China', '再见', 55555, 0]\n"
     ]
    }
   ],
   "source": [
    "a=[]\n",
    "print(a)\n",
    "\n",
    "b=list\n",
    "print(b)"
   ]
  },
  {
   "cell_type": "markdown",
   "metadata": {},
   "source": [
    "#### 补充二：list求和："
   ]
  },
  {
   "cell_type": "code",
   "execution_count": 21,
   "metadata": {
    "scrolled": true
   },
   "outputs": [
    {
     "name": "stdout",
     "output_type": "stream",
     "text": [
      "532\n"
     ]
    }
   ],
   "source": [
    "numbers=[11,22,334,44,55,66]\n",
    "print(sum(numbers))\n"
   ]
  },
  {
   "cell_type": "markdown",
   "metadata": {},
   "source": [
    "#### 补充三：遍历\n",
    "- 利用循环，取出list中的各个对象，这个过程称作遍历或迭代。"
   ]
  },
  {
   "cell_type": "code",
   "execution_count": 22,
   "metadata": {
    "scrolled": false
   },
   "outputs": [
    {
     "name": "stdout",
     "output_type": "stream",
     "text": [
      "The\n",
      "quick\n",
      "brown\n",
      "fox\n",
      "jumps\n",
      "over\n",
      "the\n",
      "lazy\n",
      "dog\n"
     ]
    }
   ],
   "source": [
    "words = ['The', 'quick', 'brown', 'fox', 'jumps', 'over', 'the', 'lazy', 'dog']\n",
    "\n",
    "i = 0\n",
    "while i < 9:                #目测words中有9个word\n",
    "    print(words[i])\n",
    "    i += 1"
   ]
  },
  {
   "cell_type": "markdown",
   "metadata": {},
   "source": [
    "#### 补充四：可变操作序列："
   ]
  },
  {
   "cell_type": "markdown",
   "metadata": {},
   "source": [
    "序号|操作|说明\n",
    "- | :- | :- |\n",
    "1|s[i] = x\t|s中第i个对象替换成x\n",
    "2|s[i:j] = t\t\t|将s中i到j(不包括j位置对象)的切片替换为序列t中的对象。\n",
    "3|s[i:j:k] = t|将s中i到j(不包括j位置对象)间隔为k的切片依次替换为序列t中的对象。\n",
    "4|del s[i:j]\t|\t等价于s[i:j] = []\n",
    "5|del s[i:j:k]|将s中i到j(不包括j位置对象)间隔为k位置的对象删除。\n",
    "6|s.clear()\t|清空s中所有元素，等价于del s[:]，或s[:] = []\n",
    "7|s.append(x)|将x加入到s的末端，等价于s[len(s):len(s)] = [x]\n",
    "8|s += t 或者 s.extend(t)|\ts后面扩展t\n",
    "9|s.insert(i, x)\t|\t在s的第i个位置插入元素x，等价于s[i:i] = [x]。\n",
    "10|t \\*= n\t\t|t中内容重复n次后再复制给t\n",
    "11|s.copy()\t|s的浅拷贝，等价于s[:]\n",
    "12|s.pop([i])\t|从s中删除第i个元素，并将其作为返回值\n",
    "13|s.remove(x)|\t从s中删除第一个x对象。\n",
    "14|s.reverse()|将s进行就地反转。"
   ]
  },
  {
   "cell_type": "code",
   "execution_count": 23,
   "metadata": {},
   "outputs": [
    {
     "name": "stdout",
     "output_type": "stream",
     "text": [
      "[2, 4, 555, 0, 'true']\n",
      "[2, 4, 555, 22, 33]\n",
      "['A', 4, 'B', 22, 33]\n"
     ]
    }
   ],
   "source": [
    "#替换\n",
    "list=[2,4,555,'fake','true']\n",
    "\n",
    "list[3]=0\n",
    "print(list)\n",
    "\n",
    "list[3:5]=[22,33]\n",
    "print(list)\n",
    "\n",
    "list[0:3:2]='AB'\n",
    "print(list)"
   ]
  },
  {
   "cell_type": "code",
   "execution_count": 24,
   "metadata": {},
   "outputs": [
    {
     "name": "stdout",
     "output_type": "stream",
     "text": [
      "[555, 'fake', 'true', 6, 3, 5, 444, 565]\n",
      "[555, 'fake', 'true', 3, 444, 565]\n"
     ]
    }
   ],
   "source": [
    "#删除\n",
    "list=[2,4,555,'fake','true',6,3,5,444,565]\n",
    "del list[0:2]\n",
    "print(list)\n",
    "\n",
    "del list[3:6:2]\n",
    "print(list)"
   ]
  },
  {
   "cell_type": "code",
   "execution_count": 25,
   "metadata": {},
   "outputs": [
    {
     "data": {
      "text/plain": [
       "[]"
      ]
     },
     "execution_count": 25,
     "metadata": {},
     "output_type": "execute_result"
    }
   ],
   "source": [
    "#清空\n",
    "list=[2,4,555,'fake','true',6,3,5,444,565]\n",
    "list.clear()\n",
    "list"
   ]
  },
  {
   "cell_type": "code",
   "execution_count": 26,
   "metadata": {},
   "outputs": [
    {
     "name": "stdout",
     "output_type": "stream",
     "text": [
      "['Google', 'Taobao', 'Baidu']\n",
      "['Bing', 'Jingdong', 'Dangdang']\n"
     ]
    }
   ],
   "source": [
    "#append方法\n",
    "a=['Google','Taobao']\n",
    "a.append('Baidu')\n",
    "print(a)\n",
    "\n",
    "b=['Bing']\n",
    "b.extend(['Jingdong','Dangdang'])\n",
    "print(b)"
   ]
  },
  {
   "cell_type": "code",
   "execution_count": 27,
   "metadata": {},
   "outputs": [
    {
     "name": "stdout",
     "output_type": "stream",
     "text": [
      "['Bing', 'Jingdong', 'Dangdang']\n"
     ]
    }
   ],
   "source": [
    "#extend()方法\n",
    "b3=['Bing']\n",
    "b3.extend(['Jingdong','Dangdang'])\n",
    "print(b3)"
   ]
  },
  {
   "cell_type": "code",
   "execution_count": 28,
   "metadata": {},
   "outputs": [
    {
     "data": {
      "text/plain": [
       "[2, 4, 555, 'haha', 'fake', 'true', 6, 3, 5, 444, 565]"
      ]
     },
     "execution_count": 28,
     "metadata": {},
     "output_type": "execute_result"
    }
   ],
   "source": [
    "#insert()方法\n",
    "list=[2,4,555,'fake','true',6,3,5,444,565]\n",
    "list.insert(3,'haha')\n",
    "list"
   ]
  },
  {
   "cell_type": "code",
   "execution_count": 29,
   "metadata": {},
   "outputs": [
    {
     "name": "stdout",
     "output_type": "stream",
     "text": [
      "['Yamaxun', 'Taobao']\n"
     ]
    }
   ],
   "source": [
    "#remove()方法\n",
    "c=['Yamaxun','Jingdong','Taobao']\n",
    "c.remove('Jingdong')\n",
    "print(c)"
   ]
  },
  {
   "cell_type": "code",
   "execution_count": 30,
   "metadata": {},
   "outputs": [
    {
     "name": "stdout",
     "output_type": "stream",
     "text": [
      "[44, 33, 22, 11]\n"
     ]
    }
   ],
   "source": [
    "#reverse()方法\n",
    "list=[11,22,33,44]\n",
    "list.reverse()\n",
    "print(list)"
   ]
  },
  {
   "cell_type": "markdown",
   "metadata": {},
   "source": [
    "#### 扩展一：列表推导\n",
    "A:对可迭代（遍历）对象如list，比较频繁的操作是：遍历list，取符合条件的元素子集并对其中每个元素进行某些操作，python提供了类似操作的简洁实现方式。"
   ]
  },
  {
   "cell_type": "code",
   "execution_count": 31,
   "metadata": {},
   "outputs": [
    {
     "name": "stdout",
     "output_type": "stream",
     "text": [
      "[0, 1, 2, 3, 4, 5, 6, 7, 8, 9] \n",
      "\n",
      "[0, 1, 2, 3, 4, 5, 6, 7, 8, 9, 1, 2, 3, 4, 5, 6, 7, 8, 9, 10, 2, 3, 4, 5, 6, 7, 8, 9, 10, 11, 3, 4, 5, 6, 7, 8, 9, 10, 11, 12, 4, 5, 6, 7, 8, 9, 10, 11, 12, 13, 5, 6, 7, 8, 9, 10, 11, 12, 13, 14, 6, 7, 8, 9, 10, 11, 12, 13, 14, 15, 7, 8, 9, 10, 11, 12, 13, 14, 15, 16, 8, 9, 10, 11, 12, 13, 14, 15, 16, 17, 9, 10, 11, 12, 13, 14, 15, 16, 17, 18] \n",
      "\n",
      "[0.0, 1.4142135623730951, 2.0, 2.449489742783178, 2.8284271247461903] \n",
      "\n",
      "['quick', 'brown', 'jumps', 'over', 'lazy']\n"
     ]
    }
   ],
   "source": [
    "import math\n",
    "\n",
    "numbers = [i for i in range(10)]\n",
    "print(numbers, '\\n')\n",
    "\n",
    "numbers = [i+j for i in range(10) for j in range(10)]\n",
    "print(numbers, '\\n')\n",
    "\n",
    "numbers = [math.sqrt(i) for i in range(10) if i%2==0]\n",
    "print(numbers, '\\n')\n",
    "\n",
    "words = ['The', 'quick', 'brown', 'fox', 'jumps', 'over', 'the', 'lazy', 'dog']\n",
    "selected_words = [word for word in words if len(word) > 3]\n",
    "print(selected_words)"
   ]
  },
  {
   "cell_type": "markdown",
   "metadata": {},
   "source": [
    "B: 列表推导的与文本处理的结合(利用列表推导代替循环）\n",
    "\n",
    "目的：都是将idioms中每一个idiom取出后加上\\n，最后形成一个列表。\n"
   ]
  },
  {
   "cell_type": "markdown",
   "metadata": {},
   "source": [
    "利用循环的代码如下：\n",
    "- for idiom in idioms:\n",
    "    - correct_idioms.append(idiom+'\\n')"
   ]
  },
  {
   "cell_type": "markdown",
   "metadata": {},
   "source": [
    "利用列表推导的代码如下：\n",
    "- [idiom + '\\n' for idiom in idioms]\n",
    "\n",
    "（注：这里让idioms指向用列表推导得到的新列表，没有必要再如循环中那样定义新的变量correct_idioms。使代码更加简洁）"
   ]
  },
  {
   "cell_type": "markdown",
   "metadata": {},
   "source": [
    "#### 扩展二：解耦\n",
    "序列内的对象，可以按照对象个数同时赋值给多个变量/对象，称为解耦。 下段中语句c, a, b= a, b, c，右侧实际上是利用三个变量形成了一个元组，然后解耦，在一行中同时完成了3个变量之间值的交换。"
   ]
  },
  {
   "cell_type": "code",
   "execution_count": 32,
   "metadata": {},
   "outputs": [
    {
     "name": "stdout",
     "output_type": "stream",
     "text": [
      "102\n",
      "20\n",
      "1 0 2\n",
      "0 2 1\n"
     ]
    }
   ],
   "source": [
    "numbers = ['102', 20]\n",
    "x, y = numbers\n",
    "print(x)\n",
    "print(y)\n",
    "\n",
    "a, b, c = x\n",
    "print(a, b, c)\n",
    "\n",
    "c, a, b = a, b, c\n",
    "print(a, b, c)"
   ]
  },
  {
   "cell_type": "markdown",
   "metadata": {},
   "source": [
    "#### 扩展三：二维列表"
   ]
  },
  {
   "cell_type": "code",
   "execution_count": 6,
   "metadata": {
    "collapsed": true
   },
   "outputs": [],
   "source": [
    "def count_words_freq(filename):\n",
    "    '''\n",
    "    给定文本文件，建立词表并同时统计词频\n",
    "    '''\n",
    "    word_freq_pairs = []#空列表\n",
    "    \n",
    "    with open(filename) as f:\n",
    "        text = f.read()\n",
    "        \n",
    "    words = [word.split('/')[0] for word in text.split()]#详解1\n",
    "    for word in words:\n",
    "        for item in word_freq_pairs:\n",
    "            if word == item[0]:\n",
    "                item[1] += 1\n",
    "                break\n",
    "        else:\n",
    "            word_freq_pairs.append([word, 1])\n",
    "            \n",
    "    return word_freq_pairs"
   ]
  },
  {
   "cell_type": "markdown",
   "metadata": {},
   "source": [
    "详解1：words = [word.split('/')[0] for word in text.split()]详解：\n",
    "- text为一个很长的字符串1\n",
    "- text.split后就变成了一个列表list1，里面的每一个元素都是一个比较长的字符串2\n",
    "- 每一个word即为list1中的一个比较长的字符串\n",
    "- word.split后就变成了另一个列表list2，里面的每一个元素都是字符串3\n",
    "- 若我们给word.split取索引，那么我们只取其中一个元素，得到的就是一个字符串str1了"
   ]
  },
  {
   "cell_type": "code",
   "execution_count": 5,
   "metadata": {},
   "outputs": [
    {
     "name": "stdout",
     "output_type": "stream",
     "text": [
      "list1 ['非京/ns/1', '籍/ng/2', '购房/n/3', '须/d/4', '连缴/v/5'] list1类型 <class 'list'>\n",
      "word的类型 <class 'str'> list2 ['非京', 'ns', '1'] list2类型 <class 'list'> str1 非京 str1类型 <class 'str'>\n",
      "word的类型 <class 'str'> list2 ['籍', 'ng', '2'] list2类型 <class 'list'> str1 籍 str1类型 <class 'str'>\n",
      "word的类型 <class 'str'> list2 ['购房', 'n', '3'] list2类型 <class 'list'> str1 购房 str1类型 <class 'str'>\n",
      "word的类型 <class 'str'> list2 ['须', 'd', '4'] list2类型 <class 'list'> str1 须 str1类型 <class 'str'>\n",
      "word的类型 <class 'str'> list2 ['连缴', 'v', '5'] list2类型 <class 'list'> str1 连缴 str1类型 <class 'str'>\n"
     ]
    }
   ],
   "source": [
    "text='非京/ns/1 籍/ng/2 购房/n/3 须/d/4 连缴/v/5'\n",
    "list1=text.split()\n",
    "print('list1',list1,'list1类型',type(list1))\n",
    "for word in list1:\n",
    "    list2=word.split('/')\n",
    "    str1=word.split('/')[0]#只取其中一个元素\n",
    "    print('word的类型',type(word),'list2',list2,'list2类型',type(list2),'str1',str1,'str1类型',type(str1))"
   ]
  },
  {
   "cell_type": "markdown",
   "metadata": {},
   "source": [
    "- word_freq_pairs是二维列表，初始为空。其中每一个元素也是列表，存放[词，词频]。item[]也是一个列表\n",
    "- 通过一个列表解析(即字符串解析），得到words，存放filename文件中所有去掉词性标记后的词汇。\n",
    "- 在for word in words:循环中,对每一个在words中的词汇，如果与word_freq_pairs中某一个item相同，则对应的item的频次加一，如果不在，则在word_freq_pairs中增加一个item，其初始频次为1。其中，for...else的用法与while...else的用法类似。"
   ]
  },
  {
   "cell_type": "markdown",
   "metadata": {},
   "source": [
    "## C 序列之元组（tuple）\n",
    "- 元组不可变\n",
    "- 利用()来表示"
   ]
  },
  {
   "cell_type": "markdown",
   "metadata": {},
   "source": [
    "##### 操作：\n",
    "- 1是否存在\n",
    "- 2连接操作\n",
    "- 3重复操作\n",
    "- 4索引\n",
    "- 5切片\n",
    "- 6长度\n",
    "- 7最大值\n",
    "- 8最小值\n",
    "- 9索引访问\n",
    "- 10出现次数\n",
    "- 11排序\n",
    "- 12补充一：元组的初始化\n",
    "- 13补充二：整个元组的删除"
   ]
  },
  {
   "cell_type": "markdown",
   "metadata": {},
   "source": [
    "#### 补充一：元组的初始化\n"
   ]
  },
  {
   "cell_type": "code",
   "execution_count": 33,
   "metadata": {},
   "outputs": [
    {
     "name": "stdout",
     "output_type": "stream",
     "text": [
      "()\n"
     ]
    },
    {
     "ename": "TypeError",
     "evalue": "'tuple' object is not callable",
     "output_type": "error",
     "traceback": [
      "\u001b[1;31m---------------------------------------------------------------------------\u001b[0m",
      "\u001b[1;31mTypeError\u001b[0m                                 Traceback (most recent call last)",
      "\u001b[1;32m<ipython-input-33-937fe2f4b935>\u001b[0m in \u001b[0;36m<module>\u001b[1;34m()\u001b[0m\n\u001b[0;32m      3\u001b[0m \u001b[0mprint\u001b[0m\u001b[1;33m(\u001b[0m\u001b[0mnumbers\u001b[0m\u001b[1;33m)\u001b[0m\u001b[1;33m\u001b[0m\u001b[0m\n\u001b[0;32m      4\u001b[0m \u001b[1;33m\u001b[0m\u001b[0m\n\u001b[1;32m----> 5\u001b[1;33m \u001b[0mnumbers\u001b[0m \u001b[1;33m=\u001b[0m \u001b[0mtuple\u001b[0m\u001b[1;33m(\u001b[0m\u001b[1;33m)\u001b[0m\u001b[1;33m\u001b[0m\u001b[0m\n\u001b[0m\u001b[0;32m      6\u001b[0m \u001b[0mprint\u001b[0m\u001b[1;33m(\u001b[0m\u001b[0mnumbers\u001b[0m\u001b[1;33m)\u001b[0m\u001b[1;33m\u001b[0m\u001b[0m\n\u001b[0;32m      7\u001b[0m \u001b[1;33m\u001b[0m\u001b[0m\n",
      "\u001b[1;31mTypeError\u001b[0m: 'tuple' object is not callable"
     ]
    }
   ],
   "source": [
    "#元组的初始化\n",
    "numbers = ()\n",
    "print(numbers)\n",
    "\n",
    "numbers = tuple()\n",
    "print(numbers)\n",
    "\n",
    "numbers = (1,)\n",
    "print(numbers)\n",
    "\n",
    "numbers = 1,\n",
    "print(numbers)\n",
    "\n",
    "numbers = (1, 2, 3, 4, 5)\n",
    "print(numbers)\n",
    "\n",
    "numbers = 1, 2, 3, 4, 5\n",
    "print(numbers)"
   ]
  },
  {
   "cell_type": "code",
   "execution_count": 34,
   "metadata": {},
   "outputs": [
    {
     "ename": "SyntaxError",
     "evalue": "invalid character in identifier (<ipython-input-34-c8dae604aa24>, line 1)",
     "output_type": "error",
     "traceback": [
      "\u001b[1;36m  File \u001b[1;32m\"<ipython-input-34-c8dae604aa24>\"\u001b[1;36m, line \u001b[1;32m1\u001b[0m\n\u001b[1;33m    numbers = (1)    #数字而非元组\u001b[0m\n\u001b[1;37m                  ^\u001b[0m\n\u001b[1;31mSyntaxError\u001b[0m\u001b[1;31m:\u001b[0m invalid character in identifier\n"
     ]
    }
   ],
   "source": [
    "numbers = (1)    #数字而非元组\n",
    "print(numbers)"
   ]
  },
  {
   "cell_type": "markdown",
   "metadata": {},
   "source": [
    "- 提示：  \n",
    "  - 元组在输出时一定是有括号的，以便于正确表达嵌套结构。 而且一定有逗号 \n",
    "  - 在输入时()可以省略，但建议只在不降低程序可读性时省略。\n",
    "  - 不过经常括号都是必须的（如果元组是一个更大的表达式的一部分）\n",
    "  - 可见元组(tuple)的初始化与列表(list)类似，元组用()\n",
    "  - 若元组中只包含一个元素时，需要在元素后面添加逗号，否则括号会被当作运算符使用"
   ]
  },
  {
   "cell_type": "markdown",
   "metadata": {},
   "source": [
    "#### 补充二：整个元组的删除\n",
    "元组中的元素值是不允许删除的，但我们可以使用del语句来删除整个元组（当然del之后这个元组就不存在了）"
   ]
  },
  {
   "cell_type": "code",
   "execution_count": 35,
   "metadata": {},
   "outputs": [
    {
     "name": "stdout",
     "output_type": "stream",
     "text": [
      "('Google', 'Taobao', 'Xinlang')\n"
     ]
    },
    {
     "ename": "NameError",
     "evalue": "name 'e' is not defined",
     "output_type": "error",
     "traceback": [
      "\u001b[1;31m---------------------------------------------------------------------------\u001b[0m",
      "\u001b[1;31mNameError\u001b[0m                                 Traceback (most recent call last)",
      "\u001b[1;32m<ipython-input-35-56189e19bb0d>\u001b[0m in \u001b[0;36m<module>\u001b[1;34m()\u001b[0m\n\u001b[0;32m      3\u001b[0m \u001b[1;33m\u001b[0m\u001b[0m\n\u001b[0;32m      4\u001b[0m \u001b[1;32mdel\u001b[0m \u001b[0me\u001b[0m\u001b[1;33m\u001b[0m\u001b[0m\n\u001b[1;32m----> 5\u001b[1;33m \u001b[0mprint\u001b[0m\u001b[1;33m(\u001b[0m\u001b[1;34m'新的元组：'\u001b[0m\u001b[1;33m,\u001b[0m\u001b[0me\u001b[0m\u001b[1;33m)\u001b[0m\u001b[1;33m\u001b[0m\u001b[0m\n\u001b[0m",
      "\u001b[1;31mNameError\u001b[0m: name 'e' is not defined"
     ]
    }
   ],
   "source": [
    "e=('Google','Taobao','Xinlang')\n",
    "print(e)\n",
    "\n",
    "del e\n",
    "print('新的元组：',e)"
   ]
  },
  {
   "cell_type": "markdown",
   "metadata": {},
   "source": [
    "#### 扩展一：函数返回值\n",
    "函数返回多个值，则多个值将以元组的形式返回"
   ]
  },
  {
   "cell_type": "code",
   "execution_count": 36,
   "metadata": {},
   "outputs": [
    {
     "name": "stdout",
     "output_type": "stream",
     "text": [
      "(1, 2, 3)\n",
      "('one', 'two', 'three')\n",
      "((1, 2, 3), (4, 5, 6))\n",
      "([1, 2, 3], [4, 5, 6])\n"
     ]
    }
   ],
   "source": [
    "def three_return_value():\n",
    "    return 1, 2, 3\n",
    "    \n",
    "print(three_return_value())\n",
    "\n",
    "def three_return_word():\n",
    "    return 'one', 'two', 'three'\n",
    "\n",
    "print(three_return_word())\n",
    "\n",
    "def two_return_tuple():\n",
    "    numbers1 = 1,2,3\n",
    "    numbers2 = 4,5,6\n",
    "    return numbers1, numbers2\n",
    "\n",
    "print(two_return_tuple())\n",
    "\n",
    "def two_return_list():\n",
    "    numbers1 = [1,2,3]\n",
    "    numbers2 = [4,5,6]\n",
    "    return numbers1, numbers2\n",
    "\n",
    "print(two_return_list())"
   ]
  },
  {
   "cell_type": "markdown",
   "metadata": {},
   "source": [
    "#### 扩展二：元组与列表的嵌套\n",
    "元组与列表内的元素还可以是元组或列表，一般称为嵌套。"
   ]
  },
  {
   "cell_type": "code",
   "execution_count": 37,
   "metadata": {
    "scrolled": true
   },
   "outputs": [
    {
     "name": "stdout",
     "output_type": "stream",
     "text": [
      "1\n",
      "4\n",
      "9\n",
      "------------------------------\n",
      "(1, 2, 3)\n",
      "1\n",
      "2\n",
      "3\n",
      "(4, 5, 6)\n",
      "4\n",
      "5\n",
      "6\n",
      "(7, 8, 9)\n",
      "7\n",
      "8\n",
      "9\n"
     ]
    }
   ],
   "source": [
    "numbers = [(1,2,3), (4,5,6), (7,8,9)]\n",
    "print(numbers[0][0])\n",
    "print(numbers[1][0])\n",
    "print(numbers[2][2])\n",
    "print('-'*30)\n",
    "for number in numbers:\n",
    "    print(number)\n",
    "    for num in number:\n",
    "        print(num)"
   ]
  },
  {
   "cell_type": "markdown",
   "metadata": {},
   "source": [
    "#### 扩展三 ：元组存在的意义\n",
    "比如列表与元组区别开有什么意义呢？\n",
    "元组不可变，因此对元组操作很多时候还还需要建立新元组，多麻烦。全部设计成可变的不是更好吗？\n",
    "实际上，元组单独作为一种数据类型，有其特别的考虑：\n",
    "- 一个原因是相同操作时，一般元组比列表速度更快；\n",
    "- 另外，利用元组的不可变性可以保护某些本来就不打算更改的序列；最后，后续一些数据类型如dict，只能用不可变类型作为键。"
   ]
  }
 ],
 "metadata": {
  "kernelspec": {
   "display_name": "Python 3",
   "language": "python",
   "name": "python3"
  },
  "language_info": {
   "codemirror_mode": {
    "name": "ipython",
    "version": 3
   },
   "file_extension": ".py",
   "mimetype": "text/x-python",
   "name": "python",
   "nbconvert_exporter": "python",
   "pygments_lexer": "ipython3",
   "version": "3.6.3"
  }
 },
 "nbformat": 4,
 "nbformat_minor": 2
}
