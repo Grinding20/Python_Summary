{
 "cells": [
  {
   "cell_type": "markdown",
   "metadata": {},
   "source": [
    "### 字符串的format()方法[目的：进行字符串的格式统一]\n",
    "- 基本用法1：'xxx{位置}xxx{位置}...xxx{位置}xxx'.format(变量, 变量..., 变量)。format中的多个变量是一个序列，从0开始自动连续编号，左侧字符串内的位置就是变量的索引(不要求一定顺序排列)，按照索引位置，由右侧各个变量的值来替换{位置}。\n",
    "- 基本用法2：'xxx{:整数}xxx{:整数}...xxx{:整数}xxx'.format(变量, 变量..., 变量)。左侧字符串内如果没有指定索引，则按照右侧序列变量顺序替换字符串内的{:整数}。{:整数}表示替换变量在字符串中的格式，其中的整数表示替换变量占据的宽度(字符个数)。\n",
    "- 基本用法3：'xxx{:.整数f}.format(变量)。整数f表示该数值到达小数点后第几位"
   ]
  },
  {
   "cell_type": "code",
   "execution_count": 9,
   "metadata": {},
   "outputs": [
    {
     "name": "stdout",
     "output_type": "stream",
     "text": [
      "a=0,b=1,c=2\n",
      "a=1,b=0,c=2\n",
      "----------分隔符-------------\n",
      " 20,200\n",
      "200, 20\n"
     ]
    }
   ],
   "source": [
    "# 基本用法 1：\n",
    "print('a={0},b={1},c={2}'.format(0,1,2))\n",
    "print('a={1},b={0},c={2}'.format(0,1,2))\n",
    "print('----------分隔符-------------')\n",
    "# 基本用法 2：\n",
    "n=20\n",
    "print('{:3},{:3}'.format(n,10*n))\n",
    "print('{:3},{:3}'.format(10*n,n))"
   ]
  },
  {
   "cell_type": "code",
   "execution_count": 10,
   "metadata": {
    "scrolled": true
   },
   "outputs": [
    {
     "name": "stdout",
     "output_type": "stream",
     "text": [
      "3\n",
      "4\n",
      "5\n",
      "三角形的周长为：12.00\n"
     ]
    }
   ],
   "source": [
    "a = int(input())\n",
    "b = int(input())\n",
    "c = int(input())\n",
    "perimeter = a+b+c\n",
    "print('三角形的周长为：{0:.2f}'.format(perimeter))"
   ]
  },
  {
   "cell_type": "markdown",
   "metadata": {},
   "source": [
    "格式字符串的format()方法很多时候，配合print()一起使用，具体内容可参考： https://docs.python.org/3/library/string.html#formatstrings\n",
    "这里仅举一些实例进行一般的用法说明。"
   ]
  },
  {
   "cell_type": "code",
   "execution_count": 1,
   "metadata": {
    "scrolled": true
   },
   "outputs": [
    {
     "name": "stdout",
     "output_type": "stream",
     "text": [
      "a, b, c\n",
      "c, b, a\n",
      "abracadabra\n"
     ]
    }
   ],
   "source": [
    "# str.format()示例1\n",
    "\n",
    "print('{}, {}, {}'.format('a', 'b', 'c'))\n",
    "print('{2}, {1}, {0}'.format('a', 'b', 'c'))\n",
    "print('{0}{1}{0}'.format('abra', 'cad'))     # arguments' indices can be repeated"
   ]
  },
  {
   "cell_type": "code",
   "execution_count": 3,
   "metadata": {
    "scrolled": true
   },
   "outputs": [
    {
     "name": "stdout",
     "output_type": "stream",
     "text": [
      "Coordinates: 37.24N, -115.81W\n",
      "X: 2;  Y: 5\n"
     ]
    }
   ],
   "source": [
    "# str.format()示例2\n",
    "\n",
    "print('Coordinates: {latitude}, {longitude}'.format(latitude='37.24N', longitude='-115.81W'))\n",
    "\n",
    "coord = [3,5]\n",
    "apple = [2,7]\n",
    "print('X: {1[0]};  Y: {0[1]}'.format(coord,apple))"
   ]
  },
  {
   "cell_type": "code",
   "execution_count": 3,
   "metadata": {
    "scrolled": true
   },
   "outputs": [
    {
     "name": "stdout",
     "output_type": "stream",
     "text": [
      "left aligned                  \n",
      "                 right aligned\n",
      "           centered           \n",
      "***********centered***********\n"
     ]
    }
   ],
   "source": [
    "# str.format()示例3\n",
    "\n",
    "print('{:<30}'.format('left aligned'))\n",
    "print('{:>30}'.format('right aligned'))\n",
    "print('{:^30}'.format('centered'))\n",
    "print('{:*^30}'.format('centered'))     # use '*' as a fill char"
   ]
  },
  {
   "cell_type": "code",
   "execution_count": 4,
   "metadata": {},
   "outputs": [
    {
     "name": "stdout",
     "output_type": "stream",
     "text": [
      "+3.140000; -3.140000\n",
      " 3.140000; -3.140000\n",
      "1,234,567,890\n"
     ]
    }
   ],
   "source": [
    "# str.format()示例4\n",
    "\n",
    "print('{:+f}; {:+f}'.format(3.14, -3.14))\n",
    "print('{: f}; {: f}'.format(3.14, -3.14))\n",
    "\n",
    "print('{:,}'.format(1234567890))"
   ]
  }
 ],
 "metadata": {
  "kernelspec": {
   "display_name": "Python 3",
   "language": "python",
   "name": "python3"
  },
  "language_info": {
   "codemirror_mode": {
    "name": "ipython",
    "version": 3
   },
   "file_extension": ".py",
   "mimetype": "text/x-python",
   "name": "python",
   "nbconvert_exporter": "python",
   "pygments_lexer": "ipython3",
   "version": "3.6.3"
  }
 },
 "nbformat": 4,
 "nbformat_minor": 2
}
