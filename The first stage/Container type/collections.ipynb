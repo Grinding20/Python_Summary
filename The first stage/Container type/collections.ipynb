{
 "cells": [
  {
   "cell_type": "markdown",
   "metadata": {},
   "source": [
    "### collections模块："
   ]
  },
  {
   "cell_type": "markdown",
   "metadata": {},
   "source": [
    "- collections是python标准库中的容器类型(Container datatypes)\n",
    "- 可以视为内置的dict,set,list,tuple等的特殊形式"
   ]
  },
  {
   "cell_type": "markdown",
   "metadata": {},
   "source": [
    "#### A:defaultdict类型"
   ]
  },
  {
   "cell_type": "code",
   "execution_count": 1,
   "metadata": {
    "collapsed": true
   },
   "outputs": [],
   "source": [
    "from collections import defaultdict\n",
    "\n",
    "def count_words_freq_dict(filename):\n",
    "    words_freq_dict = defaultdict(int)\n",
    "    \n",
    "    with open(filename) as f:\n",
    "        for line in f:\n",
    "            words = [word.split('/')[0] for word in line.split()]\n",
    "            for word in words:\n",
    "                words_freq_dict[word] += 1    \n",
    "    return words_freq_dict"
   ]
  },
  {
   "cell_type": "markdown",
   "metadata": {},
   "source": [
    "- 首先从collections模块中引入了defaultdict类型\n",
    "- defaultdict(int)是建立了一个defaultdict类型的对象，该对象类似dict\n",
    "- 但对没有在defaultdict中的键key，设缺省值(默认值）为整型数0。\n",
    "- words_freq_dict[word] += 1，如遇到原先不在words_freq_dict中的word，由于缺省值为0，再自增加1后，为1次。"
   ]
  },
  {
   "cell_type": "markdown",
   "metadata": {},
   "source": [
    "#### B:Counter类型"
   ]
  },
  {
   "cell_type": "code",
   "execution_count": 2,
   "metadata": {
    "collapsed": true
   },
   "outputs": [],
   "source": [
    "from collections import Counter\n",
    "\n",
    "def count_words_freq_dict(filename):\n",
    "    words_freq_dict = Counter()\n",
    "    \n",
    "    with open(filename) as f:\n",
    "        for line in f:\n",
    "            words_freq_dict.update([word.split('/')[0] for word in line.split()])\n",
    "    return words_freq_dict"
   ]
  },
  {
   "cell_type": "markdown",
   "metadata": {},
   "source": [
    "#### Counter中的方法："
   ]
  },
  {
   "cell_type": "code",
   "execution_count": 17,
   "metadata": {},
   "outputs": [
    {
     "name": "stdout",
     "output_type": "stream",
     "text": [
      "Counter()\n",
      "Counter({'a': 3, 'l': 2, 'g': 1, 'h': 1, 'd': 1})\n",
      "Counter({'red': 4, 'blue': 2})\n",
      "Counter({'dogs': 8, 'cats': 4})\n",
      "Counter({'eggs': 1, 'ham': 1})\n",
      "Counter({'eggs': 1, 'ham': 1})\n"
     ]
    }
   ],
   "source": [
    "# 示例：\n",
    "c = Counter()                           # a new, empty counter\n",
    "print(c)\n",
    "c = Counter('gallahad')                 # a new counter from an iterable\n",
    "print(c)\n",
    "c = Counter({'red': 4, 'blue': 2})      # a new counter from a mapping\n",
    "print(c)\n",
    "c = Counter(cats=4, dogs=8)             # a new counter from keyword args\n",
    "print(c)\n",
    "c = Counter(['eggs', 'ham'])\n",
    "print(c)\n",
    "c['bacon']\n",
    "print(c)                              # count of a missing element is zero\n",
    "#print(d)"
   ]
  },
  {
   "cell_type": "markdown",
   "metadata": {},
   "source": [
    "Counter 常用方法："
   ]
  },
  {
   "cell_type": "code",
   "execution_count": 7,
   "metadata": {
    "scrolled": true
   },
   "outputs": [
    {
     "name": "stdout",
     "output_type": "stream",
     "text": [
      "['a', 'a', 'a', 'a', 'b', 'b']\n",
      "[('d', 1), ('w', 1), ('we', 1)]\n",
      "Counter({'a': 4, 'b': 3})\n",
      "Counter({'a': 2})\n",
      "Counter({'a': 1, 'b': 1})\n",
      "Counter({'a': 3, 'b': 2})\n"
     ]
    }
   ],
   "source": [
    "c = Counter(a=4, b=2, c=0, d=-2)\n",
    "print(sorted(c.elements()))         # Return an iterator over elements repeating each as many times as its count. \n",
    "                                    # Elements are returned in arbitrary order.\n",
    "text = ['d','w','we','you','haha']\n",
    "n=3\n",
    "print(Counter(text).most_common(n) )# Return a list of the n most common elements and their counts from the most common to the least.  \n",
    "                                    # 相当于根据值value逆序前n个key-value pairs。\n",
    "\n",
    "c = Counter(a=3, b=1)\n",
    "d = Counter(a=1, b=2)\n",
    "print(c + d)                       # add two counters together:  c[x] + d[x]\n",
    "print(c - d)                       # subtract (keeping only positive counts)\n",
    "print(c & d)                       # intersection:  min(c[x], d[x]) \n",
    "print(c | d)       "
   ]
  }
 ],
 "metadata": {
  "kernelspec": {
   "display_name": "Python 3",
   "language": "python",
   "name": "python3"
  },
  "language_info": {
   "codemirror_mode": {
    "name": "ipython",
    "version": 3
   },
   "file_extension": ".py",
   "mimetype": "text/x-python",
   "name": "python",
   "nbconvert_exporter": "python",
   "pygments_lexer": "ipython3",
   "version": "3.6.3"
  }
 },
 "nbformat": 4,
 "nbformat_minor": 2
}
