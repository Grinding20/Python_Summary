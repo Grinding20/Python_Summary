{
 "cells": [
  {
   "cell_type": "markdown",
   "metadata": {},
   "source": [
    "#### A:算数表达："
   ]
  },
  {
   "cell_type": "markdown",
   "metadata": {},
   "source": [
    "常用数学运算符:\n",
    "\n",
    "  | 运算符  |    功能   |   结果 \n",
    "  :-------:  |  :------:  |  :------:\n",
    " print(4+6)     |'+'|加法|10\n",
    " print(3.5-2)    |'-'|减法|1.5\n",
    " print(9\\*9)    | '\\*'|乘法|81\n",
    " print(5/2)      |'/'|除法|2.5\n",
    "print(5\\*\\*3)   |  '\\*\\*'|乘幂|125\n",
    " print(5//2)    | '//'|整除(舍去小数部分)|2\n",
    " print(7%3)      |'%'|求余数(模)|1"
   ]
  },
  {
   "cell_type": "markdown",
   "metadata": {},
   "source": [
    "- 通过各种数学运算符号及括号的组合称为算数表达式可以利用各种算数表达式，通过python把计算机作为一台计算器来使用。\n",
    "- 各种数学运算符有一定优先级的，比如先乘除后加减等。具体优先级的顺序，这个表一般很少翻看，因为我们总可以利用小括号来保证运算次序与我们期望的一致。"
   ]
  },
  {
   "cell_type": "markdown",
   "metadata": {},
   "source": [
    "#### B:自更新运算\n"
   ]
  },
  {
   "cell_type": "code",
   "execution_count": 1,
   "metadata": {
    "scrolled": true
   },
   "outputs": [
    {
     "name": "stdout",
     "output_type": "stream",
     "text": [
      "1\n",
      "1\n",
      "-1\n",
      "-1\n",
      "100\n",
      "100\n",
      "1.0\n",
      "1.0\n",
      "1\n",
      "1\n",
      "3\n",
      "3\n",
      "1000\n",
      "1000\n"
     ]
    }
   ],
   "source": [
    "i = 0\n",
    "i = i + 1       #自加运算\n",
    "print(i)\n",
    "i = 0\n",
    "i += 1          #自加运算与赋值合并\n",
    "print(i)\n",
    "i = 0\n",
    "i = i - 1       #自减运算\n",
    "print(i)\n",
    "i = 0\n",
    "i -= 1          #自减运算与赋值合并\n",
    "print(i)\n",
    "i = 10\n",
    "i = i * 10      #自乘运算\n",
    "print(i)\n",
    "i = 10\n",
    "i *= 10         #自乘运算与赋值合并\n",
    "print(i)\n",
    "i = 10\n",
    "i = i / 10      #自除运算\n",
    "print(i)\n",
    "i = 10\n",
    "i /= 10         #自除运算与赋值合并\n",
    "print(i)\n",
    "i = 10\n",
    "i = i % 3       #自求余运算\n",
    "print(i)\n",
    "i = 10\n",
    "i %= 3         #自求余运算与赋值合并\n",
    "print(i)\n",
    "i = 10\n",
    "i = i // 3     #自整除运算\n",
    "print(i)\n",
    "i = 10\n",
    "i //= 3        #自整除运算与赋值合并\n",
    "print(i)\n",
    "i = 10\n",
    "i = i ** 3     #自乘幂运算\n",
    "print(i)\n",
    "i = 10\n",
    "i **= 3        #自乘幂运算与赋值合并\n",
    "print(i)"
   ]
  },
  {
   "cell_type": "markdown",
   "metadata": {},
   "source": [
    "#### C:内置的数值运算函数\n",
    "\n",
    "函数调用方法  |  解释   |中文解释  \n",
    ":--------:  |  :-------  |  :-------\n",
    "abs(x)|Return the absolute value of a number. The argument may be an integer or a floating point number. If the argument is a complex number, its magnitude is returned.| 返回一个数字的绝对值。这个参数可能是一个整数或浮点数。如果这个参数是一个复数，它的大小就会返回。\n",
    "divmod(a, b)|Take two (non complex) numbers as arguments and return a pair of numbers consisting of their quotient and remainder when using integer division. With mixed operand types, the rules for binary arithmetic operators apply. For integers, the result is the same as (a // b, a % b).|将两个(非复数)数作为参数，并返回一对由它们的商和余数组成的数字。使用混合操作数类型，可以应用二进制算术运算符的规则。对于整数，结果是一样的\n",
    "round(number[, ndigits])|Return the floating point value number rounded to ndigits digits after the decimal point. If ndigits is omitted or is None, it returns the nearest integer to its input.|将浮点值数返回到小数点后的n位数。如果省略了n位数，或者没有，它将返回最近的整数到它的输入。"
   ]
  },
  {
   "cell_type": "code",
   "execution_count": 7,
   "metadata": {
    "scrolled": true
   },
   "outputs": [
    {
     "name": "stdout",
     "output_type": "stream",
     "text": [
      "5\n",
      "(2, 1)\n",
      "3.4946823979\n",
      "3\n"
     ]
    }
   ],
   "source": [
    "print(abs(-5))\n",
    "print(divmod(5,2))\n",
    "print(round(3.49468239792794023470,10))\n",
    "print(round(3.49468239792794023470))"
   ]
  },
  {
   "cell_type": "markdown",
   "metadata": {},
   "source": [
    "#### D:math模块(数学函数)"
   ]
  },
  {
   "cell_type": "markdown",
   "metadata": {},
   "source": [
    "- 注：不支持复数(复数模块位于cmath模块)\n",
    "- math模块需引入 from math import \\*  或 import math\n",
    "- 数值的输入为**int或float型**\n",
    "- 注意将数学输出的数字进行格式化\n",
    "- 注：下列表中标\\# 的常用模块"
   ]
  },
  {
   "cell_type": "markdown",
   "metadata": {},
   "source": [
    "表一：常量\n",
    "\n",
    "函数\t| 说明\t| 实例  |结果\n",
    ":---: | :----:  | :--: | :---:\n",
    " math.e|自然常数e\t|  math.e|2.718281828459045\n",
    " math.pi\t| 圆周率pi\t|  math.pi  |  3.141592653589793"
   ]
  },
  {
   "cell_type": "markdown",
   "metadata": {},
   "source": [
    "表二：数值运算与表示\n",
    "\n",
    "函数\t| 说明\t| 实例  |结果\n",
    ":---: | :----:  | :--: | :---:\n",
    "\\# math.ceil(x)\t| 返回不小于x的整数\t| math.ceil(5.2)   |6.0\n",
    "math.copysign(x, y)|\t 若y \\<0，返回-1乘以x的绝对值； 否则，返回x的绝对值\t|math.copysign(5.2, -1)  |-5.2\n",
    "math.fabs(x)\t| 返回x的绝对值\t | math.fabs(-5)  |5.0\n",
    "math.factorial(x)\t| 返回x的阶乘\t | math.factorial(5)   |120\n",
    "\\# math.floor(x)\t |返回不大于x的整数\t| math.floor(5.8)   |5.0\n",
    "math.fmod(x, y)\t| 返回x%y（取余）\t| math.fmod(5,2)   |1.0\n",
    "math.frexp(x)\t |返回m和i，满足m乘以2的i次方| math.frexp(3)  |(0.75, 2)\n",
    "math.fsum([x, y, ...])\t| 返回无损精度的和\t | 0.1+0.2+0.3  math.fsum([0.1, 0.2, 0.3])|0.6000000000000001  0.6\n",
    "math.isinf(x)\t| 若x为无穷大，返回True；否则，返回False\t| math.isinf(1.0e+308)    math.isinf(1.0e+309) |False  True\n",
    "math.isnan(x)\t| 若x不是数字，返回True；否则，返回False\t | math.isnan(1.2e3)  |False\n",
    "math.ldexp(m, i)\t| 返回m乘以2的i次方\t |math.ldexp(0.75, 2)  |3.0\n",
    "math.trunc(x)\t| 返回x的整数部分\t | math.trunc(5.8)    |5\n",
    "math.modf(x)\t |返回x的小数和整数\t | math.modf(5.2)    |(0.20000000000000018, 5.0)\n",
    " \\# math.sqrt(x)   |返回x的平方根\t | math.sqrt(3)   |1.7320508075688772"
   ]
  },
  {
   "cell_type": "markdown",
   "metadata": {},
   "source": [
    "表三：幂和对数运算\n",
    "\n",
    "函数\t| 说明\t| 实例  |结果\n",
    ":---: | :----:  | :--: | :---:\n",
    "\\# math.exp(x)\t| 返回e的x次方\t|math.exp(2)       |7.38905609893065\n",
    "math.expm1(x)\t| 返回e的x次方减1\t| math.expm1(2)     |6.38905609893065\n",
    "\\# math.log(x[, base])\t| 返回x的以base为底的对数，base默认为e\t | math.log(math.e)    |1.0  \n",
    "\\# math.log2(x)|       返回x的以2为底的对数                       |  math.log(2, 10)|0.30102999566398114\n",
    "\\# math.log10(x)\t| 返回x的以10为底的对数\t | math.log10(2)  |0.30102999566398114\n",
    " math.log1p(x)\t| 返回1+x的自然对数（以e为底）\t| math.log1p(math.e-1)|1.0\n",
    " math.pow(x, y)\t| 返回x的y次方\t| math.pow(5,3)   |125.0\n"
   ]
  },
  {
   "cell_type": "markdown",
   "metadata": {},
   "source": [
    "表四：三角函数和双曲线函数\n",
    "\n",
    "函数\t| 说明\t| 实例  |结果\n",
    ":---: | :----:  | :--: | :---:\n",
    "\\# math.sin(x)\t| 返回x（弧度）的三角正弦值\t | math.sin(math.radians(30))  |0.49999999999999994\n",
    " math.asin(x)\t| 返回x的反三角正弦值\t | math.asin(0.5)  |0.5235987755982989\n",
    "\\# math.cos(x)\t |返回x（弧度）的三角余弦值\t| math.cos(math.radians(45))  |0.7071067811865476\n",
    " math.acos(x)\t| 返回x的反三角余弦值\t | math.acos(math.sqrt(2)/2)  |0.7853981633974483\n",
    " math.tan(x)\t| 返回x（弧度）的三角正切值\t | math.tan(math.radians(60))   |1.7320508075688767\n",
    " math.atan(x)\t| 返回x的反三角正切值\t | math.atan(1.7320508075688767)   |1.0471975511965976\n",
    " math.atan2(x, y)\t| 返回x/y的反三角正切值\t| math.atan2(2,1)    |1.1071487177940904\n",
    "  math.hypot(x, y)\t| 返回以x和y为直角边的斜边长\t| math.hypot(3,4)   |5.0\n",
    " math.sinh(x)\t| 返回x的双曲正弦函数\t \n",
    " math.asinh(x)\t |返回x的反双曲正弦函数\t \n",
    " math.cosh(x)\t| 返回x的双曲余弦函数\t \n",
    " math.acosh(x)\t |返回x的反双曲余弦函数\t \n",
    " math.tanh(x)\t| 返回x的双曲正切函数\t \n",
    " math.atanh(x)\t| 返回x的反双曲正切函数\t\n"
   ]
  },
  {
   "cell_type": "markdown",
   "metadata": {},
   "source": [
    "表五：角度弧度转换函数\n",
    "\n",
    "函数\t| 说明\t| 实例  |结果\n",
    ":---: | :----:  | :--: | :---:\n",
    "math.degrees(x)|\t 弧度转度\t | math.degrees(math.pi)  |180.0\n",
    " math.radians(x)\t| 度转弧度\t | math.radians(45)   |0.7853981633974483"
   ]
  },
  {
   "cell_type": "markdown",
   "metadata": {},
   "source": [
    "表六：其他函数\n",
    "\n",
    "函数\t| 说明\t\n",
    ":---: | :----:  \n",
    "math.erf(x)\t| 返回x的误差函数\t \n",
    " math.erfc(x)\t |返回x的余误差函数\t \n",
    " math.gamma(x)\t| 返回x的伽玛函数\t \n",
    " math.lgamma(x)\t |返回x的绝对值的自然对数的伽玛函数\t "
   ]
  },
  {
   "cell_type": "markdown",
   "metadata": {},
   "source": [
    "#### E:random模块"
   ]
  },
  {
   "cell_type": "markdown",
   "metadata": {},
   "source": [
    "- random模块是python标准库中的一个模块，无需另行安装就可以直接导入，random模块提供了多个函数对象，这些函数功能都与随机数有关。\n",
    "- random模块需要引入 from random import \\*  或  import random\n",
    "- random模块 random模块详解见：https://docs.python.org/3/library/random.html 这里列举最基本的使用\n",
    "- 注：下列表中标\\# 的常用模块"
   ]
  },
  {
   "cell_type": "markdown",
   "metadata": {},
   "source": [
    "操作|\t结果\t|说明\n",
    ":---: | :---: | :---:\n",
    "\\# randint(1, 1000)|517  |这个函数需要两个整数参数值，然后返回这两个值之间(闭区间)的一个随机整数。\n",
    "\\# random()\t|0.37444887175646646\t|返回[0.0, 1.0)之间的随机浮点数\n",
    "uniform(2.5, 10.0)|\t3.1800146073117523\t|返回[2.5, 10.0)之间的随机浮点数\n",
    "randrange(10)\t|6\t|返回[0,10)之间的随机整数\n",
    "randrange(0, 101, 2)|\t28\t|返回[0,101)之间的随机偶数\n",
    "\\# choice(['win', 'lose', 'draw'])|\twin|\t在序列随机抽取对象的方法\n",
    "\\# shuffle(['win', 'lose', 'draw'])\t|['win', 'draw', 'lose']\t|随机打乱序列内部对象顺序的方法\n",
    "sample([10, 20, 30, 40, 50], k=4)|\t[10, 50, 30, 20]\t|序列中随机取k个样本"
   ]
  }
 ],
 "metadata": {
  "kernelspec": {
   "display_name": "Python 3",
   "language": "python",
   "name": "python3"
  },
  "language_info": {
   "codemirror_mode": {
    "name": "ipython",
    "version": 3
   },
   "file_extension": ".py",
   "mimetype": "text/x-python",
   "name": "python",
   "nbconvert_exporter": "python",
   "pygments_lexer": "ipython3",
   "version": "3.6.3"
  }
 },
 "nbformat": 4,
 "nbformat_minor": 2
}
