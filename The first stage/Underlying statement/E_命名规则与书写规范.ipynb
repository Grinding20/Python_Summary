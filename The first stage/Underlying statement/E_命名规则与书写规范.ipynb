{
 "cells": [
  {
   "cell_type": "markdown",
   "metadata": {},
   "source": [
    "### A:Python 中的命名规则"
   ]
  },
  {
   "cell_type": "markdown",
   "metadata": {},
   "source": [
    "表A|变量命名规则|   \n",
    "   :- | :--\n",
    " 1|变量名只能含有数字、字母和下划线|\n",
    " 2|数字不能是第一个字符|\n",
    " 3|不能用python的关键字给变量命名|\n",
    " 4|选择能够清晰明了描述变量用途的名字|\n",
    " 5|不要太长|\n",
    " 6|命名习惯前后保持一致|\n",
    " 7|同一个变量其不同的名字，一般不影响程序的运行结果，但是变量命名必须合法。|\n",
    " 8|同一个变量其不同的名字，一般不影响程序的运行结果，但是变量命名必须合法|"
   ]
  },
  {
   "cell_type": "markdown",
   "metadata": {},
   "source": [
    "表B|main函数|\n",
    ":-- |:---\n",
    "主函数|我们定义了一个函数，起名为main，main()函数中放置了整个主体流程，因此也可以称这个main()函数为主函数|\n",
    " |实际上也可以起不同的名字，但是将主体流程程序起名为main()是编程惯例|\n",
    "好处|将主体流程放置在main()函数内的好处主要有两个：|\n",
    " a：|将主体流程所用到的对象/变量等的作用域限制在main()内，而不至于都成为全局变量，被其他自定义函数误用。|\n",
    " b：|可以方便的实验不同主体流程，或者在未来将这个主体流程最终改成一个一般的函数。|"
   ]
  },
  {
   "cell_type": "markdown",
   "metadata": {},
   "source": [
    "- 补充一：python中的关键字："
   ]
  },
  {
   "cell_type": "markdown",
   "metadata": {},
   "source": [
    "序号 |关键字|解释\n",
    " :--|:--|:---\n",
    "1|and　　|表示逻辑‘与’\n",
    "2|or　　  |表示逻辑“或”\n",
    "3|not    |表示逻辑‘非’\n",
    "4|print   |输出\n",
    "5|input  |输入\n",
    "6|from   |导入相应的模块，用import或者from...import\n",
    "7|import  |import用来导入模块\n",
    "8|while  |while循环，允许重复执行一块语句，一般无限循环的情况下用它\n",
    "9|for   |for....in 一起使用：它在一序列的对象上递归，就是遍历队列中的每个项目\n",
    "10|if       |if语句用于选择分支，依据条件选择执行那个语句块。\n",
    "11|elif　　|和if配合使用的，if语句中的一个分支用elif表示。\n",
    "12|else   |看上面if的解释\n",
    "13|def    |用于定义方法\n",
    "14|class   |定义类\n",
    "15|global |定义全局变量，要想给全局变量重新赋值，就要global一下全局变量\n",
    "16|del　　|用于list列表操作，删除一个或者连续几个元素\n",
    "17|pass  |跳过语句\n",
    "18|break  |终止当前整个循环\n",
    "19|continue|跳过continue后面循环块中的语句，继续进行下一轮循环\n",
    "20|return|用于跳出函数，也可以在跳出的同时返回一个值，当返回多个值时，以元组形式返回\n",
    "21|as      |as单独没有意思，是这样使用：with....as用来代替传统的try...finally语法\n",
    "22|with   |和as一起用，使用的方法请看as，\n",
    "23|in       |1.在 for 循环中，获取列表或者元组的每一项/2.查找列表中是否包含某个元素/3.字符串a是否包含字符串b\n",
    "24|is  |is判断的是a对象是否就是b对象，是通过id来判断的，==判断的是a对象的值是否和b对象的值相等，是通过value来判断的"
   ]
  },
  {
   "cell_type": "markdown",
   "metadata": {},
   "source": [
    "- 解释一：import模块\n",
    "- import用来导入模块。\n",
    "  - 加载模块的方法就是：import 模块名。\n",
    "  - 调用模块内函数的最常用方法是 模块名.函数名(参数表)，可以将‘.’视作的，即调用某模块的某个函数。\n",
    "\n",
    "\n",
    "- 我们学过的需要导入的包有：\n",
    "  - math：数学模块\n",
    "  - random：随机模块\n",
    "  - wordcloud（词云）\n",
    "  - bokeh（作图）\n",
    "  - itertools（循环器8.md）\n",
    "  - time（时间模块9.md）\n",
    "  - bisect（9.md 二分查找）\n",
    "  - collections（9.md 是python标准库中的容器类型，可以视为内置的dict,set,list,tuple等的特殊形式）\n",
    "  - defaultdict 和counter都是collections里的模块，类似dict类型\n",
    "  - nltk：英文分词工具\n",
    "  - jieba：中文分词工具"
   ]
  },
  {
   "cell_type": "markdown",
   "metadata": {},
   "source": [
    "- 解释二：对象值的比较（==）和引用判别（is）\n",
    "- Python中的对象包含三要素：id、type、value，其中id用来唯一标识一个对象，type标识对象的类型，value是对象的值\n",
    "- is判断的是a对象是否就是b对象，是通过id来判断的，==判断的是a对象的值是否和b对象的值相等，是通过value来判断的"
   ]
  },
  {
   "cell_type": "code",
   "execution_count": 17,
   "metadata": {
    "scrolled": true
   },
   "outputs": [
    {
     "name": "stdout",
     "output_type": "stream",
     "text": [
      "True\n",
      "----------\n",
      "True\n",
      "False\n",
      "True\n"
     ]
    }
   ],
   "source": [
    "a=b=2570\n",
    "print(a is b)\n",
    "print('-'*10)\n",
    "c=2570\n",
    "d=c\n",
    "print(c is d)\n",
    "print(a is c)\n",
    "print(a==c)"
   ]
  },
  {
   "cell_type": "markdown",
   "metadata": {},
   "source": [
    "- 解释三：global关键字\n",
    "- 用global关键字可以再函数内部改变全局变量的值，很特殊"
   ]
  },
  {
   "cell_type": "code",
   "execution_count": 19,
   "metadata": {},
   "outputs": [
    {
     "name": "stdout",
     "output_type": "stream",
     "text": [
      "moudle pi= 3.1415926\n",
      "moudle e= 2.71828\n",
      "global pi= 3.14\n",
      "local e= 2.71\n",
      "moudle pi= 3.14\n",
      "moudle e= 2.71828\n"
     ]
    }
   ],
   "source": [
    "pi=3.1415926\n",
    "e =2.71828\n",
    "def my_function():\n",
    "    global pi\n",
    "    pi=3.14\n",
    "    print('global pi=',pi)\n",
    "    e=2.71\n",
    "    print('local e=',e)\n",
    "    \n",
    "#主程序\n",
    "print('moudle pi=',pi)\n",
    "print('moudle e=',e)\n",
    "my_function()\n",
    "print('moudle pi=',pi)\n",
    "print('moudle e=',e)"
   ]
  },
  {
   "cell_type": "markdown",
   "metadata": {},
   "source": [
    "### B:书写规范：(空行与注释）"
   ]
  },
  {
   "cell_type": "markdown",
   "metadata": {},
   "source": [
    "#### 空行与注释。为使程序更易懂易读，除了养成良好的变量命名习惯外，还需要多利用空行与注释。\n",
    "#### 空格使用。良好的空格使用可以使程序易读性更好。\n",
    "\n",
    "- 1：注释方法(使程序更易懂易读)\n",
    "    - 单行注释\n",
    "    - 多行注释\n",
    "- 2：空行(空行是为了使逻辑不十分紧密的代码分割，python并不执行空行)\n",
    "    - 打印空行\n",
    "    - 含有空行的程序\n",
    "    - 跨行程序\n",
    "- 3：空格(使程序易读性更好)"
   ]
  },
  {
   "cell_type": "markdown",
   "metadata": {},
   "source": [
    "#### 1：注释方法\n",
    "\n",
    "- 单行注释\n",
    "- 多行注释（利用多行字符串）"
   ]
  },
  {
   "cell_type": "code",
   "execution_count": 2,
   "metadata": {
    "scrolled": true
   },
   "outputs": [
    {
     "name": "stdout",
     "output_type": "stream",
     "text": [
      "1000\n",
      "1000\n"
     ]
    }
   ],
   "source": [
    "#+注释内容\n",
    "\n",
    "'''\n",
    "这是一段注释\n",
    "作为多行注释的示例\n",
    "也是含有空行程序的示例\n",
    "'''\n",
    "i = 10\n",
    "i = i ** 3    \n",
    "print(i)\n",
    "\n",
    "i = 10\n",
    "i **= 3       \n",
    "print(i)"
   ]
  },
  {
   "cell_type": "markdown",
   "metadata": {},
   "source": [
    "#### 2：空行\n",
    "\n",
    "- ##### a:打印空行"
   ]
  },
  {
   "cell_type": "code",
   "execution_count": 4,
   "metadata": {},
   "outputs": [
    {
     "name": "stdout",
     "output_type": "stream",
     "text": [
      "下面是一个空行\n",
      "\n",
      "上面是一个空行\n"
     ]
    }
   ],
   "source": [
    "print('''下面是一个空行\n",
    "\n",
    "上面是一个空行''')"
   ]
  },
  {
   "cell_type": "markdown",
   "metadata": {},
   "source": [
    "- ##### b:含有空行的程序"
   ]
  },
  {
   "cell_type": "code",
   "execution_count": 6,
   "metadata": {},
   "outputs": [
    {
     "name": "stdout",
     "output_type": "stream",
     "text": [
      "请输入一个整数，回车结束1\n",
      "请输入一个整数，回车结束3\n",
      "请输入一个整数，回车结束4\n",
      "请输入一个整数，回车结束2\n",
      "最大值是： 4\n"
     ]
    }
   ],
   "source": [
    "max_number = int(input('请输入一个整数，回车结束'))\n",
    "\n",
    "i = 0\n",
    "while i < 3:\n",
    "    i += 1\n",
    "    n = int(input('请输入一个整数，回车结束'))\n",
    "    if n > max_number:\n",
    "        max_number = n\n",
    "\n",
    "print('最大值是：', max_number)"
   ]
  },
  {
   "cell_type": "markdown",
   "metadata": {},
   "source": [
    "- 用空行分割是便于更清晰的阅读\n",
    "- 中间的空行并不对代码层次划分或者运行有任何影响"
   ]
  },
  {
   "cell_type": "code",
   "execution_count": 7,
   "metadata": {
    "scrolled": true
   },
   "outputs": [
    {
     "name": "stdout",
     "output_type": "stream",
     "text": [
      "请输入一个整数，回车结束1\n",
      "请输入一个整数，回车结束2\n",
      "请输入一个整数，回车结束3\n",
      "请输入一个整数，回车结束2\n",
      "最大值是： 3\n"
     ]
    }
   ],
   "source": [
    "max_number = int(input('请输入一个整数，回车结束'))\n",
    "i = 0\n",
    "while i < 3:\n",
    "    i += 1\n",
    "    n = int(input('请输入一个整数，回车结束'))\n",
    "    if n > max_number:\n",
    "        max_number = n\n",
    "print('最大值是：', max_number)"
   ]
  },
  {
   "cell_type": "markdown",
   "metadata": {},
   "source": [
    "- 可见删去空行并不对程序运行有何影响，程序也不会因为代码行是连续的而在while循环体内部执行print()语句。"
   ]
  },
  {
   "cell_type": "markdown",
   "metadata": {},
   "source": [
    "- ##### c:跨行程序"
   ]
  },
  {
   "cell_type": "code",
   "execution_count": 12,
   "metadata": {},
   "outputs": [
    {
     "name": "stdout",
     "output_type": "stream",
     "text": [
      "100\n",
      "1500\n",
      "OK\n"
     ]
    }
   ],
   "source": [
    "# ()之间跨行示例\n",
    "print(100\n",
    "\n",
    "    )\n",
    "\n",
    "a = (5+\n",
    "        10)*100\n",
    "\n",
    "print(a)\n",
    "\n",
    "b = 8 + (    10+\n",
    "                    100)*20\n",
    "\n",
    "def test(a,\n",
    "                    b):\n",
    "    print('OK')\n",
    "    \n",
    "test(a, \n",
    "        b)"
   ]
  },
  {
   "cell_type": "markdown",
   "metadata": {},
   "source": [
    "- print()函数的两个括号之间跨越了多行。\n",
    "- python语言允许()内的分隔符及变量/对象之间跨越多行，还同时允许其间有空格\n",
    "- 但是不难看出，故意使用跨行和增加空格虽然不会报错，但是会使程序的可读性显得很差，因此要在需要的时候才使用这些方式"
   ]
  },
  {
   "cell_type": "markdown",
   "metadata": {},
   "source": [
    "#### 3.空格"
   ]
  },
  {
   "cell_type": "markdown",
   "metadata": {},
   "source": [
    "- python通过空格来实现结构层次的划分\n",
    "- 一个层次，四个空格\n",
    "- 主程序可简单理解为指一个程序代码中第一层次的语句，该语句前没有空格，同时也不是函数定义语句\n",
    "- 注意，由于python语言利用空格来划分程序层次，因此行首空格不能随意添加或减少\n",
    "- 在非首行空格中，使用空格并不影响程序的可读性。良好的空格与注释可以使程序更易读懂\n",
    "- 除了每行的开始以外，语句代码内部各种对象如运算符、变量、数值、字符串及关键字等的两侧插入空格均为合法，不影响程序执行。"
   ]
  }
 ],
 "metadata": {
  "kernelspec": {
   "display_name": "Python 3",
   "language": "python",
   "name": "python3"
  },
  "language_info": {
   "codemirror_mode": {
    "name": "ipython",
    "version": 3
   },
   "file_extension": ".py",
   "mimetype": "text/x-python",
   "name": "python",
   "nbconvert_exporter": "python",
   "pygments_lexer": "ipython3",
   "version": "3.6.3"
  }
 },
 "nbformat": 4,
 "nbformat_minor": 2
}
