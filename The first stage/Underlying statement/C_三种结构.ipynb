{
 "cells": [
  {
   "cell_type": "markdown",
   "metadata": {},
   "source": [
    "### Python中的结构（顺序，选择，循环）\n",
    " \n"
   ]
  },
  {
   "cell_type": "markdown",
   "metadata": {},
   "source": [
    "目录：\n",
    "- 1.顺序结构\n",
    "- 2.选择结构\n",
    "- 3.循环结构\n",
    "- 4.其他语句"
   ]
  },
  {
   "cell_type": "markdown",
   "metadata": {},
   "source": [
    "### <font color=#0099ff>1.顺序结构</font>  \n",
    "- 顺序结构是指没有选择分支或循环的语句，按照编写顺序，由上一条运行到下一条 "
   ]
  },
  {
   "cell_type": "markdown",
   "metadata": {},
   "source": [
    "### <font color=#0099ff>2.选择（分支）结构</font> \n",
    "\n",
    "- 选择\\分支结构是指当代码运行到此结构时，会先判断条件正确与否（True or False），当条件表达式的值为True，执行语句块，否则就跳过语句块继续执行。再根据条件判断的结果，选择相应分支的代码执行。  \n",
    "- 可以借助分段函数的运行方式理解\n",
    "- if语句可以嵌套\n",
    "\n"
   ]
  },
  {
   "cell_type": "markdown",
   "metadata": {},
   "source": [
    "#### （1）if语句（单分支结构）\n",
    "- 只需判断一种情况,如果条件表达式为true，则执行，如果为false，则跳过，执行下面的语句  \n",
    "\n",
    "      if(条件表达式1)：  \n",
    "        执行语句1  \n",
    "        执行语句2  \n"
   ]
  },
  {
   "cell_type": "markdown",
   "metadata": {},
   "source": [
    "#### （2）if else语句 （双分支结构）\n",
    "if else语句适用于需要判断并执行两种情况，根据是否满足条件的情况执行语句。  \n",
    "\n",
    "         if（条件表达式1）：  \n",
    "             执行语句A  \n",
    "             ...  \n",
    "         else:  \n",
    "             执行语句B  \n",
    "             ..."
   ]
  },
  {
   "cell_type": "markdown",
   "metadata": {},
   "source": [
    "#### （3）if elif else语句  (多分支结构）\n",
    "if elif else语句适用于需判断多个条件表达式的情况（>2种） \n",
    "\n",
    "      if(条件表达式1):  \n",
    "         执行语句  \n",
    "      elif(条件表达式2)：  \n",
    "         执行语句  \n",
    "      else:  \n",
    "         执行语句\n"
   ]
  },
  {
   "cell_type": "markdown",
   "metadata": {},
   "source": [
    "#### 注：if elif else语句中\n",
    "- 可以有无限个elif\n",
    "- elif后一定要有条件表达式\n",
    "- 条件分支结构不能有多个else"
   ]
  },
  {
   "cell_type": "markdown",
   "metadata": {},
   "source": [
    "### <font color=#0099ff>3.循环结构</font>  \n",
    "- 循环结构是一个条件判断语句和一个向回转向语句的组合，由三个要素构成：\n",
    "\n",
    "      循环变量\n",
    "      循环体(在循环内部层次的代码块被称为循环体)\n",
    "      循环终止条件\n",
    "   \n",
    "- 循环语句有for和while。  \n",
    "- 循环结构中的其他语句，可以使循环变得功能强大\n",
    "- 循环可以嵌套\n"
   ]
  },
  {
   "cell_type": "markdown",
   "metadata": {},
   "source": [
    "### A：while循环"
   ]
  },
  {
   "cell_type": "markdown",
   "metadata": {},
   "source": [
    "#### （1）while循环  \n",
    "\n",
    "     while 判断条件：  \n",
    "        执行语句"
   ]
  },
  {
   "cell_type": "markdown",
   "metadata": {},
   "source": [
    "#### （2）while else 循环  \n",
    "- 条件语句为False时，执行else的语句块。 \n",
    "\n",
    "      while 条件语句：  \n",
    "          执行语句  \n",
    "      else:  \n",
    "          执行语句"
   ]
  },
  {
   "cell_type": "markdown",
   "metadata": {},
   "source": [
    "### B：for循环"
   ]
  },
  {
   "cell_type": "markdown",
   "metadata": {
    "collapsed": true
   },
   "source": [
    "#### （1）for循环  \n",
    "\n",
    "      for 变量 in 对象集合：  \n",
    "         执行语句  \n",
    "      else:  \n",
    "         执行语句"
   ]
  },
  {
   "cell_type": "markdown",
   "metadata": {},
   "source": [
    "#### （2）for else 循环\n",
    "     for...else的用法与while...else的用法类似。"
   ]
  },
  {
   "cell_type": "markdown",
   "metadata": {},
   "source": [
    "### C：循环的补充："
   ]
  },
  {
   "cell_type": "markdown",
   "metadata": {},
   "source": [
    "#### 1.可迭代对象\n",
    "- 可迭代对象一次返回一个元素，因而适用于循环\n",
    "- python中包含以下几组可迭代对象：\n",
    "  - 序列 tuple ,list ,str\n",
    "  - 字典 dict\n",
    "  - 文件对象\n",
    " "
   ]
  },
  {
   "cell_type": "markdown",
   "metadata": {},
   "source": [
    "#### 2.range对象\n",
    "- range()用于产生指定范围的数字序列,格式如下：\n",
    "        range(start,stop,step)\n",
    "- 解释：range返回的数值系列从start开始，到stop结束（不包含stop），若指定步长，则按照步长step增长"
   ]
  },
  {
   "cell_type": "markdown",
   "metadata": {},
   "source": [
    "#### 3.语句补充\n",
    "语句     |   功能 |  使用范围\n",
    ":-------: | :-------: | :------:\n",
    " pass语句  |跳过该语句                                   |在任何语句中均可使用\n",
    " continue语句 |  用于结束本次循环                            |在for，while循环中使用\n",
    " break语句 | 可以跳出for和while的循环体，从循环体中终止，则else模块不执行 |在for，while循环中使用\n",
    "return语句 | 以元组形式返回某一值                            |在for，while循环中使用"
   ]
  },
  {
   "cell_type": "code",
   "execution_count": 1,
   "metadata": {
    "collapsed": true
   },
   "outputs": [
    {
     "name": "stdout",
     "output_type": "stream",
     "text": [
      "0\n",
      "1\n",
      "2\n",
      "3\n",
      "4\n",
      "5\n",
      "6\n",
      "7\n",
      "8\n",
      "9\n",
      "-----------分割线----------------\n",
      "-----------分割线----------------\n",
      "i=0,j=0\n",
      "i=1,j=0\n",
      "i=2,j=0\n",
      "i=3,j=0\n",
      "i=4,j=0\n",
      "i=5,j=0\n",
      "i=6,j=0\n",
      "i=7,j=0\n",
      "i=8,j=0\n",
      "i=9,j=0\n",
      "-----------分割线----------------\n",
      "i=0,j=0\n",
      "-----------分割线----------------\n",
      "i=0,j=0\n",
      "i=0,j=1\n",
      "i=0,j=2\n",
      "i=0,j=3\n",
      "i=0,j=4\n",
      "i=0,j=5\n",
      "i=0,j=6\n",
      "i=0,j=7\n",
      "i=0,j=8\n",
      "i=0,j=9\n",
      "i=1,j=0\n",
      "i=1,j=1\n",
      "i=1,j=2\n",
      "i=1,j=3\n",
      "i=1,j=4\n",
      "i=1,j=5\n",
      "i=1,j=6\n",
      "i=1,j=7\n",
      "i=1,j=8\n",
      "i=1,j=9\n",
      "i=2,j=0\n",
      "i=2,j=1\n",
      "i=2,j=2\n",
      "i=2,j=3\n",
      "i=2,j=4\n",
      "i=2,j=5\n",
      "i=2,j=6\n",
      "i=2,j=7\n",
      "i=2,j=8\n",
      "i=2,j=9\n",
      "i=3,j=0\n",
      "i=3,j=1\n",
      "i=3,j=2\n",
      "i=3,j=3\n",
      "i=3,j=4\n",
      "i=3,j=5\n",
      "i=3,j=6\n",
      "i=3,j=7\n",
      "i=3,j=8\n",
      "i=3,j=9\n",
      "i=4,j=0\n",
      "i=4,j=1\n",
      "i=4,j=2\n",
      "i=4,j=3\n",
      "i=4,j=4\n",
      "i=4,j=5\n",
      "i=4,j=6\n",
      "i=4,j=7\n",
      "i=4,j=8\n",
      "i=4,j=9\n",
      "i=5,j=0\n",
      "i=5,j=1\n",
      "i=5,j=2\n",
      "i=5,j=3\n",
      "i=5,j=4\n",
      "i=5,j=5\n",
      "i=5,j=6\n",
      "i=5,j=7\n",
      "i=5,j=8\n",
      "i=5,j=9\n",
      "i=6,j=0\n",
      "i=6,j=1\n",
      "i=6,j=2\n",
      "i=6,j=3\n",
      "i=6,j=4\n",
      "i=6,j=5\n",
      "i=6,j=6\n",
      "i=6,j=7\n",
      "i=6,j=8\n",
      "i=6,j=9\n",
      "i=7,j=0\n",
      "i=7,j=1\n",
      "i=7,j=2\n",
      "i=7,j=3\n",
      "i=7,j=4\n",
      "i=7,j=5\n",
      "i=7,j=6\n",
      "i=7,j=7\n",
      "i=7,j=8\n",
      "i=7,j=9\n",
      "i=8,j=0\n",
      "i=8,j=1\n",
      "i=8,j=2\n",
      "i=8,j=3\n",
      "i=8,j=4\n",
      "i=8,j=5\n",
      "i=8,j=6\n",
      "i=8,j=7\n",
      "i=8,j=8\n",
      "i=8,j=9\n",
      "i=9,j=0\n",
      "i=9,j=1\n",
      "i=9,j=2\n",
      "i=9,j=3\n",
      "i=9,j=4\n",
      "i=9,j=5\n",
      "i=9,j=6\n",
      "i=9,j=7\n",
      "i=9,j=8\n",
      "i=9,j=9\n",
      "-----------分割线----------------\n"
     ]
    }
   ],
   "source": [
    "#pass, continue, break, return, exit()区别联系示例\n",
    "\n",
    "for i in range(10):\n",
    "    pass\n",
    "    print(i)\n",
    "    \n",
    "print('-----------分割线----------------')\n",
    "\n",
    "for i in range(10):\n",
    "    continue\n",
    "    print(i)\n",
    "    \n",
    "print('-----------分割线----------------')\n",
    "\n",
    "for i in range(10):\n",
    "    for j in range(10):\n",
    "        print('i={},j={}'.format(i,j))\n",
    "        break\n",
    "    \n",
    "print('-----------分割线----------------')\n",
    "\n",
    "def test():\n",
    "    for i in range(10):\n",
    "        for j in range(10):\n",
    "            print('i={},j={}'.format(i,j))\n",
    "            return\n",
    "\n",
    "test()\n",
    "\n",
    "print('-----------分割线----------------')\n",
    "\n",
    "for i in range(10):\n",
    "    for j in range(10):\n",
    "        print('i={},j={}'.format(i,j))\n",
    "        exit()\n",
    "        \n",
    "print('-----------分割线----------------')"
   ]
  },
  {
   "cell_type": "markdown",
   "metadata": {},
   "source": [
    "#### 4.死循环：（用于无条件执行某一循环体）\n",
    "      while True：\n",
    "          循环语句"
   ]
  }
 ],
 "metadata": {
  "kernelspec": {
   "display_name": "Python 3",
   "language": "python",
   "name": "python3"
  },
  "language_info": {
   "codemirror_mode": {
    "name": "ipython",
    "version": 3
   },
   "file_extension": ".py",
   "mimetype": "text/x-python",
   "name": "python",
   "nbconvert_exporter": "python",
   "pygments_lexer": "ipython3",
   "version": "3.6.3"
  }
 },
 "nbformat": 4,
 "nbformat_minor": 2
}
