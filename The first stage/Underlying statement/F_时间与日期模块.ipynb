{
 "cells": [
  {
   "cell_type": "markdown",
   "metadata": {},
   "source": [
    "### 在Python中，与时间处理有关的模块就包括：\n",
    ">#### time\n",
    " \n",
    ">#### datetime(不做介绍）\n",
    "\n",
    ">#### calendar"
   ]
  },
  {
   "cell_type": "markdown",
   "metadata": {},
   "source": [
    "#### 相关知识补充：\n",
    "- 1.在Python中，通常有这几种方式来表示时间：1）时间戳  2）格式化的时间字符串  3）元组（struct_time）共九个元素\n",
    "- 2.UTC（Coordinated Universal Time，世界协调时）亦即格林威治天文时间，世界标准时间。在中国为UTC+8。DST（Daylight Saving Time）即夏令时。\n",
    "- 3.时间戳（timestamp）的方式：通常来说，时间戳表示的是从1970年1月1日00:00:00开始按秒计算的偏移量。\n",
    "  - ###### 我们运行“type(time.time())”，返回的是float类型。返回时间戳方式的函数主要有time()，clock()等。\n",
    "\n",
    "\n",
    "- 4.元组（struct_time）方式：struct_time元组共有9个元素，返回struct_time的函数主要有gmtime()，localtime()，strptime()。很多Python函数用一个元组装起来的9组数字处理时间。"
   ]
  },
  {
   "cell_type": "markdown",
   "metadata": {},
   "source": [
    "Python函数用一个元组装起来的9组数字处理时间"
   ]
  },
  {
   "cell_type": "markdown",
   "metadata": {},
   "source": [
    "数字 | 含义 | 示例\n",
    "--- | :----: |:----:\n",
    " 0|4位数年\t    | 2008\n",
    " 1|月\t        |1 到 12\n",
    " 2\t|日\t     |1到31\n",
    " 3\t|小时\t     | 0到23\n",
    " 4|\t分钟\t     |   0到59\n",
    " 5\t|秒\t      | 0到61 (60或61 是闰秒)\n",
    " 6|\t一周的第几日\t|0到6 (0是周一)\n",
    " 7\t|一年的第几日\t|1到366 (儒略历)\n",
    " 8|夏令时\t     |1, 0, 1, -1是决定是否为夏令时的旗帜\n",
    "\n"
   ]
  },
  {
   "cell_type": "markdown",
   "metadata": {},
   "source": [
    "### A:time模块\n",
    "注：需导入  import time"
   ]
  },
  {
   "cell_type": "markdown",
   "metadata": {},
   "source": [
    "1：time.time()：返回当前时间的时间戳"
   ]
  },
  {
   "cell_type": "code",
   "execution_count": 5,
   "metadata": {
    "scrolled": false
   },
   "outputs": [
    {
     "data": {
      "text/plain": [
       "1514177795.5448806"
      ]
     },
     "execution_count": 5,
     "metadata": {},
     "output_type": "execute_result"
    }
   ],
   "source": [
    "import time\n",
    "time.time()"
   ]
  },
  {
   "cell_type": "code",
   "execution_count": 6,
   "metadata": {},
   "outputs": [
    {
     "data": {
      "text/plain": [
       "1514177798"
      ]
     },
     "execution_count": 6,
     "metadata": {},
     "output_type": "execute_result"
    }
   ],
   "source": [
    "#对时间戳取整\n",
    "import time\n",
    "int(time.time())"
   ]
  },
  {
   "cell_type": "markdown",
   "metadata": {},
   "source": [
    "#### time.time()经常用于计算程序的运行时间"
   ]
  },
  {
   "cell_type": "code",
   "execution_count": 3,
   "metadata": {},
   "outputs": [
    {
     "name": "stdout",
     "output_type": "stream",
     "text": [
      "1.0009992122650146\n"
     ]
    }
   ],
   "source": [
    "import time\n",
    "starttime = time.time()\n",
    "time.sleep(1)\n",
    "endtime = time.time()\n",
    "lasttime = endtime - starttime\n",
    "print(lasttime)"
   ]
  },
  {
   "cell_type": "markdown",
   "metadata": {},
   "source": [
    "2：time.localtime()获取当前时间\n",
    "- 从返回浮点数的时间戳方式向时间元组转换，只要将浮点数传递给如localtime之类的函数。"
   ]
  },
  {
   "cell_type": "code",
   "execution_count": 7,
   "metadata": {},
   "outputs": [
    {
     "name": "stdout",
     "output_type": "stream",
     "text": [
      "本地时间为 : time.struct_time(tm_year=2017, tm_mon=12, tm_mday=25, tm_hour=12, tm_min=57, tm_sec=44, tm_wday=0, tm_yday=359, tm_isdst=0)\n"
     ]
    }
   ],
   "source": [
    "import time\n",
    "localtime = time.localtime(time.time())\n",
    "print (\"本地时间为 :\", localtime)"
   ]
  },
  {
   "cell_type": "markdown",
   "metadata": {},
   "source": [
    "3： time.asctime()获取格式化的时间"
   ]
  },
  {
   "cell_type": "code",
   "execution_count": 8,
   "metadata": {},
   "outputs": [
    {
     "name": "stdout",
     "output_type": "stream",
     "text": [
      "本地时间为 : Mon Dec 25 12:58:06 2017\n"
     ]
    }
   ],
   "source": [
    "import time\n",
    "\n",
    "localtime = time.asctime( time.localtime(time.time()) )\n",
    "print (\"本地时间为 :\", localtime)"
   ]
  },
  {
   "cell_type": "markdown",
   "metadata": {},
   "source": [
    "#### 通常我们将这三个模块合并："
   ]
  },
  {
   "cell_type": "code",
   "execution_count": 18,
   "metadata": {},
   "outputs": [
    {
     "name": "stdout",
     "output_type": "stream",
     "text": [
      "time.time(): 1514178493.147954 \n",
      "time.struct_time(tm_year=2017, tm_mon=12, tm_mday=25, tm_hour=13, tm_min=8, tm_sec=13, tm_wday=0, tm_yday=359, tm_isdst=0)\n",
      "Mon Dec 25 13:08:13 2017\n"
     ]
    }
   ],
   "source": [
    "import time\n",
    "\n",
    "print (\"time.time(): %f \" %  time.time())\n",
    "print( time.localtime( time.time() ))\n",
    "print (time.asctime( time.localtime(time.time()) ))"
   ]
  },
  {
   "cell_type": "markdown",
   "metadata": {},
   "source": [
    "4： 格式化日期\n",
    "- 我们可以使用 time 模块的 strftime 方法来格式化日期\n",
    "- 也可以用 mktime 方法将格式字符串转换为时间戳"
   ]
  },
  {
   "cell_type": "code",
   "execution_count": 16,
   "metadata": {},
   "outputs": [
    {
     "name": "stdout",
     "output_type": "stream",
     "text": [
      "2017-12-25 13:00:34\n",
      "Mon Dec 25 13:00:34 2017\n",
      "1459175064.0\n"
     ]
    }
   ],
   "source": [
    "import time\n",
    "\n",
    "# 格式化成2016-03-20 11:45:39形式\n",
    "print (time.strftime(\"%Y-%m-%d %H:%M:%S\", time.localtime()) )\n",
    "\n",
    "# 格式化成Sat Mar 28 22:24:24 2016形式\n",
    "print (time.strftime(\"%a %b %d %H:%M:%S %Y\", time.localtime()) )\n",
    "  \n",
    "# 将格式字符串转换为时间戳\n",
    "a = \"Sat Mar 28 22:24:24 2016\"\n",
    "print (time.mktime(time.strptime(a,\"%a %b %d %H:%M:%S %Y\")))"
   ]
  },
  {
   "cell_type": "markdown",
   "metadata": {},
   "source": [
    "|python中时间日期格式化符号：| 含义\n",
    "--- | :-----:|:---:\n",
    "| %y |两位数的年份表示（00-99）\n",
    "| %Y |四位数的年份表示（000-9999）\n",
    "| %m |月份（01-12）\n",
    "| %d |月内中的一天（0-31）\n",
    "| %H |24小时制小时数（0-23）\n",
    "| %I | 12小时制小时数（01-12）\n",
    "| %M |分钟数（00=59）\n",
    "| %S |秒（00-59）\n",
    "| %a |本地简化星期名称\n",
    "| %A |本地完整星期名称\n",
    "| %b |本地简化的月份名称\n",
    "| %B  |本地完整的月份名称\n",
    "| %c |本地相应的日期表示和时间表示\n",
    "| %j |年内的一天（001-366）\n",
    "| %p |本地A.M.或P.M.的等价符\n",
    "| %U |一年中的星期数（00-53）星期天为星期的开始\n",
    "| %w |星期（0-6），星期天为星期的开始\n",
    "| %W |一年中的星期数（00-53）星期一为星期的开始\n",
    "| %x |本地相应的日期表示\n",
    "| %X |本地相应的时间表示\n",
    "| %Z |当前时区的名称\n",
    "| %% |%号本身"
   ]
  },
  {
   "cell_type": "markdown",
   "metadata": {},
   "source": [
    "5: time.sleep()睡眠时间"
   ]
  },
  {
   "cell_type": "code",
   "execution_count": 2,
   "metadata": {},
   "outputs": [
    {
     "name": "stdout",
     "output_type": "stream",
     "text": [
      "Wait for 5 seconds\n",
      "# Wait for 300 milliseconds\n"
     ]
    }
   ],
   "source": [
    "import time\n",
    " \n",
    "# Wait for 5 seconds\n",
    "time.sleep(5)\n",
    "print('Wait for 5 seconds')\n",
    " \n",
    "# Wait for 300 milliseconds毫秒\n",
    "# .3 can also be used\n",
    "time.sleep(.300)\n",
    "print('# Wait for 300 milliseconds')"
   ]
  },
  {
   "cell_type": "markdown",
   "metadata": {},
   "source": [
    "### B:calender模块"
   ]
  },
  {
   "cell_type": "markdown",
   "metadata": {},
   "source": [
    "1：获取某年或某月日历"
   ]
  },
  {
   "cell_type": "code",
   "execution_count": 25,
   "metadata": {
    "collapsed": true
   },
   "outputs": [
    {
     "name": "stdout",
     "output_type": "stream",
     "text": [
      "以下输出2017年的日历:\n",
      "                                  2017\n",
      "\n",
      "      January                   February                   March\n",
      "Mo Tu We Th Fr Sa Su      Mo Tu We Th Fr Sa Su      Mo Tu We Th Fr Sa Su\n",
      "                   1             1  2  3  4  5             1  2  3  4  5\n",
      " 2  3  4  5  6  7  8       6  7  8  9 10 11 12       6  7  8  9 10 11 12\n",
      " 9 10 11 12 13 14 15      13 14 15 16 17 18 19      13 14 15 16 17 18 19\n",
      "16 17 18 19 20 21 22      20 21 22 23 24 25 26      20 21 22 23 24 25 26\n",
      "23 24 25 26 27 28 29      27 28                     27 28 29 30 31\n",
      "30 31\n",
      "\n",
      "       April                      May                       June\n",
      "Mo Tu We Th Fr Sa Su      Mo Tu We Th Fr Sa Su      Mo Tu We Th Fr Sa Su\n",
      "                1  2       1  2  3  4  5  6  7                1  2  3  4\n",
      " 3  4  5  6  7  8  9       8  9 10 11 12 13 14       5  6  7  8  9 10 11\n",
      "10 11 12 13 14 15 16      15 16 17 18 19 20 21      12 13 14 15 16 17 18\n",
      "17 18 19 20 21 22 23      22 23 24 25 26 27 28      19 20 21 22 23 24 25\n",
      "24 25 26 27 28 29 30      29 30 31                  26 27 28 29 30\n",
      "\n",
      "        July                     August                  September\n",
      "Mo Tu We Th Fr Sa Su      Mo Tu We Th Fr Sa Su      Mo Tu We Th Fr Sa Su\n",
      "                1  2          1  2  3  4  5  6                   1  2  3\n",
      " 3  4  5  6  7  8  9       7  8  9 10 11 12 13       4  5  6  7  8  9 10\n",
      "10 11 12 13 14 15 16      14 15 16 17 18 19 20      11 12 13 14 15 16 17\n",
      "17 18 19 20 21 22 23      21 22 23 24 25 26 27      18 19 20 21 22 23 24\n",
      "24 25 26 27 28 29 30      28 29 30 31               25 26 27 28 29 30\n",
      "31\n",
      "\n",
      "      October                   November                  December\n",
      "Mo Tu We Th Fr Sa Su      Mo Tu We Th Fr Sa Su      Mo Tu We Th Fr Sa Su\n",
      "                   1             1  2  3  4  5                   1  2  3\n",
      " 2  3  4  5  6  7  8       6  7  8  9 10 11 12       4  5  6  7  8  9 10\n",
      " 9 10 11 12 13 14 15      13 14 15 16 17 18 19      11 12 13 14 15 16 17\n",
      "16 17 18 19 20 21 22      20 21 22 23 24 25 26      18 19 20 21 22 23 24\n",
      "23 24 25 26 27 28 29      27 28 29 30               25 26 27 28 29 30 31\n",
      "30 31\n",
      "\n",
      "以下输出2017年12月份的日历:\n",
      "   December 2017\n",
      "Mo Tu We Th Fr Sa Su\n",
      "             1  2  3\n",
      " 4  5  6  7  8  9 10\n",
      "11 12 13 14 15 16 17\n",
      "18 19 20 21 22 23 24\n",
      "25 26 27 28 29 30 31\n",
      "\n"
     ]
    }
   ],
   "source": [
    "import calendar\n",
    "\n",
    "cal_year = calendar.calendar(2017)\n",
    "print (\"以下输出2017年的日历:\")\n",
    "print (cal_year)\n",
    "\n",
    "cal_month = calendar.month(2017, 12)\n",
    "print (\"以下输出2017年12月份的日历:\")\n",
    "print (cal_month)\n"
   ]
  },
  {
   "cell_type": "markdown",
   "metadata": {},
   "source": [
    "2：其他用法："
   ]
  },
  {
   "cell_type": "markdown",
   "metadata": {},
   "source": [
    "序号| 码                      | 解释\n",
    ":--- | :---------------------------------: | :-------------------------|\n",
    "1\t|calendar.calendar(year,w=2,l=1,c=6)|返回一个多行字符串格式的year年年历，3个月一行，间隔距离为c。 每日宽度间隔为w字符。每行长度为21* W+18+2* C。l是每星期行数。\n",
    "2\t|calendar.firstweekday( )|返回当前每周起始日期的设置。默认情况下，首次载入caendar模块时返回0，即星期一。\n",
    "3\t|calendar.isleap(year)|是闰年返回True，否则为false。\n",
    "4\t|calendar.leapdays(y1,y2)|返回在Y1，Y2两年之间的闰年总数。\n",
    "5\t|calendar.month(year,month,w=2,l=1)|返回一个多行字符串格式的year年month月日历，两行标题，一周一行。每日宽度间隔为w字符。每行的长度为7\\* w+6。l是每星期的行数。\n",
    "6 |calendar.monthcalendar(year,month)|返回一个整数的单层嵌套列表。每个子列表装载代表一个星期的整数。Year年month月外的日期都设为0;范围内的日子都由该月第几日表示，从1开始。\n",
    "7\t|calendar.monthrange(year,month)|返回两个整数。第一个是该月的星期几的日期码，第二个是该月的日期码。日从0（星期一）到6（星期日）;月从1到12。\n",
    "8\t|calendar.prcal(year,w=2,l=1,c=6)|相当于 print calendar.calendar(year,w,l,c).\n",
    "9\t|calendar.prmonth(year,month,w=2,l=1)|相当于 print calendar.calendar（year，w，l，c）。\n",
    "10\t|calendar.setfirstweekday(weekday)|设置每周的起始日期码。0（星期一）到6（星期日）。\n",
    "11\t|calendar.timegm(tupletime)|和time.gmtime相反：接受一个时间元组形式，返回该时刻的时间辍（1970纪元后经过的浮点秒数）。\n",
    "12\t|calendar.weekday(year,month,day)|返回给定日期的日期码。0（星期一）到6（星期日）。月份为 1（一月） 到 12（12月）。\n"
   ]
  }
 ],
 "metadata": {
  "kernelspec": {
   "display_name": "Python 3",
   "language": "python",
   "name": "python3"
  },
  "language_info": {
   "codemirror_mode": {
    "name": "ipython",
    "version": 3
   },
   "file_extension": ".py",
   "mimetype": "text/x-python",
   "name": "python",
   "nbconvert_exporter": "python",
   "pygments_lexer": "ipython3",
   "version": "3.6.3"
  }
 },
 "nbformat": 4,
 "nbformat_minor": 2
}
