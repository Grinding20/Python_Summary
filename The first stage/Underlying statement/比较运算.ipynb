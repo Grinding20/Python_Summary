{
 "cells": [
  {
   "cell_type": "markdown",
   "metadata": {},
   "source": [
    "### 比较运算符"
   ]
  },
  {
   "cell_type": "markdown",
   "metadata": {},
   "source": [
    "#### Content:\n",
    "- python提供了多个比较运算符\n",
    "- 关于两个比较对象的说明\n",
    "- 比较运算进阶\n",
    "- 比较运算符的组合"
   ]
  },
  {
   "cell_type": "markdown",
   "metadata": {},
   "source": [
    "#### A:python提供了多个比较运算符\n",
    "\n",
    "代码     |      运算符      |    说明        |     表达式值\n",
    ":------: | :--------------: | :--------------: | :----------:\n",
    "print(10 == 10)      |'=='|等于|True\n",
    "print(10 != 10)       |'!='|不等于|False\n",
    "print(10 > 5.1)      |'>'|大于|True\n",
    "print(10.2 < 5)       |'<'|小于|False\n",
    "print(5 >= 10)       |'>='|大于等于|False\n",
    "print(5 <= 10)       |'<='|小于等于|True"
   ]
  },
  {
   "cell_type": "markdown",
   "metadata": {},
   "source": [
    "#### B:关于两个比较对象的说明：\n",
    "- 比较运算符可以进行**数值，变量**的比较。\n",
    "- 比较运算符可以进行**字符串**之间的比较，会得到基于字母顺序的比较结果。\n",
    "- 但是python不允许用除了==及!=外的比较运算符对不同类型的对象进行比较。即：**比较运算符比较的对象，其值的类型须一致（判断相等或不等时可不一致）**"
   ]
  },
  {
   "cell_type": "code",
   "execution_count": 2,
   "metadata": {},
   "outputs": [
    {
     "name": "stdout",
     "output_type": "stream",
     "text": [
      "False\n",
      "True\n",
      "False\n",
      "True\n"
     ]
    },
    {
     "ename": "TypeError",
     "evalue": "'>=' not supported between instances of 'str' and 'int'",
     "output_type": "error",
     "traceback": [
      "\u001b[1;31m---------------------------------------------------------------------------\u001b[0m",
      "\u001b[1;31mTypeError\u001b[0m                                 Traceback (most recent call last)",
      "\u001b[1;32m<ipython-input-2-cfb573a8060e>\u001b[0m in \u001b[0;36m<module>\u001b[1;34m()\u001b[0m\n\u001b[0;32m      3\u001b[0m \u001b[0mprint\u001b[0m\u001b[1;33m(\u001b[0m\u001b[1;34m'red'\u001b[0m \u001b[1;33m==\u001b[0m \u001b[1;36m10\u001b[0m\u001b[1;33m)\u001b[0m          \u001b[1;31m#可以，不同类型，所以False\u001b[0m\u001b[1;33m\u001b[0m\u001b[0m\n\u001b[0;32m      4\u001b[0m \u001b[0mprint\u001b[0m\u001b[1;33m(\u001b[0m\u001b[1;34m'red'\u001b[0m \u001b[1;33m!=\u001b[0m \u001b[1;36m10\u001b[0m\u001b[1;33m)\u001b[0m\u001b[1;33m\u001b[0m\u001b[0m\n\u001b[1;32m----> 5\u001b[1;33m \u001b[0mprint\u001b[0m\u001b[1;33m(\u001b[0m\u001b[1;34m'red'\u001b[0m \u001b[1;33m>=\u001b[0m \u001b[1;36m10\u001b[0m\u001b[1;33m)\u001b[0m          \u001b[1;31m#错误，不同类型\u001b[0m\u001b[1;33m\u001b[0m\u001b[0m\n\u001b[0m",
      "\u001b[1;31mTypeError\u001b[0m: '>=' not supported between instances of 'str' and 'int'"
     ]
    }
   ],
   "source": [
    "print('apple' > 'banana')\n",
    "print('red' == 'red')\n",
    "print('red' == 10)          #可以，不同类型，所以False\n",
    "print('red' != 10)  \n",
    "print('red' >= 10)          #错误，不同类型"
   ]
  },
  {
   "cell_type": "markdown",
   "metadata": {},
   "source": [
    "#### C:比较运算进阶 "
   ]
  },
  {
   "cell_type": "code",
   "execution_count": 3,
   "metadata": {
    "scrolled": true
   },
   "outputs": [
    {
     "name": "stdout",
     "output_type": "stream",
     "text": [
      "False\n",
      "请输入一个整数，回车结束。50\n",
      "False\n"
     ]
    }
   ],
   "source": [
    "print(4078//211 > 4078 % 985)\n",
    "print(4078//211 > int(input('请输入一个整数，回车结束。')))"
   ]
  },
  {
   "cell_type": "markdown",
   "metadata": {},
   "source": [
    "- 比较运算符可以进行**表达式，函数**的比较。\n",
    "  - 对表达式，则程序会先计算出表达式的值，然后进行比较；\n",
    "  - 对函数，则程序会先得到函数的值(术语叫函数的返回值)，然后再进行比较。"
   ]
  },
  {
   "cell_type": "markdown",
   "metadata": {},
   "source": [
    "#### D:比较运算符的组合："
   ]
  },
  {
   "cell_type": "code",
   "execution_count": 2,
   "metadata": {},
   "outputs": [
    {
     "name": "stdout",
     "output_type": "stream",
     "text": [
      "here 1.\n",
      "here 2.\n",
      "False\n"
     ]
    }
   ],
   "source": [
    "x=407.8\n",
    "y=4078\n",
    "if 0<x<1000:\n",
    "    print('here 1.')\n",
    "if -5<0<x<y<x*y:\n",
    "    print('here 2.')\n",
    "print(x==407.8<y==40*78<=10000)"
   ]
  },
  {
   "cell_type": "markdown",
   "metadata": {},
   "source": [
    "- 多个比较运算符还可以组合，形成复杂的条件表达式，\n",
    "- 但是为了程序的易读性，并不建议在一个条件表达式中，用太多的比较运算符的组合。"
   ]
  }
 ],
 "metadata": {
  "kernelspec": {
   "display_name": "Python 3",
   "language": "python",
   "name": "python3"
  },
  "language_info": {
   "codemirror_mode": {
    "name": "ipython",
    "version": 3
   },
   "file_extension": ".py",
   "mimetype": "text/x-python",
   "name": "python",
   "nbconvert_exporter": "python",
   "pygments_lexer": "ipython3",
   "version": "3.6.3"
  }
 },
 "nbformat": 4,
 "nbformat_minor": 2
}
