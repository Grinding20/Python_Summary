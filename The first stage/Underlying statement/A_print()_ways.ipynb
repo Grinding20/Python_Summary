{
 "cells": [
  {
   "cell_type": "markdown",
   "metadata": {},
   "source": [
    "## print()函数\n"
   ]
  },
  {
   "cell_type": "markdown",
   "metadata": {},
   "source": [
    "- 带多参数的print()函数 \n",
    "  - 带多个参数的print()函数可以同时打印多个对象，参数可以是不同类型，每个打印出的对象其实是对应参数的值。"
   ]
  },
  {
   "cell_type": "code",
   "execution_count": 1,
   "metadata": {
    "scrolled": true
   },
   "outputs": [
    {
     "name": "stdout",
     "output_type": "stream",
     "text": [
      "多个参数 5 69 1.0\n"
     ]
    }
   ],
   "source": [
    "print('多个参数', 5, 4078%211, 407.8//211)"
   ]
  },
  {
   "cell_type": "markdown",
   "metadata": {},
   "source": [
    "- print()可以打印多行文本"
   ]
  },
  {
   "cell_type": "code",
   "execution_count": 4,
   "metadata": {},
   "outputs": [
    {
     "name": "stdout",
     "output_type": "stream",
     "text": [
      "=====游戏菜单=====\n",
      "  1. 游戏说明\n",
      "  2. 开始游戏\n",
      "  3. 退出游戏\n",
      "  4. 制作团队\n",
      "=====游戏菜单=====\n"
     ]
    }
   ],
   "source": [
    "def menu():#游戏菜单的打印制作\n",
    "    print('''=====游戏菜单=====\n",
    "  1. 游戏说明\n",
    "  2. 开始游戏\n",
    "  3. 退出游戏\n",
    "  4. 制作团队\n",
    "=====游戏菜单=====''')\n",
    "             \n",
    "#主程序，为测试函数结果\n",
    "menu()"
   ]
  },
  {
   "cell_type": "markdown",
   "metadata": {},
   "source": [
    "### print()中的方法：（可以用于控制打印，使格式统一）\n",
    "- powershell中这样介绍：\n",
    "  \n",
    "    print(value, ..., sep=' ', end='\\n', file=sys.stdout, flush=False)\n",
    "    - Prints the values to a stream, or to sys.stdout by default.\n",
    "      - file:  a file-like object (stream); defaults to the current sys.stdout.\n",
    "      - sep:   string inserted between values, default a space. \n",
    "      - end:   string appended after the last value, default a newline.\n",
    "      - flush: whether to forcibly flush the stream.\n",
    "    \n",
    "\n",
    "- ** 最常用的是sep与end：**"
   ]
  },
  {
   "cell_type": "markdown",
   "metadata": {},
   "source": [
    "#### A:sep\n",
    "- sep是参数关键字，是separator的缩写，意思是分隔符。\n",
    "- 用来控制当前print()函数的分隔符。\n",
    "- 用法：sep = ','是一个赋值语句，,被赋值给sep，此时，打印多个对象时，对象间的分隔符就被指定为,。\n",
    "- sep参数的默认值是一个空格。\n",
    "- 另外，带参数关键字的参数只能出现在没有关键字的参数(称为位置参数)的后面。"
   ]
  },
  {
   "cell_type": "code",
   "execution_count": 1,
   "metadata": {},
   "outputs": [
    {
     "name": "stdout",
     "output_type": "stream",
     "text": [
      "多个参数 5 69 1.0\n",
      "多个参数  5  69  1.0\n",
      "多个参数,5,69,1.0\n",
      "多个参数 5 69 1.0\n",
      "多个参数 ,5 ,69 ,1.0\n",
      "多个参数5691.0\n"
     ]
    }
   ],
   "source": [
    "print('多个参数', 5, 4078%211, 407.8//211)\n",
    "print('多个参数', 5, 4078%211, 407.8//211, sep = '  ')\n",
    "print('多个参数', 5, 4078%211, 407.8//211, sep = ',')\n",
    "print('多个参数', 5, 4078%211, 407.8//211, sep = ' ')\n",
    "print('多个参数', 5, 4078%211, 407.8//211, sep = ' ,')\n",
    "print('多个参数', 5, 4078%211, 407.8//211, sep = '')"
   ]
  },
  {
   "cell_type": "code",
   "execution_count": 2,
   "metadata": {},
   "outputs": [
    {
     "ename": "SyntaxError",
     "evalue": "positional argument follows keyword argument (<ipython-input-2-17a1fd0b0a1a>, line 2)",
     "output_type": "error",
     "traceback": [
      "\u001b[1;36m  File \u001b[1;32m\"<ipython-input-2-17a1fd0b0a1a>\"\u001b[1;36m, line \u001b[1;32m2\u001b[0m\n\u001b[1;33m    print('多个参数', 5, 4078%211, sep = ',', 407.8//211)\u001b[0m\n\u001b[1;37m                                                 ^\u001b[0m\n\u001b[1;31mSyntaxError\u001b[0m\u001b[1;31m:\u001b[0m positional argument follows keyword argument\n"
     ]
    }
   ],
   "source": [
    "#最后一点说明\n",
    "print('多个参数', 5, 4078%211, sep = ',', 407.8//211)"
   ]
  },
  {
   "cell_type": "markdown",
   "metadata": {},
   "source": [
    "##### B:end\n",
    "- end是另一个参数关键字。\n",
    "- 用来控制当前print语句行尾打印字符的值。\n",
    "- 用法：end = ','是一个赋值语句，,被赋值给end，此时，打印多个对象时，对象间的换行符就被指定为,。\n",
    "- end参数的默认值是打印换行。"
   ]
  },
  {
   "cell_type": "markdown",
   "metadata": {},
   "source": [
    "##### C：举例：九九乘法表的格式规范"
   ]
  },
  {
   "cell_type": "code",
   "execution_count": 2,
   "metadata": {
    "scrolled": false
   },
   "outputs": [
    {
     "name": "stdout",
     "output_type": "stream",
     "text": [
      "| 1 x 1 = 1 || 1 x 2 = 2 || 1 x 3 = 3 || 1 x 4 = 4 || 1 x 5 = 5 || 1 x 6 = 6 || 1 x 7 = 7 || 1 x 8 = 8 || 1 x 9 = 9 |\n",
      "| 2 x 1 = 2 || 2 x 2 = 4 || 2 x 3 = 6 || 2 x 4 = 8 || 2 x 5 = 10 || 2 x 6 = 12 || 2 x 7 = 14 || 2 x 8 = 16 || 2 x 9 = 18 |\n",
      "| 3 x 1 = 3 || 3 x 2 = 6 || 3 x 3 = 9 || 3 x 4 = 12 || 3 x 5 = 15 || 3 x 6 = 18 || 3 x 7 = 21 || 3 x 8 = 24 || 3 x 9 = 27 |\n",
      "| 4 x 1 = 4 || 4 x 2 = 8 || 4 x 3 = 12 || 4 x 4 = 16 || 4 x 5 = 20 || 4 x 6 = 24 || 4 x 7 = 28 || 4 x 8 = 32 || 4 x 9 = 36 |\n",
      "| 5 x 1 = 5 || 5 x 2 = 10 || 5 x 3 = 15 || 5 x 4 = 20 || 5 x 5 = 25 || 5 x 6 = 30 || 5 x 7 = 35 || 5 x 8 = 40 || 5 x 9 = 45 |\n",
      "| 6 x 1 = 6 || 6 x 2 = 12 || 6 x 3 = 18 || 6 x 4 = 24 || 6 x 5 = 30 || 6 x 6 = 36 || 6 x 7 = 42 || 6 x 8 = 48 || 6 x 9 = 54 |\n",
      "| 7 x 1 = 7 || 7 x 2 = 14 || 7 x 3 = 21 || 7 x 4 = 28 || 7 x 5 = 35 || 7 x 6 = 42 || 7 x 7 = 49 || 7 x 8 = 56 || 7 x 9 = 63 |\n",
      "| 8 x 1 = 8 || 8 x 2 = 16 || 8 x 3 = 24 || 8 x 4 = 32 || 8 x 5 = 40 || 8 x 6 = 48 || 8 x 7 = 56 || 8 x 8 = 64 || 8 x 9 = 72 |\n",
      "| 9 x 1 = 9 || 9 x 2 = 18 || 9 x 3 = 27 || 9 x 4 = 36 || 9 x 5 = 45 || 9 x 6 = 54 || 9 x 7 = 63 || 9 x 8 = 72 || 9 x 9 = 81 |\n"
     ]
    }
   ],
   "source": [
    "#9*9乘法表\n",
    "for i in range(1, 10):\n",
    "    for j in range(1, 10):\n",
    "        print('|', i, 'x', j, '=', i*j, '|', end='')\n",
    "    print()"
   ]
  },
  {
   "cell_type": "code",
   "execution_count": 8,
   "metadata": {
    "scrolled": false
   },
   "outputs": [
    {
     "name": "stdout",
     "output_type": "stream",
     "text": [
      "|1 x 1 =  1||1 x 2 =  2||1 x 3 =  3||1 x 4 =  4||1 x 5 =  5||1 x 6 =  6||1 x 7 =  7||1 x 8 =  8||1 x 9 =  9|\n",
      "|2 x 1 =  2||2 x 2 =  4||2 x 3 =  6||2 x 4 =  8||2 x 5 = 10||2 x 6 = 12||2 x 7 = 14||2 x 8 = 16||2 x 9 = 18|\n",
      "|3 x 1 =  3||3 x 2 =  6||3 x 3 =  9||3 x 4 = 12||3 x 5 = 15||3 x 6 = 18||3 x 7 = 21||3 x 8 = 24||3 x 9 = 27|\n",
      "|4 x 1 =  4||4 x 2 =  8||4 x 3 = 12||4 x 4 = 16||4 x 5 = 20||4 x 6 = 24||4 x 7 = 28||4 x 8 = 32||4 x 9 = 36|\n",
      "|5 x 1 =  5||5 x 2 = 10||5 x 3 = 15||5 x 4 = 20||5 x 5 = 25||5 x 6 = 30||5 x 7 = 35||5 x 8 = 40||5 x 9 = 45|\n",
      "|6 x 1 =  6||6 x 2 = 12||6 x 3 = 18||6 x 4 = 24||6 x 5 = 30||6 x 6 = 36||6 x 7 = 42||6 x 8 = 48||6 x 9 = 54|\n",
      "|7 x 1 =  7||7 x 2 = 14||7 x 3 = 21||7 x 4 = 28||7 x 5 = 35||7 x 6 = 42||7 x 7 = 49||7 x 8 = 56||7 x 9 = 63|\n",
      "|8 x 1 =  8||8 x 2 = 16||8 x 3 = 24||8 x 4 = 32||8 x 5 = 40||8 x 6 = 48||8 x 7 = 56||8 x 8 = 64||8 x 9 = 72|\n",
      "|9 x 1 =  9||9 x 2 = 18||9 x 3 = 27||9 x 4 = 36||9 x 5 = 45||9 x 6 = 54||9 x 7 = 63||9 x 8 = 72||9 x 9 = 81|\n"
     ]
    }
   ],
   "source": [
    "for i in range(1, 10):\n",
    "    for j in range(1, 10):\n",
    "        print('|{} x {} = {:2}|'.format(i, j, i*j), end = '')\n",
    "    print()"
   ]
  },
  {
   "cell_type": "markdown",
   "metadata": {},
   "source": [
    "#### 本段函数中利用到了format()来进行字符串的格式化，可见，利用字符串的format()函数也可以达到“控制打印，使得格式统一的效果”\n",
    "- 值得注意的区分是，这两种方法针对的对象不相同。\n",
    "- 1：print()函数中的sep()与end()针对的是一个print()命令中的多个字符串。\n",
    "- 2：format()方法针对的是单个字符串，且在任何情况中对于字符串均适用。（即非print()中的其他情况）"
   ]
  },
  {
   "cell_type": "code",
   "execution_count": 11,
   "metadata": {},
   "outputs": [
    {
     "name": "stdout",
     "output_type": "stream",
     "text": [
      "|1 x 1 =  1|\n",
      "|2 x 1 =  2||2 x 2 =  4|\n",
      "|3 x 1 =  3||3 x 2 =  6||3 x 3 =  9|\n",
      "|4 x 1 =  4||4 x 2 =  8||4 x 3 = 12||4 x 4 = 16|\n",
      "|5 x 1 =  5||5 x 2 = 10||5 x 3 = 15||5 x 4 = 20||5 x 5 = 25|\n",
      "|6 x 1 =  6||6 x 2 = 12||6 x 3 = 18||6 x 4 = 24||6 x 5 = 30||6 x 6 = 36|\n",
      "|7 x 1 =  7||7 x 2 = 14||7 x 3 = 21||7 x 4 = 28||7 x 5 = 35||7 x 6 = 42||7 x 7 = 49|\n",
      "|8 x 1 =  8||8 x 2 = 16||8 x 3 = 24||8 x 4 = 32||8 x 5 = 40||8 x 6 = 48||8 x 7 = 56||8 x 8 = 64|\n",
      "|9 x 1 =  9||9 x 2 = 18||9 x 3 = 27||9 x 4 = 36||9 x 5 = 45||9 x 6 = 54||9 x 7 = 63||9 x 8 = 72||9 x 9 = 81|\n"
     ]
    }
   ],
   "source": [
    "for i in range (1,10):\n",
    "    for j in range(1,10):\n",
    "        print('|{} x {} = {:2}|'.format(i, j, i*j), end = '')\n",
    "        if i==j:\n",
    "            print('')\n",
    "            break"
   ]
  },
  {
   "cell_type": "markdown",
   "metadata": {},
   "source": [
    "#### 该段利用循环中的break实现了终极版的九九乘法表的打印"
   ]
  }
 ],
 "metadata": {
  "kernelspec": {
   "display_name": "Python 3",
   "language": "python",
   "name": "python3"
  },
  "language_info": {
   "codemirror_mode": {
    "name": "ipython",
    "version": 3
   },
   "file_extension": ".py",
   "mimetype": "text/x-python",
   "name": "python",
   "nbconvert_exporter": "python",
   "pygments_lexer": "ipython3",
   "version": "3.6.3"
  }
 },
 "nbformat": 4,
 "nbformat_minor": 2
}
