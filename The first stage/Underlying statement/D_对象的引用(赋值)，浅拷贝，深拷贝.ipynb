{
 "cells": [
  {
   "cell_type": "markdown",
   "metadata": {},
   "source": [
    "# 对象的引用(赋值)，浅拷贝，深拷贝#"
   ]
  },
  {
   "cell_type": "markdown",
   "metadata": {},
   "source": [
    "### 对象的引用(赋值)\n",
    "- 对象的赋值实际上是对象的引用，创建一个对象并把它赋值给一个变量时，该变量是指向该对象的引用，其id（）返回值保持一致\n",
    "- python语言中，赋值就是让一个变量/对象指向一个具体值，即常量，当使用变量/对象值运算时候，就取出其指向的常量具体值来参与运算。\n",
    "- 为变量/对象再次赋值就是更改变量/对象的指向。\n",
    "- 一个变量/对象，在一个时刻，只能指向一个常量。\n",
    "- 一个常量，可以被多个变量/对象指向。"
   ]
  },
  {
   "cell_type": "markdown",
   "metadata": {},
   "source": [
    "#### 1.一般赋值"
   ]
  },
  {
   "cell_type": "code",
   "execution_count": 12,
   "metadata": {
    "scrolled": true
   },
   "outputs": [
    {
     "name": "stdout",
     "output_type": "stream",
     "text": [
      "1513644480 1513644480\n",
      "------------------------------\n",
      "1513644800 1513644480\n"
     ]
    }
   ],
   "source": [
    "number_1 = 10\n",
    "number_2 = number_1\n",
    "print(id(number_1), id(number_2))\n",
    "print('-'*30)\n",
    "number_1 = 20\n",
    "print(id(number_1), id(number_2))"
   ]
  },
  {
   "cell_type": "markdown",
   "metadata": {},
   "source": [
    "#### 2.链式赋值"
   ]
  },
  {
   "cell_type": "code",
   "execution_count": 1,
   "metadata": {},
   "outputs": [
    {
     "name": "stdout",
     "output_type": "stream",
     "text": [
      "123 123\n"
     ]
    }
   ],
   "source": [
    "x = y = 123\n",
    "print(x,y)"
   ]
  },
  {
   "cell_type": "markdown",
   "metadata": {},
   "source": [
    "#### 3.复合赋值（自运算）"
   ]
  },
  {
   "cell_type": "markdown",
   "metadata": {},
   "source": [
    "运算符    |  含义           \n",
    " :--------: | :---------:  \n",
    "+=|加法赋值|\n",
    "-=|减法赋值|\n",
    "\\*=|乘法赋值|\n",
    "/=|除法赋值|\n",
    "//=|整除赋值|\n",
    "%=|取模赋值|\n",
    "\\*\\*=|幂运算赋值|\n"
   ]
  },
  {
   "cell_type": "markdown",
   "metadata": {},
   "source": [
    "#### 4.解耦"
   ]
  },
  {
   "cell_type": "code",
   "execution_count": 17,
   "metadata": {},
   "outputs": [
    {
     "name": "stdout",
     "output_type": "stream",
     "text": [
      "1 2\n",
      "--------------------\n",
      "4 3\n"
     ]
    }
   ],
   "source": [
    "a,b = 1,2\n",
    "print(a,b)\n",
    "print('-'*20)\n",
    "a,b = (3,4)\n",
    "a,b = b,a\n",
    "print(a,b)"
   ]
  },
  {
   "cell_type": "markdown",
   "metadata": {},
   "source": [
    "### 对象的浅拷贝\n",
    "- 对象的赋值引用同一对象，即不拷贝对象。\n",
    "- python内置浅拷贝方法copy()，** 无需导入copy模块**可以对可变序列进行浅拷贝复制，用法是：可变序列.copy。\n",
    "- 称为浅拷贝(shallow copy)的原因，是因为拷贝的确实不够深入。在实际使用中，浅拷贝多用切片来代替（也是浅拷贝）。"
   ]
  },
  {
   "cell_type": "code",
   "execution_count": 13,
   "metadata": {
    "scrolled": true
   },
   "outputs": [
    {
     "name": "stdout",
     "output_type": "stream",
     "text": [
      "1998893719880 1998893522760 1998893017928 1998893158984\n",
      "[9, 2, 3, 4, 5] [1, 2, 3, 4, 5] [1, 2, 3, 4, 5] [1, 2, 3, 4, 5]\n"
     ]
    }
   ],
   "source": [
    "numbers_1 = [1,2,3,4,5]\n",
    "numbers_2 = numbers_1.copy()#用法是：可变序列.copy\n",
    "numbers_3 = numbers_1[:]#在实际使用中，浅拷贝多用切片来代替（也是浅拷贝）\n",
    "numbers_4 = copy.copy(numbers_1)#利用copy.copy来拷贝函数\n",
    "print(id(numbers_1), id(numbers_2), id(numbers_3),id(numbers_4))\n",
    "numbers_1[0] = 9\n",
    "print(numbers_1, numbers_2, numbers_3,numbers_4)"
   ]
  },
  {
   "cell_type": "markdown",
   "metadata": {},
   "source": [
    "### 对象的深拷贝\n",
    "- 若要递归拷贝对象中包含的子对象，利用深拷贝\n",
    "- 要使用deepcopy()方法，**需要先导入copy模块**，基本用法为：copy.deepcopy(对象)，实现深拷贝。"
   ]
  },
  {
   "cell_type": "code",
   "execution_count": 14,
   "metadata": {
    "scrolled": true
   },
   "outputs": [
    {
     "name": "stdout",
     "output_type": "stream",
     "text": [
      "1998893720136 1998893720328 1998893719880\n",
      "[1, 2, 3, 4, [5, 8, 7]] [1, 2, 3, 4, [5, 8, 7]] [1, 2, 3, 4, [5, 8, 7]]\n"
     ]
    }
   ],
   "source": [
    "#浅拷贝无法解决\n",
    "numbers_1 = [1,2,3,4,[9,8,7]]\n",
    "numbers_2 = numbers_1.copy()\n",
    "numbers_3 = numbers_1[:]\n",
    "print(id(numbers_1), id(numbers_2), id(numbers_3))\n",
    "\n",
    "numbers_1[4][0] = 5\n",
    "print(numbers_1, numbers_2, numbers_3)"
   ]
  },
  {
   "cell_type": "code",
   "execution_count": 15,
   "metadata": {
    "scrolled": true
   },
   "outputs": [
    {
     "name": "stdout",
     "output_type": "stream",
     "text": [
      "1998893721544 1998893158792\n",
      "[1, 2, 3, 4, [5, 8, 7]] [1, 2, 3, 4, [9, 8, 7]]\n"
     ]
    }
   ],
   "source": [
    "#利用深拷贝\n",
    "import copy\n",
    "\n",
    "numbers_1 = [1,2,3,4,[9,8,7]]\n",
    "numbers_2 = copy.deepcopy(numbers_1)\n",
    "print(id(numbers_1), id(numbers_2))\n",
    "\n",
    "numbers_1[4][0] = 5\n",
    "print(numbers_1, numbers_2)"
   ]
  },
  {
   "cell_type": "markdown",
   "metadata": {},
   "source": [
    "### 补充：\n",
    "- python语言中每个对象由**标识（identity） 类型（type） 值（value）**标识\n",
    "- 标识用于唯一标识一个对象，使用内置函数**id()**即可返回其标识值\n",
    "- 类型用于表示其所属的数据类型（类），数据类型用于限定对象的取值范围，以及允许执行的处理操作，使用内置函数**type()**可以返回其所属数据类型\n",
    "- 值用于表示值，使用内置函数**print()**可以返回其值"
   ]
  },
  {
   "cell_type": "code",
   "execution_count": 1,
   "metadata": {},
   "outputs": [
    {
     "data": {
      "text/plain": [
       "1375104992"
      ]
     },
     "execution_count": 1,
     "metadata": {},
     "output_type": "execute_result"
    }
   ],
   "source": [
    "id(123)"
   ]
  },
  {
   "cell_type": "code",
   "execution_count": 2,
   "metadata": {},
   "outputs": [
    {
     "data": {
      "text/plain": [
       "int"
      ]
     },
     "execution_count": 2,
     "metadata": {},
     "output_type": "execute_result"
    }
   ],
   "source": [
    "type(123)"
   ]
  },
  {
   "cell_type": "code",
   "execution_count": 3,
   "metadata": {},
   "outputs": [
    {
     "name": "stdout",
     "output_type": "stream",
     "text": [
      "123\n"
     ]
    }
   ],
   "source": [
    "print(123)"
   ]
  }
 ],
 "metadata": {
  "kernelspec": {
   "display_name": "Python 3",
   "language": "python",
   "name": "python3"
  },
  "language_info": {
   "codemirror_mode": {
    "name": "ipython",
    "version": 3
   },
   "file_extension": ".py",
   "mimetype": "text/x-python",
   "name": "python",
   "nbconvert_exporter": "python",
   "pygments_lexer": "ipython3",
   "version": "3.6.3"
  }
 },
 "nbformat": 4,
 "nbformat_minor": 2
}
